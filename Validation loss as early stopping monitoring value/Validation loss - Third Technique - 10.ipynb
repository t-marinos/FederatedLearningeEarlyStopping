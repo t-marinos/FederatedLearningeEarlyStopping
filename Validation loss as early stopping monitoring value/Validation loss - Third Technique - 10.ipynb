{
  "cells": [
    {
      "cell_type": "code",
      "execution_count": 5,
      "metadata": {
        "id": "I-3cGQ0MlTs0"
      },
      "outputs": [],
      "source": [
        "import pandas as pd\n",
        "import numpy as np\n",
        "import random\n",
        "import tensorflow as tf\n",
        "import matplotlib.pyplot as plt\n",
        "from sklearn.metrics import f1_score\n",
        "from sklearn.metrics import roc_auc_score\n",
        "from sklearn.metrics import confusion_matrix\n",
        "from sklearn.model_selection import StratifiedKFold\n",
        "from sklearn.model_selection import train_test_split\n",
        "from sklearn.preprocessing import StandardScaler\n",
        "from keras.utils.vis_utils import plot_model\n",
        "from tensorflow.keras.layers import LSTM, Dense, Input, add, concatenate\n",
        "from tensorflow.keras.models import Model\n",
        "from tensorflow.keras import backend as K\n",
        "\n",
        "RANDOM_SEED = 42\n",
        "random.seed(RANDOM_SEED)\n"
      ]
    },
    {
      "cell_type": "code",
      "execution_count": 6,
      "metadata": {
        "id": "VWF4iOp-lTs3"
      },
      "outputs": [],
      "source": [
        "vitals = pd.read_csv('vitals.csv')  \n",
        "labs = pd.read_csv('labs.csv')  "
      ]
    },
    {
      "cell_type": "markdown",
      "metadata": {
        "id": "FDYtrzR8lTs4"
      },
      "source": [
        "Changing the date to datetime variable and setting indexes"
      ]
    },
    {
      "cell_type": "code",
      "execution_count": 7,
      "metadata": {
        "id": "-QhkuWeLlTs6"
      },
      "outputs": [],
      "source": [
        "vitals['charttime'] = pd.to_datetime(vitals['charttime'] , infer_datetime_format=True)\n",
        "labs['charttime'] = pd.to_datetime(labs['charttime'] , infer_datetime_format=True)"
      ]
    },
    {
      "cell_type": "code",
      "execution_count": 8,
      "metadata": {
        "id": "WPaXVeK5lTs7"
      },
      "outputs": [],
      "source": [
        "vitals_48hours_grouped = vitals.groupby('icustay_id').tail(48)"
      ]
    },
    {
      "cell_type": "code",
      "execution_count": 9,
      "metadata": {
        "id": "jNe7voVllTs7"
      },
      "outputs": [],
      "source": [
        "labs_48hours_grouped = labs.groupby('icustay_id').tail(6)"
      ]
    },
    {
      "cell_type": "code",
      "execution_count": 10,
      "metadata": {
        "colab": {
          "base_uri": "https://localhost:8080/"
        },
        "id": "yhPmYJrKlTs8",
        "outputId": "125cbab6-d536-4d41-a35e-840540be75b5"
      },
      "outputs": [
        {
          "name": "stdout",
          "output_type": "stream",
          "text": [
            "True\n",
            "True\n"
          ]
        }
      ],
      "source": [
        "print((vitals_48hours_grouped.icustay_id.value_counts() == 48).sum() == len(vitals_48hours_grouped) /48)\n",
        "print((labs_48hours_grouped.icustay_id.value_counts() == 6).sum() == len(labs_48hours_grouped) /6)"
      ]
    },
    {
      "cell_type": "code",
      "execution_count": 11,
      "metadata": {
        "id": "9vZnU6VDlTs8"
      },
      "outputs": [],
      "source": [
        "vitals_48hours_grouped = vitals_48hours_grouped.drop(['icustay_id','charttime'], axis=1)\n",
        "labs_48hours_grouped = labs_48hours_grouped.drop(['icustay_id','charttime'], axis=1)"
      ]
    },
    {
      "cell_type": "code",
      "execution_count": 12,
      "metadata": {
        "id": "6mZFNmq-lTs9"
      },
      "outputs": [],
      "source": [
        "vitals_features = vitals_48hours_grouped.iloc[:,:-1]\n",
        "vitals_labels = vitals_48hours_grouped.iloc[:,-1:].to_numpy().tolist()"
      ]
    },
    {
      "cell_type": "code",
      "execution_count": 13,
      "metadata": {
        "id": "zDd7DwWolTs-"
      },
      "outputs": [],
      "source": [
        "labs_features = labs_48hours_grouped.iloc[:,:-1]\n",
        "labs_labels = labs_48hours_grouped.iloc[:,-1:].to_numpy().tolist()"
      ]
    },
    {
      "cell_type": "markdown",
      "metadata": {
        "id": "j-Ecg1vNlTs-"
      },
      "source": [
        "# Federated Learning Setup"
      ]
    },
    {
      "cell_type": "code",
      "execution_count": 14,
      "metadata": {
        "id": "5gh5MUBClTs_"
      },
      "outputs": [],
      "source": [
        "import math\n",
        "\n",
        "def create_clients(labs_data, vitals_data, label_list, num_clients=4, initial='clients'):\n",
        "    ''' return: a dictionary with keys clients' names and value as \n",
        "                data shards - tuple of images and label lists.\n",
        "        args: \n",
        "            image_list: a list of numpy arrays of training images\n",
        "            label_list:a list of binarized labels for each image\n",
        "            num_client: number of fedrated members (clients)\n",
        "            initials: the clients'name prefix, e.g, clients_1 \n",
        "            \n",
        "    '''\n",
        "\n",
        "    #create a list of client names\n",
        "    client_names = ['{}_{}'.format(initial, i+1) for i in range(num_clients)]\n",
        "\n",
        "    #randomize the data\n",
        "    data = list(zip(labs_data, vitals_data))\n",
        "    data = list(zip(data, label_list))\n",
        "    random.shuffle(data)\n",
        "    client1_data_size = math.ceil(len(data) * 0.35)\n",
        "    client2_data_size = math.ceil(len(data) * 0.3) + client1_data_size\n",
        "    client3_data_size = math.ceil(len(data) * 0.2) + client2_data_size\n",
        "    client4_data_size = math.ceil(len(data) * 0.15) + client3_data_size\n",
        "\n",
        "    #shard data and place at each client\n",
        "    shards = [data[0:client1_data_size], data[client1_data_size:client2_data_size],\n",
        "              data[client2_data_size:client3_data_size],data[client3_data_size:client4_data_size]]\n",
        "    #size = len(data)//num_clients\n",
        "    #shards = [data[i:i + size] for i in range(0, size*num_clients, size)]\n",
        "\n",
        "    #number of clients must equal number of shards\n",
        "    assert(len(shards) == len(client_names))\n",
        "    \n",
        "    return  {client_names[i] : shards[i] for i in range(len(client_names))}"
      ]
    },
    {
      "cell_type": "markdown",
      "metadata": {
        "id": "u55N6JwKlTs_"
      },
      "source": [
        "## Reshaping data and preparing them for cross validation"
      ]
    },
    {
      "cell_type": "code",
      "execution_count": 15,
      "metadata": {
        "colab": {
          "base_uri": "https://localhost:8080/"
        },
        "id": "mj4usDJAlTs_",
        "outputId": "2eb130a5-1f52-4c87-df80-047db3ec3f51"
      },
      "outputs": [
        {
          "name": "stdout",
          "output_type": "stream",
          "text": [
            "(19414,)\n",
            "(19414,)\n"
          ]
        }
      ],
      "source": [
        "vitals_labels = np.array(vitals_labels)\n",
        "labs_labels = np.array(labs_labels)\n",
        "\n",
        "\n",
        "labs_labels_reshaped = np.reshape(labs_labels, (19414,6))\n",
        "labs_labels_reshaped = np.amax(labs_labels_reshaped, axis=1)\n",
        "\n",
        "vitals_labels_reshaped = np.reshape(vitals_labels, (19414,48))\n",
        "vitals_labels_reshaped = np.amax(vitals_labels_reshaped, axis=1)\n",
        "print(labs_labels_reshaped.shape)\n",
        "print(vitals_labels_reshaped.shape)"
      ]
    },
    {
      "cell_type": "code",
      "execution_count": 16,
      "metadata": {
        "colab": {
          "base_uri": "https://localhost:8080/"
        },
        "id": "1uMEnoVblTtA",
        "outputId": "880c568f-b098-44df-e943-6145834408a7"
      },
      "outputs": [
        {
          "name": "stdout",
          "output_type": "stream",
          "text": [
            "(19414, 48, 7)\n",
            "(19414, 6, 16)\n"
          ]
        }
      ],
      "source": [
        "vitals_features_reshaped = np.reshape(vitals_features.values, (19414,48,7))\n",
        "print(vitals_features_reshaped.shape)\n",
        "labs_features_reshaped = np.reshape(labs_features.values, (19414,6,16))\n",
        "print(labs_features_reshaped.shape)"
      ]
    },
    {
      "cell_type": "markdown",
      "metadata": {
        "id": "g9ok4JGPlTtA"
      },
      "source": [
        "### Batching clients and test data"
      ]
    },
    {
      "cell_type": "code",
      "execution_count": 17,
      "metadata": {
        "id": "hWXeQgi7lTtB"
      },
      "outputs": [],
      "source": [
        "def batch_data(data_shard, bs=64):\n",
        "    '''Takes in a clients data shard and create a tfds object off it\n",
        "    args:\n",
        "        shard: a data, label constituting a client's data shard\n",
        "        bs:batch size\n",
        "    return:\n",
        "        tfds object'''\n",
        "    #seperate shard into data and labels lists\n",
        "    data, label = zip(*data_shard)\n",
        "    dataset = []\n",
        "    X_train, X_test, y_train, y_test = train_test_split(data, label, test_size=0.15, random_state=RANDOM_SEED, stratify=label)\n",
        "    X_labs_train , X_vitals_train = zip(*X_train)\n",
        "    X_labs_test , X_vitals_test = zip(*X_test)\n",
        "\n",
        "    #Reshaping to standardize the laboratory values\n",
        "    X_labs_train = np.array(X_labs_train)\n",
        "    X_labs_test = np.array(X_labs_test)\n",
        "    samples_train, groupedBy_train, sample_values_train = X_labs_train.shape\n",
        "    samples_test, groupedBy_test, sample_values_test = X_labs_test.shape\n",
        "    X_labs_train_reshaped = np.reshape(X_labs_train, (samples_train*groupedBy_train, sample_values_train))\n",
        "    X_labs_test_reshaped = np.reshape(X_labs_test, (samples_test*groupedBy_test, sample_values_test))\n",
        "    #Standardizing the laboratory values\n",
        "    scaler_labs = StandardScaler()\n",
        "    scaler_labs = scaler_labs.fit(X_labs_train_reshaped)\n",
        "    X_labs_train_reshaped = scaler_labs.transform(X_labs_train_reshaped)\n",
        "    X_labs_test_reshaped = scaler_labs.transform(X_labs_test_reshaped)\n",
        "    #Reshaping again\n",
        "    X_labs_train = np.reshape(X_labs_train_reshaped,  (samples_train, groupedBy_train, sample_values_train))\n",
        "    X_labs_test = np.reshape(X_labs_test_reshaped, (samples_test, groupedBy_test, sample_values_test))\n",
        "\n",
        "    #Reshaping to standardize the laboratory values\n",
        "    X_vitals_train = np.array(X_vitals_train)\n",
        "    X_vitals_test = np.array(X_vitals_test)\n",
        "    samples_train, groupedBy_train, sample_values_train = X_vitals_train.shape\n",
        "    samples_test, groupedBy_test, sample_values_test = X_vitals_test.shape\n",
        "    X_vitals_train_reshaped = np.reshape(X_vitals_train, (samples_train*groupedBy_train, sample_values_train))\n",
        "    X_vitals_test_reshaped = np.reshape(X_vitals_test, (samples_test*groupedBy_test, sample_values_test))\n",
        "    #Standardizing the laboratory values\n",
        "    scaler_vitals = StandardScaler()\n",
        "    scaler_vitals = scaler_vitals.fit(X_vitals_train_reshaped)\n",
        "    X_vitals_train_reshaped = scaler_vitals.transform(X_vitals_train_reshaped)\n",
        "    X_vitals_test_reshaped = scaler_vitals.transform(X_vitals_test_reshaped)\n",
        "    #Reshaping again\n",
        "    X_vitals_train = np.reshape(X_vitals_train_reshaped,  (samples_train, groupedBy_train, sample_values_train))\n",
        "    X_vitals_test = np.reshape(X_vitals_test_reshaped, (samples_test, groupedBy_test, sample_values_test))\n",
        "\n",
        "    combinedDatasetTraining = tf.data.Dataset.from_tensor_slices(({\"Input_1\": list(X_labs_train), \"Input_2\": list(X_vitals_train)}, list(y_train)))\n",
        "    combinedDatasetTraining = combinedDatasetTraining.shuffle(len(y_train)).batch(bs)\n",
        "    combinedDatasetTesting = tf.data.Dataset.from_tensor_slices(({\"Input_1\": list(X_labs_test), \"Input_2\": list(X_vitals_test)}, list(y_test)))\n",
        "    combinedDatasetTesting = combinedDatasetTesting.shuffle(len(y_test)).batch(bs)\n",
        "    \n",
        "    dataset.append(combinedDatasetTraining)\n",
        "    dataset.append(combinedDatasetTesting)\n",
        "    return dataset"
      ]
    },
    {
      "cell_type": "markdown",
      "metadata": {
        "id": "1E7ZkC6SlTtC"
      },
      "source": [
        "### Creating the Model"
      ]
    },
    {
      "cell_type": "code",
      "execution_count": 18,
      "metadata": {
        "id": "tI1rDTGslTtD"
      },
      "outputs": [],
      "source": [
        "class RNNModel:\n",
        "    @staticmethod\n",
        "    def build():\n",
        "     input1 = Input(shape=(6,16), name='Input_1')\n",
        "     fe1 = LSTM(16, input_shape= (6,16), return_sequences=True)(input1)\n",
        "     fe2 = LSTM(16, return_sequences=True)(fe1)\n",
        "     fe3 = LSTM(16)(fe2)\n",
        "#sequence model\n",
        "     input2 = Input(shape=(48,7), name='Input_2')\n",
        "     se1 = LSTM(16, input_shape= (48,7), return_sequences=True)(input2)\n",
        "     se2 = LSTM(16, return_sequences=True)(se1)\n",
        "     se3 = LSTM(16)(se2)\n",
        "#decoder model\n",
        "     decoder1 = concatenate([fe3, se3])\n",
        "     decoder2 = Dense(16, activation='relu')(decoder1)\n",
        "     decoder3 = Dense(16, activation='relu')(decoder2)\n",
        "     output = Dense(1, activation='sigmoid')(decoder3)\n",
        "#connecting the two models\n",
        "     model = Model(inputs=[input1, input2], outputs=output)\n",
        "     return model"
      ]
    },
    {
      "cell_type": "markdown",
      "metadata": {
        "id": "WW6keSyKlTtE"
      },
      "source": [
        "### Federated Averaging"
      ]
    },
    {
      "cell_type": "code",
      "execution_count": 19,
      "metadata": {
        "id": "AZ49pqJ9lTtE"
      },
      "outputs": [],
      "source": [
        "def weight_scalling_factor(clients_trn_data, client_name):\n",
        "    '''Gets batch size and calculates total datapoints and how many data points the client has to scale it'''\n",
        "    client_names = list(clients_trn_data.keys())\n",
        "    #get the bs\n",
        "    bs = list(clients_trn_data[client_name][0])[0][0]['Input_1'].shape[0]\n",
        "    #first calculate the total training data points across clinets\n",
        "    global_count = sum([tf.data.experimental.cardinality(clients_trn_data[client_name][0]).numpy() for client_name in client_names])*bs\n",
        "    # get the total number of data points held by a client\n",
        "    local_count = tf.data.experimental.cardinality(clients_trn_data[client_name][0]).numpy()*bs\n",
        "    return local_count/global_count\n",
        "\n",
        "\n",
        "def scale_model_weights(weight, scalar):\n",
        "    '''function for scaling a models weights'''\n",
        "    weight_final = []\n",
        "    steps = len(weight)\n",
        "    for i in range(steps):\n",
        "        weight_final.append(scalar * weight[i])\n",
        "    return weight_final\n",
        "\n",
        "\n",
        "\n",
        "def sum_scaled_weights(scaled_weight_list):\n",
        "    '''Return the sum of the listed scaled weights. The is equivalent to scaled avg of the weights'''\n",
        "    avg_grad = list()\n",
        "    #get the average grad accross all client gradients\n",
        "    for grad_list_tuple in zip(*scaled_weight_list):\n",
        "        layer_mean = tf.math.reduce_sum(grad_list_tuple, axis=0)\n",
        "        avg_grad.append(layer_mean)\n",
        "        \n",
        "    return avg_grad\n",
        "\n",
        "\n",
        "def test_model(X_test, Y_test,  model, comm_round):\n",
        "    cce = tf.keras.losses.BinaryCrossentropy(from_logits=True)\n",
        "    #logits = model.predict(X_test, batch_size=100)\n",
        "    logits = model.predict(X_test)\n",
        "    Y_test = np.reshape(Y_test, (len(Y_test),1))\n",
        "    loss = cce(Y_test, logits)\n",
        "    logits = np.where(logits > 0.5, 1, 0)\n",
        "    f1_score_acc = f1_score(Y_test.max(axis=1), logits.max(axis=1), average='macro')\n",
        "    print('comm_round: {} | f1_score: {:.3%} | global_loss: {}'.format(comm_round, f1_score_acc, loss))\n",
        "    return f1_score_acc, loss\n",
        "\n",
        "def evaluating_model_own_validation_data(model, val_data):\n",
        "    cce = tf.keras.losses.BinaryCrossentropy(from_logits=False)\n",
        "    logits = model.predict(val_data)\n",
        "    y_true = np.concatenate([y for x, y in val_data], axis=0)\n",
        "    y_true = np.reshape(y_true, (len(y_true),1))\n",
        "    partial_loss = binary_crossentropy_partial(y_true, logits)\n",
        "    loss = cce(y_true, logits)\n",
        "    logits = np.where(logits > 0.5, 1, 0)\n",
        "    return partial_loss, loss, len(logits)\n",
        "\n",
        "def binary_crossentropy_partial(y_true, y_pred):\n",
        "    #(y_true * (np.log(y_pred))) + (1.0 - y_true) * np.log(1.0 - y_pred)\n",
        "    y_pred = np.clip(y_pred, 1e-7, 1 - 1e-7)\n",
        "    term_0 = (1-y_true) * np.log(1-y_pred + + 1e-7)\n",
        "    term_1 = y_true * np.log(y_pred  + 1e-7)\n",
        "    return np.sum(term_0 + term_1, axis=0)\n",
        "    \n"
      ]
    },
    {
      "cell_type": "code",
      "execution_count": 20,
      "metadata": {
        "colab": {
          "base_uri": "https://localhost:8080/"
        },
        "id": "2MQa1FoTlTtF",
        "outputId": "a1fff813-ff99-4bff-eda1-b13dc555d3ea"
      },
      "outputs": [
        {
          "data": {
            "text/plain": [
              "5"
            ]
          },
          "execution_count": 20,
          "metadata": {},
          "output_type": "execute_result"
        }
      ],
      "source": [
        "skf = StratifiedKFold(n_splits=5, shuffle=True, random_state=RANDOM_SEED)\n",
        "skf.get_n_splits(vitals_features_reshaped, vitals_labels_reshaped)"
      ]
    },
    {
      "cell_type": "markdown",
      "metadata": {
        "id": "c_PmZSSplTtG"
      },
      "source": [
        "### Training the model - Each client validate on their own data"
      ]
    },
    {
      "cell_type": "code",
      "execution_count": 21,
      "metadata": {
        "colab": {
          "base_uri": "https://localhost:8080/",
          "height": 762
        },
        "id": "Phx0z5GalTtG",
        "outputId": "f5076f7f-1b5a-4b6b-e4d8-91be3fd2f88b"
      },
      "outputs": [
        {
          "name": "stdout",
          "output_type": "stream",
          "text": [
            "TRAIN: [    0     1     3 ... 19410 19411 19413] TEST: [    2     4    17 ... 19399 19400 19412]\n",
            "[-242.59083718]\n",
            "350\n",
            "[-483.93136972]\n",
            "699\n",
            "[-565.47205234]\n",
            "816\n",
            "[-323.46534175]\n",
            "467\n",
            "F1 Score average for round 0 = 0.6927356779524229, Loss: 0.692765474319458\n",
            "[-271.49600945]\n",
            "699\n",
            "[-129.35523019]\n",
            "350\n",
            "[-304.47381254]\n",
            "816\n",
            "[-176.52324123]\n",
            "467\n",
            "F1 Score average for round 1 = 0.37815106921592856, Loss: 0.3772791028022766\n",
            "[-270.37835502]\n",
            "467\n",
            "[-431.30483381]\n",
            "816\n",
            "[-202.83023319]\n",
            "350\n",
            "[-442.35070257]\n",
            "699\n",
            "F1 Score average for round 2 = 0.5775575148319909, Loss: 0.5799692869186401\n",
            "[-590.59313536]\n",
            "816\n",
            "[-562.53634939]\n",
            "699\n",
            "[-326.83694814]\n",
            "467\n",
            "[-260.64911909]\n",
            "350\n",
            "F1 Score average for round 3 = 0.7464046106240664, Loss: 0.743278980255127\n",
            "[-730.32224407]\n",
            "816\n",
            "[-550.08489434]\n",
            "699\n",
            "[-287.88182076]\n",
            "350\n",
            "[-333.24624444]\n",
            "467\n",
            "F1 Score average for round 4 = 0.8154096070329693, Loss: 0.8045178651809692\n",
            "[-307.08473909]\n",
            "467\n",
            "[-319.45829539]\n",
            "350\n",
            "[-594.23545395]\n",
            "699\n",
            "[-645.53327625]\n",
            "816\n",
            "F1 Score average for round 5 = 0.8003052164169266, Loss: 0.8028810024261475\n",
            "[-670.57139097]\n",
            "699\n",
            "[-302.77779276]\n",
            "350\n",
            "[-727.84717885]\n",
            "816\n",
            "[-389.37808531]\n",
            "467\n",
            "F1 Score average for round 6 = 0.8964727478033009, Loss: 0.8875411748886108\n",
            "[-895.51988013]\n",
            "816\n",
            "[-421.78388245]\n",
            "467\n",
            "[-768.96587166]\n",
            "699\n",
            "[-373.27544827]\n",
            "350\n",
            "F1 Score average for round 7 = 1.0546934316075347, Loss: 1.0418059825897217\n",
            "[-773.78564609]\n",
            "699\n",
            "[-837.84799385]\n",
            "816\n",
            "[-343.99333899]\n",
            "350\n",
            "[-479.68199736]\n",
            "467\n",
            "F1 Score average for round 8 = 1.044300590174307, Loss: 1.0359396934509277\n",
            "[-892.0701469]\n",
            "816\n",
            "[-420.07463714]\n",
            "467\n",
            "[-349.21038298]\n",
            "350\n",
            "[-758.22965283]\n",
            "699\n",
            "F1 Score average for round 9 = 1.0375578129760423, Loss: 1.0188047885894775\n",
            "[-461.22264966]\n",
            "467\n",
            "[-874.27366056]\n",
            "816\n",
            "[-370.25658959]\n",
            "350\n",
            "[-854.26493909]\n",
            "699\n",
            "F1 Score average for round 10 = 1.0977778039833066, Loss: 1.0847606658935547\n",
            "[-395.94618636]\n",
            "350\n",
            "[-483.37289609]\n",
            "467\n",
            "[-821.14237252]\n",
            "699\n",
            "[-934.31383516]\n",
            "816\n",
            "F1 Score average for round 11 = 1.129835030071152, Loss: 1.121516466140747\n",
            "CV Round complete\n",
            "TRAIN: [    1     2     4 ... 19410 19412 19413] TEST: [    0     3    15 ... 19405 19408 19411]\n",
            "[-314.01658928]\n",
            "467\n",
            "[-550.17264932]\n",
            "816\n",
            "[-236.55230951]\n",
            "350\n",
            "[-472.36551362]\n",
            "699\n",
            "F1 Score average for round 0 = 0.6745742117254444, Loss: 0.6745700836181641\n",
            "[-138.91283171]\n",
            "350\n",
            "[-291.92584455]\n",
            "699\n",
            "[-206.01934327]\n",
            "467\n",
            "[-356.6210559]\n",
            "816\n",
            "F1 Score average for round 1 = 0.42602018671594305, Loss: 0.4231794476509094\n",
            "[-511.10514617]\n",
            "816\n",
            "[-189.34682284]\n",
            "350\n",
            "[-366.47875716]\n",
            "699\n",
            "[-280.16069143]\n",
            "467\n",
            "F1 Score average for round 2 = 0.5776549818163569, Loss: 0.5728877782821655\n",
            "[-205.75469245]\n",
            "350\n",
            "[-408.08535921]\n",
            "699\n",
            "[-259.21903508]\n",
            "467\n",
            "[-522.7201746]\n",
            "816\n",
            "F1 Score average for round 3 = 0.59853313093239, Loss: 0.5918362736701965\n",
            "[-577.77420851]\n",
            "816\n",
            "[-352.12632103]\n",
            "467\n",
            "[-480.26535421]\n",
            "699\n",
            "[-233.77280027]\n",
            "350\n",
            "F1 Score average for round 4 = 0.7049479777164422, Loss: 0.7042679190635681\n",
            "[-282.59831585]\n",
            "350\n",
            "[-574.73814612]\n",
            "699\n",
            "[-675.21821683]\n",
            "816\n",
            "[-374.11179492]\n",
            "467\n",
            "F1 Score average for round 5 = 0.8176099801580762, Loss: 0.8145555853843689\n",
            "[-698.9789149]\n",
            "816\n",
            "[-435.36491359]\n",
            "467\n",
            "[-566.02261268]\n",
            "699\n",
            "[-297.45245545]\n",
            "350\n",
            "F1 Score average for round 6 = 0.8566976400631537, Loss: 0.8621188998222351\n",
            "[-783.54636354]\n",
            "699\n",
            "[-385.73269473]\n",
            "350\n",
            "[-897.82386676]\n",
            "816\n",
            "[-531.7147475]\n",
            "467\n",
            "F1 Score average for round 7 = 1.1144158115482, Loss: 1.1154742240905762\n",
            "[-464.91628141]\n",
            "467\n",
            "[-330.29813999]\n",
            "350\n",
            "[-649.42926296]\n",
            "699\n",
            "[-868.87241491]\n",
            "816\n",
            "F1 Score average for round 8 = 0.99207379899952, Loss: 0.9832812547683716\n",
            "[-712.47117373]\n",
            "699\n",
            "[-950.54569483]\n",
            "816\n",
            "[-545.05746438]\n",
            "467\n",
            "[-387.89471932]\n",
            "350\n",
            "F1 Score average for round 9 = 1.113194276271012, Loss: 1.1148934364318848\n",
            "[-682.36377404]\n",
            "699\n",
            "[-934.37432143]\n",
            "816\n",
            "[-353.35621958]\n",
            "350\n",
            "[-502.14345319]\n",
            "467\n",
            "F1 Score average for round 10 = 1.0601362642529364, Loss: 1.0515272617340088\n",
            "[-354.3059495]\n",
            "350\n",
            "[-955.40523947]\n",
            "816\n",
            "[-767.0140564]\n",
            "699\n",
            "[-547.10899434]\n",
            "467\n",
            "F1 Score average for round 11 = 1.12514332749058, Loss: 1.1129958629608154\n",
            "CV Round complete\n",
            "TRAIN: [    0     1     2 ... 19411 19412 19413] TEST: [    6     7     8 ... 19391 19398 19401]\n",
            "[-555.61916143]\n",
            "816\n",
            "[-238.66302681]\n",
            "350\n",
            "[-318.71239704]\n",
            "467\n",
            "[-477.3168782]\n",
            "699\n",
            "F1 Score average for round 0 = 0.6819517424850889, Loss: 0.6820312142372131\n",
            "[-276.22821504]\n",
            "699\n",
            "[-129.37573521]\n",
            "350\n",
            "[-294.71320248]\n",
            "816\n",
            "[-182.02647768]\n",
            "467\n",
            "F1 Score average for round 1 = 0.37836347787128205, Loss: 0.37894195318222046\n",
            "[-381.04805552]\n",
            "699\n",
            "[-402.69051815]\n",
            "816\n",
            "[-171.14157283]\n",
            "350\n",
            "[-219.06754056]\n",
            "467\n",
            "F1 Score average for round 2 = 0.5034080990773864, Loss: 0.49917444586753845\n",
            "[-278.93321714]\n",
            "467\n",
            "[-220.13556563]\n",
            "350\n",
            "[-447.95691072]\n",
            "699\n",
            "[-472.48243723]\n",
            "816\n",
            "F1 Score average for round 3 = 0.6087084608571843, Loss: 0.6115306615829468\n",
            "[-617.84291951]\n",
            "816\n",
            "[-546.77466641]\n",
            "699\n",
            "[-238.01095577]\n",
            "350\n",
            "[-348.8956135]\n",
            "467\n",
            "F1 Score average for round 4 = 0.7510823993109954, Loss: 0.741628885269165\n",
            "[-254.7961782]\n",
            "350\n",
            "[-551.64200766]\n",
            "699\n",
            "[-343.47530871]\n",
            "467\n",
            "[-645.50897712]\n",
            "816\n",
            "F1 Score average for round 5 = 0.7699067202782779, Loss: 0.7609336376190186\n",
            "[-580.30920478]\n",
            "699\n",
            "[-421.28640151]\n",
            "467\n",
            "[-688.93371726]\n",
            "816\n",
            "[-264.93407103]\n",
            "350\n",
            "F1 Score average for round 6 = 0.8385349033350757, Loss: 0.8333867788314819\n",
            "[-672.43859324]\n",
            "816\n",
            "[-415.63200841]\n",
            "467\n",
            "[-633.54346489]\n",
            "699\n",
            "[-307.78250299]\n",
            "350\n",
            "F1 Score average for round 7 = 0.8702386661840187, Loss: 0.8749517202377319\n",
            "[-436.79905475]\n",
            "467\n",
            "[-770.30647977]\n",
            "816\n",
            "[-329.75463922]\n",
            "350\n",
            "[-703.69739873]\n",
            "699\n",
            "F1 Score average for round 8 = 0.9607879813343522, Loss: 0.9570522308349609\n",
            "[-355.8024118]\n",
            "350\n",
            "[-737.28828314]\n",
            "699\n",
            "[-832.33165372]\n",
            "816\n",
            "[-494.02679893]\n",
            "467\n",
            "F1 Score average for round 9 = 1.0374996344749547, Loss: 1.0373103618621826\n",
            "[-753.72780866]\n",
            "816\n",
            "[-480.05415585]\n",
            "467\n",
            "[-666.20179133]\n",
            "699\n",
            "[-334.8430125]\n",
            "350\n",
            "F1 Score average for round 10 = 0.958330518154478, Loss: 0.9653530120849609\n",
            "[-339.39192635]\n",
            "350\n",
            "[-482.62178049]\n",
            "467\n",
            "[-710.22109244]\n",
            "699\n",
            "[-801.35735185]\n",
            "816\n",
            "F1 Score average for round 11 = 1.000682740621682, Loss: 1.0003129243850708\n",
            "CV Round complete\n",
            "TRAIN: [    0     1     2 ... 19411 19412 19413] TEST: [   37    40    52 ... 19407 19409 19410]\n",
            "[-498.10428214]\n",
            "699\n",
            "[-580.77957368]\n",
            "816\n",
            "[-332.18994898]\n",
            "467\n",
            "[-249.07540405]\n",
            "350\n",
            "F1 Score average for round 0 = 0.7118993176859811, Loss: 0.7118266820907593\n",
            "[-179.21672602]\n",
            "350\n",
            "[-359.51567935]\n",
            "699\n",
            "[-420.07684929]\n",
            "816\n",
            "[-269.6804897]\n",
            "467\n",
            "F1 Score average for round 1 = 0.5267966313719531, Loss: 0.5296626687049866\n",
            "[-340.5580027]\n",
            "467\n",
            "[-515.5587509]\n",
            "816\n",
            "[-479.1953169]\n",
            "699\n",
            "[-218.1061216]\n",
            "350\n",
            "F1 Score average for round 2 = 0.6661313002156117, Loss: 0.6674407720565796\n",
            "[-601.0701633]\n",
            "816\n",
            "[-224.23429709]\n",
            "350\n",
            "[-350.95076275]\n",
            "467\n",
            "[-510.35115842]\n",
            "699\n",
            "F1 Score average for round 3 = 0.723244589005785, Loss: 0.7147229313850403\n",
            "[-513.78020738]\n",
            "699\n",
            "[-646.15720834]\n",
            "816\n",
            "[-259.24354209]\n",
            "350\n",
            "[-376.07592753]\n",
            "467\n",
            "F1 Score average for round 4 = 0.7698357141260759, Loss: 0.7682197093963623\n",
            "[-647.52169257]\n",
            "816\n",
            "[-513.09643494]\n",
            "699\n",
            "[-242.13432067]\n",
            "350\n",
            "[-362.01606354]\n",
            "467\n",
            "F1 Score average for round 5 = 0.7567617974769625, Loss: 0.748645544052124\n",
            "[-579.37172788]\n",
            "699\n",
            "[-285.46607495]\n",
            "350\n",
            "[-759.36096763]\n",
            "816\n",
            "[-394.25792527]\n",
            "467\n",
            "F1 Score average for round 6 = 0.8655474681521744, Loss: 0.8548250198364258\n",
            "[-692.57024874]\n",
            "699\n",
            "[-422.43861909]\n",
            "467\n",
            "[-853.49215726]\n",
            "816\n",
            "[-338.95338519]\n",
            "350\n",
            "F1 Score average for round 7 = 0.9894744469483825, Loss: 0.9774414300918579\n",
            "[-802.00920912]\n",
            "816\n",
            "[-343.76078884]\n",
            "350\n",
            "[-664.97675266]\n",
            "699\n",
            "[-477.64066104]\n",
            "467\n",
            "F1 Score average for round 8 = 0.9812982039682467, Loss: 0.9847847819328308\n",
            "[-663.67721188]\n",
            "699\n",
            "[-280.87909826]\n",
            "350\n",
            "[-436.82348937]\n",
            "467\n",
            "[-690.85396879]\n",
            "816\n",
            "F1 Score average for round 9 = 0.8886079623920059, Loss: 0.8834988474845886\n",
            "[-892.3912609]\n",
            "816\n",
            "[-355.79096142]\n",
            "350\n",
            "[-735.71383239]\n",
            "699\n",
            "[-517.24430559]\n",
            "467\n",
            "F1 Score average for round 10 = 1.072530171655823, Loss: 1.0675687789916992\n",
            "[-500.31701125]\n",
            "467\n",
            "[-722.44765957]\n",
            "699\n",
            "[-388.16550404]\n",
            "350\n",
            "[-830.55191446]\n",
            "816\n",
            "F1 Score average for round 11 = 1.0469477226923178, Loss: 1.057941198348999\n",
            "CV Round complete\n",
            "TRAIN: [    0     2     3 ... 19410 19411 19412] TEST: [    1     5    11 ... 19404 19406 19413]\n",
            "[-322.61457831]\n",
            "467\n",
            "[-564.10957211]\n",
            "816\n",
            "[-482.43634409]\n",
            "699\n",
            "[-241.07153791]\n",
            "350\n",
            "F1 Score average for round 0 = 0.6904940104709482, Loss: 0.6902726888656616\n",
            "[-131.99570035]\n",
            "350\n",
            "[-277.33198657]\n",
            "699\n",
            "[-174.57036122]\n",
            "467\n",
            "[-311.79183744]\n",
            "816\n",
            "F1 Score average for round 1 = 0.38408657186225337, Loss: 0.38244903087615967\n",
            "[-511.05076132]\n",
            "816\n",
            "[-214.33378034]\n",
            "350\n",
            "[-284.95815346]\n",
            "467\n",
            "[-431.59486125]\n",
            "699\n",
            "F1 Score average for round 2 = 0.6183265679108345, Loss: 0.6165761947631836\n",
            "[-375.12369384]\n",
            "467\n",
            "[-252.31729858]\n",
            "350\n",
            "[-572.76127513]\n",
            "699\n",
            "[-669.99278378]\n",
            "816\n",
            "F1 Score average for round 3 = 0.8019704336752176, Loss: 0.791159987449646\n",
            "[-758.89161234]\n",
            "816\n",
            "[-317.39185308]\n",
            "350\n",
            "[-648.65549977]\n",
            "699\n",
            "[-420.39042471]\n",
            "467\n",
            "F1 Score average for round 4 = 0.9199525685610815, Loss: 0.9162545204162598\n",
            "[-579.18824296]\n",
            "699\n",
            "[-606.72609182]\n",
            "816\n",
            "[-396.99768056]\n",
            "467\n",
            "[-258.23710107]\n",
            "350\n",
            "F1 Score average for round 5 = 0.7895150584922835, Loss: 0.7900137305259705\n",
            "[-831.58266985]\n",
            "816\n",
            "[-737.00981016]\n",
            "699\n",
            "[-448.54810104]\n",
            "467\n",
            "[-319.56030364]\n",
            "350\n",
            "F1 Score average for round 6 = 1.0020158167606505, Loss: 0.9867479205131531\n",
            "[-346.27244104]\n",
            "350\n",
            "[-789.06591597]\n",
            "816\n",
            "[-469.37866583]\n",
            "467\n",
            "[-774.79271031]\n",
            "699\n",
            "F1 Score average for round 7 = 1.020372955897419, Loss: 1.0174665451049805\n",
            "[-328.16390836]\n",
            "350\n",
            "[-471.25176151]\n",
            "467\n",
            "[-734.53536486]\n",
            "699\n",
            "[-860.89440844]\n",
            "816\n",
            "F1 Score average for round 8 = 1.0269491608754846, Loss: 1.0131425857543945\n",
            "[-337.25226062]\n",
            "350\n",
            "[-465.98203283]\n",
            "467\n",
            "[-772.64846455]\n",
            "699\n",
            "[-895.87757555]\n",
            "816\n",
            "F1 Score average for round 9 = 1.0599315323993381, Loss: 1.0411624908447266\n",
            "[-338.32914859]\n",
            "350\n",
            "[-519.01972968]\n",
            "467\n",
            "[-754.59379345]\n",
            "699\n",
            "[-891.42365286]\n",
            "816\n",
            "F1 Score average for round 10 = 1.0734847017965183, Loss: 1.0625026226043701\n",
            "[-344.90020123]\n",
            "350\n",
            "[-942.44684915]\n",
            "816\n",
            "[-550.37437991]\n",
            "467\n",
            "[-803.65759196]\n",
            "699\n",
            "F1 Score average for round 11 = 1.1326668191478135, Loss: 1.1171612739562988\n",
            "CV Round complete\n"
          ]
        }
      ],
      "source": [
        "loss_CV = []\n",
        "acc_CV = []\n",
        "partial_loss_values_averages_all = []\n",
        "loss_values_averages_all = []\n",
        "clients_number = 4\n",
        "patience = 10\n",
        "best_models = []\n",
        "early_stopping_applied = []\n",
        "test_batches_CV = []\n",
        "for train_index, test_index in skf.split(vitals_features_reshaped, vitals_labels_reshaped):\n",
        "    print(\"TRAIN:\", train_index, \"TEST:\", test_index)\n",
        "    X_train_vitals, X_test_vitals = vitals_features_reshaped[train_index], vitals_features_reshaped[test_index]\n",
        "    X_train_labs, X_test_labs = labs_features_reshaped[train_index], labs_features_reshaped[test_index]\n",
        "    y_train, y_test = vitals_labels_reshaped[train_index], vitals_labels_reshaped[test_index]\n",
        "    clients = create_clients(X_train_labs, X_train_vitals ,y_train, num_clients=clients_number, initial='client')\n",
        "    #process and batch the training data for each client\n",
        "    clients_batched = dict()\n",
        "    for (client_name, data) in clients.items():\n",
        "        clients_batched[client_name] = batch_data(data)\n",
        "    #Standardizing the testing set based on all training data\n",
        "    X_train_labs = np.array(X_train_labs)\n",
        "    samples_train, groupedBy_train, sample_values_train = X_train_labs.shape\n",
        "    X_train_labs = np.reshape(X_train_labs, (samples_train*groupedBy_train,sample_values_train))\n",
        "    samples_test, groupedBy_test, sample_values_test = X_test_labs.shape\n",
        "    X_test_labs = np.reshape(X_test_labs, (samples_test*groupedBy_test,sample_values_test))\n",
        "    scaler_labs = StandardScaler()\n",
        "    scaler_labs = scaler_labs.fit(X_train_labs)\n",
        "    X_test_labs = scaler_labs.transform(X_test_labs)\n",
        "    X_test_labs = np.reshape(X_test_labs, (samples_test,groupedBy_test,sample_values_test))\n",
        "\n",
        "\n",
        "    X_train_vitals = np.array(X_train_vitals)\n",
        "    samples_train, groupedBy_train, sample_values_train = X_train_vitals.shape\n",
        "    X_train_vitals = np.reshape(X_train_vitals, (samples_train*groupedBy_train,sample_values_train))\n",
        "    samples_test, groupedBy_test, sample_values_test = X_test_vitals.shape\n",
        "    X_test_vitals = np.reshape(X_test_vitals, (samples_test*groupedBy_test,sample_values_test))\n",
        "    scaler_labs = StandardScaler()\n",
        "    scaler_labs = scaler_labs.fit(X_train_vitals)\n",
        "    X_test_vitals = scaler_labs.transform(X_test_vitals)\n",
        "    X_test_vitals = np.reshape(X_test_vitals, (samples_test,groupedBy_test,sample_values_test))\n",
        "\n",
        "    #process and batch the test set  \n",
        "    test_batched = tf.data.Dataset.from_tensor_slices(({\"Input_1\": list(X_test_labs), \n",
        "    \"Input_2\": list(X_test_vitals)}, list(y_test))).batch(len(y_test))\n",
        "    test_batches_CV.append(test_batched)\n",
        "    #initialize global model\n",
        "    partial_loss_values_averages = []\n",
        "    loss_values_averages = []\n",
        "    models_CV = []\n",
        "    best_score = 0\n",
        "    rounds_worse_than_before = 0    \n",
        "    rnn_global = RNNModel()\n",
        "    global_model = rnn_global.build()\n",
        "    comms_round = 300\n",
        "    loss = 'binary_crossentropy'\n",
        "    metrics = ['accuracy']\n",
        "    global_loss = []\n",
        "    global_acc = []\n",
        "    learning_rate = 0.0001\n",
        "    optimizer = tf.keras.optimizers.Adam(learning_rate=learning_rate)\n",
        "    counter = 0\n",
        "    #commence global training loop\n",
        "    for comm_round in range(comms_round):\n",
        "        if comm_round % 5 == 0 and comm_round > 0:\n",
        "            learning_rate = learning_rate * 0.5\n",
        "            optimizer = tf.keras.optimizers.Adam(learning_rate=learning_rate)\n",
        "        # get the global model's weights - will serve as the initial weights for all local models\n",
        "        global_weights = global_model.get_weights()\n",
        "        \n",
        "        #initial list to collect local model weights after scalling\n",
        "        scaled_local_weight_list = list()\n",
        "\n",
        "        #randomize client data - using keys\n",
        "        client_names= list(clients_batched.keys())\n",
        "        random.shuffle(client_names)\n",
        "        \n",
        "        #loop through each client and create new local model\n",
        "        for client in client_names:\n",
        "            rnn_local = RNNModel()\n",
        "            local_model = rnn_local.build()\n",
        "            local_model.compile(loss=loss, \n",
        "                        optimizer=optimizer, \n",
        "                        metrics=metrics)\n",
        "            \n",
        "            #set local model weight to the weight of the global model\n",
        "            local_model.set_weights(global_weights)\n",
        "\n",
        "            #fit local model with client's data\n",
        "            local_model.fit(clients_batched[client][0], epochs=3, verbose=0, validation_data=clients_batched[client][1])\n",
        "            \n",
        "            #scale the model weights and add to list\n",
        "            scaling_factor = weight_scalling_factor(clients_batched, client)\n",
        "            scaled_weights = scale_model_weights(local_model.get_weights(), scaling_factor)\n",
        "            scaled_local_weight_list.append(scaled_weights)\n",
        "            \n",
        "            #clear session to free memory after each communication round\n",
        "            K.clear_session()\n",
        "            \n",
        "        #to get the average over all the local model, we simply take the sum of the scaled weights\n",
        "        average_weights = sum_scaled_weights(scaled_local_weight_list)\n",
        "        \n",
        "        #update global model \n",
        "        global_model.set_weights(average_weights)\n",
        "\n",
        "        #evaluating the current global model against each clients validation data\n",
        "        partial_loss_values = 0\n",
        "        loss_values = 0\n",
        "        total_number_of_samples = 0\n",
        "        for client in client_names:\n",
        "            rnn_local = RNNModel()\n",
        "            local_model = rnn_local.build()\n",
        "            local_model.compile(loss=loss, \n",
        "                        optimizer=optimizer, \n",
        "                        metrics=metrics)     \n",
        "            #set local model weight to the weight of the global model\n",
        "            local_model.set_weights(global_weights)\n",
        "            partial_loss_value, loss_value, number_of_samples = evaluating_model_own_validation_data(local_model, clients_batched[client][1])\n",
        "            loss_values += loss_value\n",
        "            partial_loss_values += partial_loss_value\n",
        "            total_number_of_samples += number_of_samples\n",
        "            print(partial_loss_value)\n",
        "            print(number_of_samples)\n",
        "        partial_loss_values = partial_loss_values / (-total_number_of_samples)\n",
        "        partial_loss_values = partial_loss_values[0]\n",
        "        loss_values = loss_values / clients_number\n",
        "        print(\"F1 Score average for round {} = {}, Loss: {}\".format(comm_round, partial_loss_values, loss_values))\n",
        "        models_CV.append(global_model)\n",
        "        partial_loss_values_averages.append(partial_loss_values)\n",
        "        loss_values_averages.append(loss_values)\n",
        "        if  len(partial_loss_values_averages) == 1:\n",
        "            best_score = partial_loss_values_averages[0]\n",
        "        #checks for early stopping according to f1 score and patience\n",
        "        if len(partial_loss_values_averages) > 1:\n",
        "            if partial_loss_values_averages[-1] >= best_score:\n",
        "                rounds_worse_than_before += 1\n",
        "            else:\n",
        "                rounds_worse_than_before = 0\n",
        "                best_score = partial_loss_values_averages[-1]\n",
        "        if rounds_worse_than_before == patience:\n",
        "            break\n",
        "\n",
        "    if rounds_worse_than_before == patience:\n",
        "        partial_loss_values_averages_all.append(partial_loss_values_averages[:-patience])\n",
        "        loss_values_averages_all.append(loss_values_averages[:-patience])\n",
        "        best_models.append(models_CV[:-patience])\n",
        "        early_stopping_applied.append(True)\n",
        "    else:\n",
        "        partial_loss_values_averages_all.append(partial_loss_values_averages)\n",
        "        loss_values_averages_all.append(loss_values_averages)\n",
        "        best_models.append(models_CV) \n",
        "        early_stopping_applied.append(False)\n",
        "    print(\"CV Round complete\")"
      ]
    },
    {
      "cell_type": "markdown",
      "metadata": {
        "id": "Ms5ibK87lTtI"
      },
      "source": [
        "# Results for Early Stopping when monitoring the average F1 Score value of all the clients using their own validation data "
      ]
    },
    {
      "cell_type": "code",
      "execution_count": 22,
      "metadata": {
        "id": "ASZqBZAWlTtJ",
        "outputId": "aee5b6b9-12f3-4a0b-b2f4-6308627e286f"
      },
      "outputs": [
        {
          "data": {
            "image/png": "[encoded data removed]",
            "text/plain": [
              "<Figure size 432x288 with 1 Axes>"
            ]
          },
          "metadata": {
            "needs_background": "light"
          },
          "output_type": "display_data"
        }
      ],
      "source": [
        "plt.subplot(2,1,1)\n",
        "for i in range(len(loss_values_averages_all)):\n",
        "    plt.plot(loss_values_averages_all[i])\n",
        "plt.title('models\\' normal validation loss')\n",
        "plt.ylabel('loss')\n",
        "plt.xlabel('Communication rounds')\n",
        "plt.legend(['fold1', 'fold2','fold3', 'fold4', 'fold5'], loc='lower right')\n",
        "plt.savefig(\"Model's Validation loss vs Communication Rounds - Second technique with validation loss - 10 patience\")"
      ]
    },
    {
      "cell_type": "code",
      "execution_count": 25,
      "metadata": {
        "id": "rx65Si_slTtK",
        "outputId": "940a3e0f-aab3-4380-e180-4a4d557e1cbf"
      },
      "outputs": [
        {
          "name": "stdout",
          "output_type": "stream",
          "text": [
            "Confusion Matrix\n",
            "[[ 297   81]\n",
            " [  46 3459]]\n",
            "F1 Score: 0.9029143932063444\n",
            "              precision    recall  f1-score   support\n",
            "\n",
            "     Class 0       0.98      0.99      0.98      3505\n",
            "     Class 1       0.87      0.79      0.82       378\n",
            "\n",
            "    accuracy                           0.97      3883\n",
            "   macro avg       0.92      0.89      0.90      3883\n",
            "weighted avg       0.97      0.97      0.97      3883\n",
            "\n",
            "Confusion Matrix\n",
            "[[ 313   65]\n",
            " [  47 3458]]\n",
            "F1 Score: 0.9161511137023721\n",
            "              precision    recall  f1-score   support\n",
            "\n",
            "     Class 0       0.98      0.99      0.98      3505\n",
            "     Class 1       0.87      0.83      0.85       378\n",
            "\n",
            "    accuracy                           0.97      3883\n",
            "   macro avg       0.93      0.91      0.92      3883\n",
            "weighted avg       0.97      0.97      0.97      3883\n",
            "\n",
            "Confusion Matrix\n",
            "[[ 296   83]\n",
            " [  46 3458]]\n",
            "F1 Score: 0.9013854860127435\n",
            "              precision    recall  f1-score   support\n",
            "\n",
            "     Class 0       0.98      0.99      0.98      3504\n",
            "     Class 1       0.87      0.78      0.82       379\n",
            "\n",
            "    accuracy                           0.97      3883\n",
            "   macro avg       0.92      0.88      0.90      3883\n",
            "weighted avg       0.97      0.97      0.97      3883\n",
            "\n",
            "WARNING:tensorflow:5 out of the last 15 calls to <function Model.make_predict_function.<locals>.predict_function at 0x000002878D2520D0> triggered tf.function retracing. Tracing is expensive and the excessive number of tracings could be due to (1) creating @tf.function repeatedly in a loop, (2) passing tensors with different shapes, (3) passing Python objects instead of tensors. For (1), please define your @tf.function outside of the loop. For (2), @tf.function has experimental_relax_shapes=True option that relaxes argument shapes that can avoid unnecessary retracing. For (3), please refer to https://www.tensorflow.org/guide/function#controlling_retracing and https://www.tensorflow.org/api_docs/python/tf/function for  more details.\n",
            "Confusion Matrix\n",
            "[[ 306   73]\n",
            " [  40 3464]]\n",
            "F1 Score: 0.9140445371689954\n",
            "              precision    recall  f1-score   support\n",
            "\n",
            "     Class 0       0.98      0.99      0.98      3504\n",
            "     Class 1       0.88      0.81      0.84       379\n",
            "\n",
            "    accuracy                           0.97      3883\n",
            "   macro avg       0.93      0.90      0.91      3883\n",
            "weighted avg       0.97      0.97      0.97      3883\n",
            "\n",
            "WARNING:tensorflow:6 out of the last 16 calls to <function Model.make_predict_function.<locals>.predict_function at 0x000002878ECFAA60> triggered tf.function retracing. Tracing is expensive and the excessive number of tracings could be due to (1) creating @tf.function repeatedly in a loop, (2) passing tensors with different shapes, (3) passing Python objects instead of tensors. For (1), please define your @tf.function outside of the loop. For (2), @tf.function has experimental_relax_shapes=True option that relaxes argument shapes that can avoid unnecessary retracing. For (3), please refer to https://www.tensorflow.org/guide/function#controlling_retracing and https://www.tensorflow.org/api_docs/python/tf/function for  more details.\n",
            "Confusion Matrix\n",
            "[[ 305   73]\n",
            " [  47 3457]]\n",
            "F1 Score: 0.9092782220214146\n",
            "              precision    recall  f1-score   support\n",
            "\n",
            "     Class 0       0.98      0.99      0.98      3504\n",
            "     Class 1       0.87      0.81      0.84       378\n",
            "\n",
            "    accuracy                           0.97      3882\n",
            "   macro avg       0.92      0.90      0.91      3882\n",
            "weighted avg       0.97      0.97      0.97      3882\n",
            "\n",
            "Average F1 Score: 0.9087547504223739\n"
          ]
        }
      ],
      "source": [
        "from sklearn.metrics import classification_report\n",
        "average_f1_score = 0\n",
        "#Confution Matrix and Classification Report\n",
        "for i in range(len(best_models)):\n",
        "    Y_pred = best_models[i][-1].predict(test_batches_CV[i])\n",
        "    y_pred = np.where(Y_pred > 0.5, 1, 0)\n",
        "    print('Confusion Matrix')\n",
        "    y_pred = y_pred.max(axis=1)\n",
        "    y_true = np.concatenate([y for x, y in test_batches_CV[i]], axis=0)\n",
        "    print(confusion_matrix(y_true, y_pred, labels=[True, False]))\n",
        "    f1_score_acc = f1_score(y_true, y_pred, average='macro')\n",
        "    average_f1_score += f1_score_acc\n",
        "    print(\"F1 Score: {}\".format(f1_score_acc))\n",
        "    print(classification_report(y_true, y_pred, target_names=['Class 0', 'Class 1']))\n",
        "average_f1_score = average_f1_score / len(best_models)\n",
        "print(\"Average F1 Score: {}\".format(average_f1_score))\n"
      ]
    },
    {
      "cell_type": "code",
      "execution_count": 26,
      "metadata": {
        "id": "jO0AsMjdlTtL",
        "outputId": "3a42affd-5691-46f5-fc93-e01d689a4e6e"
      },
      "outputs": [
        {
          "name": "stdout",
          "output_type": "stream",
          "text": [
            "FPR:  [0.         0.01312411 1.        ]\n",
            "TPR:  [0.         0.78571429 1.        ]\n"
          ]
        },
        {
          "data": {
            "image/png": "[encoded data removed]",
            "text/plain": [
              "<Figure size 432x288 with 1 Axes>"
            ]
          },
          "metadata": {
            "needs_background": "light"
          },
          "output_type": "display_data"
        },
        {
          "name": "stdout",
          "output_type": "stream",
          "text": [
            "FPR:  [0.         0.01340942 1.        ]\n",
            "TPR:  [0.         0.82804233 1.        ]\n"
          ]
        },
        {
          "data": {
            "image/png": "[encoded data removed]",
            "text/plain": [
              "<Figure size 432x288 with 1 Axes>"
            ]
          },
          "metadata": {
            "needs_background": "light"
          },
          "output_type": "display_data"
        },
        {
          "name": "stdout",
          "output_type": "stream",
          "text": [
            "FPR:  [0.         0.01312785 1.        ]\n",
            "TPR:  [0.         0.78100264 1.        ]\n"
          ]
        },
        {
          "data": {
            "image/png": "[encoded data removed]",
            "text/plain": [
              "<Figure size 432x288 with 1 Axes>"
            ]
          },
          "metadata": {
            "needs_background": "light"
          },
          "output_type": "display_data"
        },
        {
          "name": "stdout",
          "output_type": "stream",
          "text": [
            "FPR:  [0.         0.01141553 1.        ]\n",
            "TPR:  [0.         0.80738786 1.        ]\n"
          ]
        },
        {
          "data": {
            "image/png": "[encoded data removed]",
            "text/plain": [
              "<Figure size 432x288 with 1 Axes>"
            ]
          },
          "metadata": {
            "needs_background": "light"
          },
          "output_type": "display_data"
        },
        {
          "name": "stdout",
          "output_type": "stream",
          "text": [
            "FPR:  [0.         0.01341324 1.        ]\n",
            "TPR:  [0.         0.80687831 1.        ]\n"
          ]
        },
        {
          "data": {
            "image/png": "[encoded data removed]",
            "text/plain": [
              "<Figure size 432x288 with 1 Axes>"
            ]
          },
          "metadata": {
            "needs_background": "light"
          },
          "output_type": "display_data"
        }
      ],
      "source": [
        "import sklearn.metrics as metrics\n",
        "\n",
        "for i in range(len(best_models)):\n",
        "    Y_pred = best_models[i][-1].predict(test_batches_CV[i])\n",
        "    y_pred = np.where(Y_pred > 0.5, 1, 0)\n",
        "    y_pred = y_pred.max(axis=1)\n",
        "    y_true = np.concatenate([y for x, y in test_batches_CV[i]], axis=0)\n",
        "    fpr, tpr, threshold = metrics.roc_curve(y_true, y_pred)\n",
        "    roc_auc = metrics.auc(fpr, tpr)\n",
        "    print(\"FPR: \", fpr)\n",
        "    print(\"TPR: \", tpr)\n",
        "    # method I: plt\n",
        "    plt.title('Receiver Operating Characteristic')\n",
        "    plt.plot(fpr, tpr, 'b', label = 'AUC = %0.4f' % roc_auc)\n",
        "    plt.legend(loc = 'lower right')\n",
        "    plt.plot([0, 1], [0, 1],'r--')\n",
        "    plt.xlim([0, 1])\n",
        "    plt.ylim([0, 1])\n",
        "    plt.ylabel('True Positive Rate')\n",
        "    plt.xlabel('False Positive Rate')\n",
        "    plt.show()"
      ]
    },
    {
      "cell_type": "code",
      "execution_count": 27,
      "metadata": {
        "id": "DerpbooMlTtL",
        "outputId": "d9906315-4996-4b9c-8019-51619fdb3f51"
      },
      "outputs": [
        {
          "name": "stdout",
          "output_type": "stream",
          "text": [
            "Precision:  [0.09734741 0.86588921 1.        ]\n",
            "Recall:  [1.         0.78571429 0.        ]\n",
            "Logistic: f1=0.903 auc=0.836\n"
          ]
        },
        {
          "data": {
            "image/png": "[encoded data removed]",
            "text/plain": [
              "<Figure size 432x288 with 1 Axes>"
            ]
          },
          "metadata": {
            "needs_background": "light"
          },
          "output_type": "display_data"
        },
        {
          "name": "stdout",
          "output_type": "stream",
          "text": [
            "Precision:  [0.09734741 0.86944444 1.        ]\n",
            "Recall:  [1.         0.82804233 0.        ]\n",
            "Logistic: f1=0.916 auc=0.857\n"
          ]
        },
        {
          "data": {
            "image/png": "[encoded data removed]",
            "text/plain": [
              "<Figure size 432x288 with 1 Axes>"
            ]
          },
          "metadata": {
            "needs_background": "light"
          },
          "output_type": "display_data"
        },
        {
          "name": "stdout",
          "output_type": "stream",
          "text": [
            "Precision:  [0.09760494 0.86549708 1.        ]\n",
            "Recall:  [1.         0.78100264 0.        ]\n",
            "Logistic: f1=0.901 auc=0.834\n"
          ]
        },
        {
          "data": {
            "image/png": "[encoded data removed]",
            "text/plain": [
              "<Figure size 432x288 with 1 Axes>"
            ]
          },
          "metadata": {
            "needs_background": "light"
          },
          "output_type": "display_data"
        },
        {
          "name": "stdout",
          "output_type": "stream",
          "text": [
            "Precision:  [0.09760494 0.88439306 1.        ]\n",
            "Recall:  [1.         0.80738786 0.        ]\n",
            "Logistic: f1=0.914 auc=0.855\n"
          ]
        },
        {
          "data": {
            "image/png": "[encoded data removed]",
            "text/plain": [
              "<Figure size 432x288 with 1 Axes>"
            ]
          },
          "metadata": {
            "needs_background": "light"
          },
          "output_type": "display_data"
        },
        {
          "name": "stdout",
          "output_type": "stream",
          "text": [
            "Precision:  [0.09737249 0.86647727 1.        ]\n",
            "Recall:  [1.         0.80687831 0.        ]\n",
            "Logistic: f1=0.909 auc=0.846\n"
          ]
        },
        {
          "data": {
            "image/png": "[encoded data removed]",
            "text/plain": [
              "<Figure size 432x288 with 1 Axes>"
            ]
          },
          "metadata": {
            "needs_background": "light"
          },
          "output_type": "display_data"
        }
      ],
      "source": [
        "from sklearn.metrics import precision_recall_curve\n",
        "from sklearn.metrics import auc\n",
        "\n",
        "for i in range(len(best_models)):\n",
        "    Y_pred = best_models[i][-1].predict(test_batches_CV[i])\n",
        "    y_pred = np.where(Y_pred > 0.5, 1, 0)\n",
        "    y_pred = y_pred.max(axis=1)\n",
        "    y_true = np.concatenate([y for x, y in test_batches_CV[i]], axis=0)\n",
        "    lr_precision, lr_recall, _ = precision_recall_curve(y_true, y_pred)\n",
        "    lr_f1, lr_auc = f1_score(y_true, y_pred, average='macro'), auc(lr_recall, lr_precision)\n",
        "    # summarize scores\n",
        "    print(\"Precision: \", lr_precision)\n",
        "    print(\"Recall: \", lr_recall)\n",
        "    print('Logistic: f1=%.3f auc=%.3f' % (lr_f1, lr_auc))\n",
        "    # plot the precision-recall curves\n",
        "    no_skill = len(y_true[y_true==1]) / len(y_true)\n",
        "    plt.plot([0, 1], [no_skill, no_skill], linestyle='--')\n",
        "    plt.plot(lr_recall, lr_precision, marker='.', label = 'AUC = %0.4f' % lr_auc)\n",
        "    # axis labels\n",
        "    plt.xlabel('Recall')\n",
        "    plt.ylabel('Precision')\n",
        "    # show the legend\n",
        "    plt.legend()\n",
        "    # show the plot\n",
        "    plt.show()"
      ]
    },
    {
      "cell_type": "code",
      "execution_count": null,
      "metadata": {
        "id": "AldoxNEElTtM"
      },
      "outputs": [],
      "source": []
    }
  ],
  "metadata": {
    "colab": {
      "collapsed_sections": [],
      "name": "Validation loss - First Technique - 20.ipynb",
      "provenance": []
    },
    "interpreter": {
      "hash": "8aa1c0be709ee1148997e0f6aecc3955022e8b7c3c1bed99961a819ad1fd1562"
    },
    "kernelspec": {
      "display_name": "Python 3.7.2 64-bit",
      "language": "python",
      "name": "python3"
    },
    "language_info": {
      "codemirror_mode": {
        "name": "ipython",
        "version": 3
      },
      "file_extension": ".py",
      "mimetype": "text/x-python",
      "name": "python",
      "nbconvert_exporter": "python",
      "pygments_lexer": "ipython3",
      "version": "3.7.2"
    },
    "orig_nbformat": 4
  },
  "nbformat": 4,
  "nbformat_minor": 0
}
