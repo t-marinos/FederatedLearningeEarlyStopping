{
 "cells": [
  {
   "cell_type": "code",
   "execution_count": 1,
   "metadata": {},
   "outputs": [
    {
     "name": "stderr",
     "output_type": "stream",
     "text": [
      "c:\\Users\\Theo\\AppData\\Local\\Programs\\Python\\Python37\\lib\\site-packages\\numpy\\_distributor_init.py:32: UserWarning: loaded more than 1 DLL from .libs:\n",
      "c:\\Users\\Theo\\AppData\\Local\\Programs\\Python\\Python37\\lib\\site-packages\\numpy\\.libs\\libopenblas.IPBC74C7KURV7CB2PKT5Z5FNR3SIBV4J.gfortran-win_amd64.dll\n",
      "c:\\Users\\Theo\\AppData\\Local\\Programs\\Python\\Python37\\lib\\site-packages\\numpy\\.libs\\libopenblas.XWYDX2IKJW2NMTWSFYNGFUWKQU3LYTCZ.gfortran-win_amd64.dll\n",
      "  stacklevel=1)\n"
     ]
    }
   ],
   "source": [
    "import pandas as pd\n",
    "import numpy as np\n",
    "import random\n",
    "import tensorflow as tf\n",
    "import matplotlib.pyplot as plt\n",
    "from sklearn.metrics import f1_score\n",
    "from sklearn.metrics import roc_auc_score\n",
    "from sklearn.metrics import confusion_matrix\n",
    "from sklearn.model_selection import StratifiedKFold\n",
    "from sklearn.model_selection import train_test_split\n",
    "from sklearn.preprocessing import StandardScaler\n",
    "from keras.utils.vis_utils import plot_model\n",
    "from tensorflow.keras.layers import LSTM, Dense, Input, add, concatenate\n",
    "from tensorflow.keras.models import Model\n",
    "from tensorflow.keras import backend as K\n",
    "\n",
    "RANDOM_SEED = 42\n",
    "random.seed(RANDOM_SEED)\n"
   ]
  },
  {
   "cell_type": "code",
   "execution_count": 2,
   "metadata": {},
   "outputs": [],
   "source": [
    "vitals = pd.read_csv('vitals.csv')  \n",
    "labs = pd.read_csv('labs.csv')  "
   ]
  },
  {
   "cell_type": "markdown",
   "metadata": {},
   "source": [
    "Changing the date to datetime variable and setting indexes"
   ]
  },
  {
   "cell_type": "code",
   "execution_count": 3,
   "metadata": {},
   "outputs": [],
   "source": [
    "vitals['charttime'] = pd.to_datetime(vitals['charttime'] , infer_datetime_format=True)\n",
    "labs['charttime'] = pd.to_datetime(labs['charttime'] , infer_datetime_format=True)"
   ]
  },
  {
   "cell_type": "code",
   "execution_count": 4,
   "metadata": {},
   "outputs": [],
   "source": [
    "vitals_48hours_grouped = vitals.groupby('icustay_id').tail(48)"
   ]
  },
  {
   "cell_type": "code",
   "execution_count": 5,
   "metadata": {},
   "outputs": [],
   "source": [
    "labs_48hours_grouped = labs.groupby('icustay_id').tail(6)"
   ]
  },
  {
   "cell_type": "code",
   "execution_count": 6,
   "metadata": {},
   "outputs": [
    {
     "name": "stdout",
     "output_type": "stream",
     "text": [
      "True\n",
      "True\n"
     ]
    }
   ],
   "source": [
    "print((vitals_48hours_grouped.icustay_id.value_counts() == 48).sum() == len(vitals_48hours_grouped) /48)\n",
    "print((labs_48hours_grouped.icustay_id.value_counts() == 6).sum() == len(labs_48hours_grouped) /6)"
   ]
  },
  {
   "cell_type": "code",
   "execution_count": 7,
   "metadata": {},
   "outputs": [],
   "source": [
    "vitals_48hours_grouped = vitals_48hours_grouped.drop(['icustay_id','charttime'], axis=1)\n",
    "labs_48hours_grouped = labs_48hours_grouped.drop(['icustay_id','charttime'], axis=1)"
   ]
  },
  {
   "cell_type": "code",
   "execution_count": 8,
   "metadata": {},
   "outputs": [],
   "source": [
    "vitals_features = vitals_48hours_grouped.iloc[:,:-1]\n",
    "vitals_labels = vitals_48hours_grouped.iloc[:,-1:].to_numpy().tolist()"
   ]
  },
  {
   "cell_type": "code",
   "execution_count": 9,
   "metadata": {},
   "outputs": [],
   "source": [
    "labs_features = labs_48hours_grouped.iloc[:,:-1]\n",
    "labs_labels = labs_48hours_grouped.iloc[:,-1:].to_numpy().tolist()"
   ]
  },
  {
   "cell_type": "markdown",
   "metadata": {},
   "source": [
    "# Federated Learning Setup"
   ]
  },
  {
   "cell_type": "code",
   "execution_count": 10,
   "metadata": {},
   "outputs": [],
   "source": [
    "def create_clients(labs_data, vitals_data, label_list, num_clients=4, initial='clients'):\n",
    "    ''' return: a dictionary with keys clients' names and value as \n",
    "                data shards - tuple of images and label lists.\n",
    "        args: \n",
    "            image_list: a list of numpy arrays of training images\n",
    "            label_list:a list of binarized labels for each image\n",
    "            num_client: number of fedrated members (clients)\n",
    "            initials: the clients'name prefix, e.g, clients_1 \n",
    "            \n",
    "    '''\n",
    "\n",
    "    #create a list of client names\n",
    "    client_names = ['{}_{}'.format(initial, i+1) for i in range(num_clients)]\n",
    "\n",
    "    #randomize the data\n",
    "    data = list(zip(labs_data, vitals_data))\n",
    "    data = list(zip(data, label_list))\n",
    "    random.shuffle(data)\n",
    "\n",
    "    #shard data and place at each client\n",
    "    size = len(data)//num_clients\n",
    "    shards = [data[i:i + size] for i in range(0, size*num_clients, size)]\n",
    "\n",
    "    #number of clients must equal number of shards\n",
    "    assert(len(shards) == len(client_names))\n",
    "    \n",
    "    return  {client_names[i] : shards[i] for i in range(len(client_names))}"
   ]
  },
  {
   "cell_type": "markdown",
   "metadata": {},
   "source": [
    "## Reshaping data and preparing them for cross validation"
   ]
  },
  {
   "cell_type": "code",
   "execution_count": 11,
   "metadata": {},
   "outputs": [
    {
     "name": "stdout",
     "output_type": "stream",
     "text": [
      "(19414,)\n",
      "(19414,)\n"
     ]
    }
   ],
   "source": [
    "vitals_labels = np.array(vitals_labels)\n",
    "labs_labels = np.array(labs_labels)\n",
    "\n",
    "\n",
    "labs_labels_reshaped = np.reshape(labs_labels, (19414,6))\n",
    "labs_labels_reshaped = np.amax(labs_labels_reshaped, axis=1)\n",
    "\n",
    "vitals_labels_reshaped = np.reshape(vitals_labels, (19414,48))\n",
    "vitals_labels_reshaped = np.amax(vitals_labels_reshaped, axis=1)\n",
    "print(labs_labels_reshaped.shape)\n",
    "print(vitals_labels_reshaped.shape)"
   ]
  },
  {
   "cell_type": "code",
   "execution_count": 12,
   "metadata": {},
   "outputs": [
    {
     "name": "stdout",
     "output_type": "stream",
     "text": [
      "(19414, 48, 7)\n",
      "(19414, 6, 16)\n"
     ]
    }
   ],
   "source": [
    "vitals_features_reshaped = np.reshape(vitals_features.values, (19414,48,7))\n",
    "print(vitals_features_reshaped.shape)\n",
    "labs_features_reshaped = np.reshape(labs_features.values, (19414,6,16))\n",
    "print(labs_features_reshaped.shape)"
   ]
  },
  {
   "cell_type": "markdown",
   "metadata": {},
   "source": [
    "### Batching clients and test data"
   ]
  },
  {
   "cell_type": "code",
   "execution_count": 13,
   "metadata": {},
   "outputs": [],
   "source": [
    "def batch_data(data_shard, bs=64):\n",
    "    '''Takes in a clients data shard and create a tfds object off it\n",
    "    args:\n",
    "        shard: a data, label constituting a client's data shard\n",
    "        bs:batch size\n",
    "    return:\n",
    "        tfds object'''\n",
    "    #seperate shard into data and labels lists\n",
    "    data, label = zip(*data_shard)\n",
    "    dataset = []\n",
    "    X_train, X_test, y_train, y_test = train_test_split(data, label, test_size=0.15, random_state=RANDOM_SEED, stratify=label)\n",
    "    X_labs_train , X_vitals_train = zip(*X_train)\n",
    "    X_labs_test , X_vitals_test = zip(*X_test)\n",
    "\n",
    "    #Reshaping to standardize the laboratory values\n",
    "    X_labs_train = np.array(X_labs_train)\n",
    "    X_labs_test = np.array(X_labs_test)\n",
    "    samples_train, groupedBy_train, sample_values_train = X_labs_train.shape\n",
    "    samples_test, groupedBy_test, sample_values_test = X_labs_test.shape\n",
    "    X_labs_train_reshaped = np.reshape(X_labs_train, (samples_train*groupedBy_train, sample_values_train))\n",
    "    X_labs_test_reshaped = np.reshape(X_labs_test, (samples_test*groupedBy_test, sample_values_test))\n",
    "    #Standardizing the laboratory values\n",
    "    scaler_labs = StandardScaler()\n",
    "    scaler_labs = scaler_labs.fit(X_labs_train_reshaped)\n",
    "    X_labs_train_reshaped = scaler_labs.transform(X_labs_train_reshaped)\n",
    "    X_labs_test_reshaped = scaler_labs.transform(X_labs_test_reshaped)\n",
    "    #Reshaping again\n",
    "    X_labs_train = np.reshape(X_labs_train_reshaped,  (samples_train, groupedBy_train, sample_values_train))\n",
    "    X_labs_test = np.reshape(X_labs_test_reshaped, (samples_test, groupedBy_test, sample_values_test))\n",
    "\n",
    "    #Reshaping to standardize the laboratory values\n",
    "    X_vitals_train = np.array(X_vitals_train)\n",
    "    X_vitals_test = np.array(X_vitals_test)\n",
    "    samples_train, groupedBy_train, sample_values_train = X_vitals_train.shape\n",
    "    samples_test, groupedBy_test, sample_values_test = X_vitals_test.shape\n",
    "    X_vitals_train_reshaped = np.reshape(X_vitals_train, (samples_train*groupedBy_train, sample_values_train))\n",
    "    X_vitals_test_reshaped = np.reshape(X_vitals_test, (samples_test*groupedBy_test, sample_values_test))\n",
    "    #Standardizing the laboratory values\n",
    "    scaler_vitals = StandardScaler()\n",
    "    scaler_vitals = scaler_vitals.fit(X_vitals_train_reshaped)\n",
    "    X_vitals_train_reshaped = scaler_vitals.transform(X_vitals_train_reshaped)\n",
    "    X_vitals_test_reshaped = scaler_vitals.transform(X_vitals_test_reshaped)\n",
    "    #Reshaping again\n",
    "    X_vitals_train = np.reshape(X_vitals_train_reshaped,  (samples_train, groupedBy_train, sample_values_train))\n",
    "    X_vitals_test = np.reshape(X_vitals_test_reshaped, (samples_test, groupedBy_test, sample_values_test))\n",
    "\n",
    "    combinedDatasetTraining = tf.data.Dataset.from_tensor_slices(({\"Input_1\": list(X_labs_train), \"Input_2\": list(X_vitals_train)}, list(y_train)))\n",
    "    combinedDatasetTraining = combinedDatasetTraining.shuffle(len(y_train)).batch(bs)\n",
    "    combinedDatasetTesting = tf.data.Dataset.from_tensor_slices(({\"Input_1\": list(X_labs_test), \"Input_2\": list(X_vitals_test)}, list(y_test)))\n",
    "    combinedDatasetTesting = combinedDatasetTesting.shuffle(len(y_test)).batch(bs)\n",
    "    \n",
    "    dataset.append(combinedDatasetTraining)\n",
    "    dataset.append(combinedDatasetTesting)\n",
    "    return dataset"
   ]
  },
  {
   "cell_type": "markdown",
   "metadata": {},
   "source": [
    "### Creating the Model"
   ]
  },
  {
   "cell_type": "code",
   "execution_count": 14,
   "metadata": {},
   "outputs": [],
   "source": [
    "class RNNModel:\n",
    "    @staticmethod\n",
    "    def build():\n",
    "     input1 = Input(shape=(6,16), name='Input_1')\n",
    "     fe1 = LSTM(16, input_shape= (6,16), return_sequences=True)(input1)\n",
    "     fe2 = LSTM(16, return_sequences=True)(fe1)\n",
    "     fe3 = LSTM(16)(fe2)\n",
    "#sequence model\n",
    "     input2 = Input(shape=(48,7), name='Input_2')\n",
    "     se1 = LSTM(16, input_shape= (48,7), return_sequences=True)(input2)\n",
    "     se2 = LSTM(16, return_sequences=True)(se1)\n",
    "     se3 = LSTM(16)(se2)\n",
    "#decoder model\n",
    "     decoder1 = concatenate([fe3, se3])\n",
    "     decoder2 = Dense(16, activation='relu')(decoder1)\n",
    "     decoder3 = Dense(16, activation='relu')(decoder2)\n",
    "     output = Dense(1, activation='sigmoid')(decoder3)\n",
    "#connecting the two models\n",
    "     model = Model(inputs=[input1, input2], outputs=output)\n",
    "     return model"
   ]
  },
  {
   "cell_type": "markdown",
   "metadata": {},
   "source": [
    "### Federated Averaging"
   ]
  },
  {
   "cell_type": "code",
   "execution_count": 15,
   "metadata": {},
   "outputs": [],
   "source": [
    "def weight_scalling_factor(clients_trn_data, client_name):\n",
    "    '''Gets batch size and calculates total datapoints and how many data points the client has to scale it'''\n",
    "    client_names = list(clients_trn_data.keys())\n",
    "    #get the bs\n",
    "    bs = list(clients_trn_data[client_name][0])[0][0]['Input_1'].shape[0]\n",
    "    #first calculate the total training data points across clinets\n",
    "    global_count = sum([tf.data.experimental.cardinality(clients_trn_data[client_name][0]).numpy() for client_name in client_names])*bs\n",
    "    # get the total number of data points held by a client\n",
    "    local_count = tf.data.experimental.cardinality(clients_trn_data[client_name][0]).numpy()*bs\n",
    "    return local_count/global_count\n",
    "\n",
    "\n",
    "def scale_model_weights(weight, scalar):\n",
    "    '''function for scaling a models weights'''\n",
    "    weight_final = []\n",
    "    steps = len(weight)\n",
    "    for i in range(steps):\n",
    "        weight_final.append(scalar * weight[i])\n",
    "    return weight_final\n",
    "\n",
    "\n",
    "\n",
    "def sum_scaled_weights(scaled_weight_list):\n",
    "    '''Return the sum of the listed scaled weights. The is equivalent to scaled avg of the weights'''\n",
    "    avg_grad = list()\n",
    "    #get the average grad accross all client gradients\n",
    "    for grad_list_tuple in zip(*scaled_weight_list):\n",
    "        layer_mean = tf.math.reduce_sum(grad_list_tuple, axis=0)\n",
    "        avg_grad.append(layer_mean)\n",
    "        \n",
    "    return avg_grad\n",
    "\n",
    "\n",
    "def test_model(X_test, Y_test,  model, comm_round):\n",
    "    cce = tf.keras.losses.BinaryCrossentropy(from_logits=True)\n",
    "    #logits = model.predict(X_test, batch_size=100)\n",
    "    logits = model.predict(X_test)\n",
    "    Y_test = np.reshape(Y_test, (len(Y_test),1))\n",
    "    loss = cce(Y_test, logits)\n",
    "    logits = np.where(logits > 0.5, 1, 0)\n",
    "    f1_score_acc = f1_score(Y_test.max(axis=1), logits.max(axis=1), average='macro')\n",
    "    print('comm_round: {} | f1_score: {:.3%} | global_loss: {}'.format(comm_round, f1_score_acc, loss))\n",
    "    return f1_score_acc, loss\n",
    "\n",
    "def evaluating_model_own_validation_data(model, val_data):\n",
    "    cce = tf.keras.losses.BinaryCrossentropy(from_logits=True)\n",
    "    logits = model.predict(val_data)\n",
    "    y_true = np.concatenate([y for x, y in val_data], axis=0)\n",
    "    y_true = np.reshape(y_true, (len(y_true),1))\n",
    "    loss = cce(y_true, logits)\n",
    "    logits = np.where(logits > 0.5, 1, 0)\n",
    "    f1_score_acc = f1_score(y_true.max(axis=1), logits.max(axis=1), average='macro')\n",
    "    print(\"Loss: \" , loss)\n",
    "    return loss "
   ]
  },
  {
   "cell_type": "code",
   "execution_count": 16,
   "metadata": {},
   "outputs": [
    {
     "data": {
      "text/plain": [
       "5"
      ]
     },
     "execution_count": 16,
     "metadata": {},
     "output_type": "execute_result"
    }
   ],
   "source": [
    "skf = StratifiedKFold(n_splits=5, shuffle=True, random_state=RANDOM_SEED)\n",
    "skf.get_n_splits(vitals_features_reshaped, vitals_labels_reshaped)"
   ]
  },
  {
   "cell_type": "markdown",
   "metadata": {},
   "source": [
    "### Training the model - Each client validate on their own data"
   ]
  },
  {
   "cell_type": "code",
   "execution_count": 17,
   "metadata": {},
   "outputs": [
    {
     "name": "stdout",
     "output_type": "stream",
     "text": [
      "TRAIN: [    0     1     3 ... 19410 19411 19413] TEST: [    2     4    17 ... 19399 19400 19412]\n",
      "Loss:  tf.Tensor(0.91781926, shape=(), dtype=float32)\n",
      "Loss:  tf.Tensor(0.9209048, shape=(), dtype=float32)\n",
      "Loss:  tf.Tensor(0.91764617, shape=(), dtype=float32)\n",
      "Loss:  tf.Tensor(0.91780007, shape=(), dtype=float32)\n",
      "F1 Score average for round 0 = 0.9185426235198975, Loss: 0.9185426235198975\n",
      "Loss:  tf.Tensor(0.7445029, shape=(), dtype=float32)\n",
      "Loss:  tf.Tensor(0.74995315, shape=(), dtype=float32)\n",
      "Loss:  tf.Tensor(0.7535386, shape=(), dtype=float32)\n",
      "Loss:  tf.Tensor(0.75217545, shape=(), dtype=float32)\n",
      "F1 Score average for round 1 = 0.7500425577163696, Loss: 0.7500425577163696\n",
      "Loss:  tf.Tensor(0.740781, shape=(), dtype=float32)\n",
      "Loss:  tf.Tensor(0.737558, shape=(), dtype=float32)\n",
      "Loss:  tf.Tensor(0.73451966, shape=(), dtype=float32)\n",
      "Loss:  tf.Tensor(0.741371, shape=(), dtype=float32)\n",
      "F1 Score average for round 2 = 0.7385573983192444, Loss: 0.7385573983192444\n",
      "Loss:  tf.Tensor(0.7324584, shape=(), dtype=float32)\n",
      "Loss:  tf.Tensor(0.7247411, shape=(), dtype=float32)\n",
      "Loss:  tf.Tensor(0.7398429, shape=(), dtype=float32)\n",
      "Loss:  tf.Tensor(0.7312068, shape=(), dtype=float32)\n",
      "F1 Score average for round 3 = 0.7320623397827148, Loss: 0.7320623397827148\n",
      "Loss:  tf.Tensor(0.7308626, shape=(), dtype=float32)\n",
      "Loss:  tf.Tensor(0.73633623, shape=(), dtype=float32)\n",
      "Loss:  tf.Tensor(0.741484, shape=(), dtype=float32)\n",
      "Loss:  tf.Tensor(0.73126024, shape=(), dtype=float32)\n",
      "F1 Score average for round 4 = 0.7349857687950134, Loss: 0.7349857687950134\n",
      "Loss:  tf.Tensor(0.7329847, shape=(), dtype=float32)\n",
      "Loss:  tf.Tensor(0.737828, shape=(), dtype=float32)\n",
      "Loss:  tf.Tensor(0.7333991, shape=(), dtype=float32)\n",
      "Loss:  tf.Tensor(0.7318677, shape=(), dtype=float32)\n",
      "F1 Score average for round 5 = 0.7340198755264282, Loss: 0.7340198755264282\n",
      "Loss:  tf.Tensor(0.7426026, shape=(), dtype=float32)\n",
      "Loss:  tf.Tensor(0.74214137, shape=(), dtype=float32)\n",
      "Loss:  tf.Tensor(0.7348496, shape=(), dtype=float32)\n",
      "Loss:  tf.Tensor(0.73688585, shape=(), dtype=float32)\n",
      "F1 Score average for round 6 = 0.739119827747345, Loss: 0.739119827747345\n",
      "Loss:  tf.Tensor(0.73824894, shape=(), dtype=float32)\n",
      "Loss:  tf.Tensor(0.7361386, shape=(), dtype=float32)\n",
      "Loss:  tf.Tensor(0.733613, shape=(), dtype=float32)\n",
      "Loss:  tf.Tensor(0.7369168, shape=(), dtype=float32)\n",
      "F1 Score average for round 7 = 0.7362293601036072, Loss: 0.7362293601036072\n",
      "Loss:  tf.Tensor(0.74074066, shape=(), dtype=float32)\n",
      "Loss:  tf.Tensor(0.7285612, shape=(), dtype=float32)\n",
      "Loss:  tf.Tensor(0.72849464, shape=(), dtype=float32)\n",
      "Loss:  tf.Tensor(0.73759305, shape=(), dtype=float32)\n",
      "F1 Score average for round 8 = 0.7338473796844482, Loss: 0.7338473796844482\n",
      "Loss:  tf.Tensor(0.73089963, shape=(), dtype=float32)\n",
      "Loss:  tf.Tensor(0.738043, shape=(), dtype=float32)\n",
      "Loss:  tf.Tensor(0.74207765, shape=(), dtype=float32)\n",
      "Loss:  tf.Tensor(0.737816, shape=(), dtype=float32)\n",
      "F1 Score average for round 9 = 0.7372090816497803, Loss: 0.7372090816497803\n",
      "Loss:  tf.Tensor(0.7419179, shape=(), dtype=float32)\n",
      "Loss:  tf.Tensor(0.72987056, shape=(), dtype=float32)\n",
      "Loss:  tf.Tensor(0.73709303, shape=(), dtype=float32)\n",
      "Loss:  tf.Tensor(0.7366366, shape=(), dtype=float32)\n",
      "F1 Score average for round 10 = 0.7363795042037964, Loss: 0.7363795042037964\n",
      "Loss:  tf.Tensor(0.74168825, shape=(), dtype=float32)\n",
      "Loss:  tf.Tensor(0.7430785, shape=(), dtype=float32)\n",
      "Loss:  tf.Tensor(0.7403481, shape=(), dtype=float32)\n",
      "Loss:  tf.Tensor(0.7363768, shape=(), dtype=float32)\n",
      "F1 Score average for round 11 = 0.740372896194458, Loss: 0.740372896194458\n",
      "Loss:  tf.Tensor(0.73467195, shape=(), dtype=float32)\n",
      "Loss:  tf.Tensor(0.7336324, shape=(), dtype=float32)\n",
      "Loss:  tf.Tensor(0.7418584, shape=(), dtype=float32)\n",
      "Loss:  tf.Tensor(0.74102294, shape=(), dtype=float32)\n",
      "F1 Score average for round 12 = 0.737796425819397, Loss: 0.737796425819397\n",
      "Loss:  tf.Tensor(0.7400498, shape=(), dtype=float32)\n",
      "Loss:  tf.Tensor(0.7369449, shape=(), dtype=float32)\n",
      "Loss:  tf.Tensor(0.73894584, shape=(), dtype=float32)\n",
      "Loss:  tf.Tensor(0.74097806, shape=(), dtype=float32)\n",
      "F1 Score average for round 13 = 0.7392296195030212, Loss: 0.7392296195030212\n",
      "CV Round complete\n",
      "TRAIN: [    1     2     4 ... 19410 19412 19413] TEST: [    0     3    15 ... 19405 19408 19411]\n",
      "Loss:  tf.Tensor(0.93071944, shape=(), dtype=float32)\n",
      "Loss:  tf.Tensor(0.9286769, shape=(), dtype=float32)\n",
      "Loss:  tf.Tensor(0.92903864, shape=(), dtype=float32)\n",
      "Loss:  tf.Tensor(0.9266914, shape=(), dtype=float32)\n",
      "F1 Score average for round 0 = 0.9287816286087036, Loss: 0.9287816286087036\n",
      "Loss:  tf.Tensor(0.7157938, shape=(), dtype=float32)\n",
      "Loss:  tf.Tensor(0.7196422, shape=(), dtype=float32)\n",
      "Loss:  tf.Tensor(0.71347165, shape=(), dtype=float32)\n",
      "Loss:  tf.Tensor(0.7172752, shape=(), dtype=float32)\n",
      "F1 Score average for round 1 = 0.7165457010269165, Loss: 0.7165457010269165\n",
      "Loss:  tf.Tensor(0.7418715, shape=(), dtype=float32)\n",
      "Loss:  tf.Tensor(0.73868674, shape=(), dtype=float32)\n",
      "Loss:  tf.Tensor(0.73881614, shape=(), dtype=float32)\n",
      "Loss:  tf.Tensor(0.7430948, shape=(), dtype=float32)\n",
      "F1 Score average for round 2 = 0.7406172752380371, Loss: 0.7406172752380371\n",
      "Loss:  tf.Tensor(0.7371479, shape=(), dtype=float32)\n",
      "Loss:  tf.Tensor(0.7376196, shape=(), dtype=float32)\n",
      "Loss:  tf.Tensor(0.73679954, shape=(), dtype=float32)\n",
      "Loss:  tf.Tensor(0.7425848, shape=(), dtype=float32)\n",
      "F1 Score average for round 3 = 0.7385379076004028, Loss: 0.7385379076004028\n",
      "Loss:  tf.Tensor(0.7344453, shape=(), dtype=float32)\n",
      "Loss:  tf.Tensor(0.7376724, shape=(), dtype=float32)\n",
      "Loss:  tf.Tensor(0.74485785, shape=(), dtype=float32)\n",
      "Loss:  tf.Tensor(0.72686476, shape=(), dtype=float32)\n",
      "F1 Score average for round 4 = 0.735960066318512, Loss: 0.735960066318512\n",
      "Loss:  tf.Tensor(0.7322837, shape=(), dtype=float32)\n",
      "Loss:  tf.Tensor(0.73007476, shape=(), dtype=float32)\n",
      "Loss:  tf.Tensor(0.7389961, shape=(), dtype=float32)\n",
      "Loss:  tf.Tensor(0.7297532, shape=(), dtype=float32)\n",
      "F1 Score average for round 5 = 0.732776939868927, Loss: 0.732776939868927\n",
      "Loss:  tf.Tensor(0.7409931, shape=(), dtype=float32)\n",
      "Loss:  tf.Tensor(0.74210304, shape=(), dtype=float32)\n",
      "Loss:  tf.Tensor(0.7454162, shape=(), dtype=float32)\n",
      "Loss:  tf.Tensor(0.74257755, shape=(), dtype=float32)\n",
      "F1 Score average for round 6 = 0.7427724599838257, Loss: 0.7427724599838257\n",
      "Loss:  tf.Tensor(0.73352, shape=(), dtype=float32)\n",
      "Loss:  tf.Tensor(0.7375071, shape=(), dtype=float32)\n",
      "Loss:  tf.Tensor(0.7419258, shape=(), dtype=float32)\n",
      "Loss:  tf.Tensor(0.7401339, shape=(), dtype=float32)\n",
      "F1 Score average for round 7 = 0.7382717132568359, Loss: 0.7382717132568359\n",
      "Loss:  tf.Tensor(0.7374132, shape=(), dtype=float32)\n",
      "Loss:  tf.Tensor(0.7415516, shape=(), dtype=float32)\n",
      "Loss:  tf.Tensor(0.73486453, shape=(), dtype=float32)\n",
      "Loss:  tf.Tensor(0.7350712, shape=(), dtype=float32)\n",
      "F1 Score average for round 8 = 0.7372251152992249, Loss: 0.7372251152992249\n",
      "Loss:  tf.Tensor(0.74709964, shape=(), dtype=float32)\n",
      "Loss:  tf.Tensor(0.7407688, shape=(), dtype=float32)\n",
      "Loss:  tf.Tensor(0.74220365, shape=(), dtype=float32)\n",
      "Loss:  tf.Tensor(0.7309776, shape=(), dtype=float32)\n",
      "F1 Score average for round 9 = 0.7402623891830444, Loss: 0.7402623891830444\n",
      "Loss:  tf.Tensor(0.7430919, shape=(), dtype=float32)\n",
      "Loss:  tf.Tensor(0.74254394, shape=(), dtype=float32)\n",
      "Loss:  tf.Tensor(0.7416487, shape=(), dtype=float32)\n",
      "Loss:  tf.Tensor(0.73386383, shape=(), dtype=float32)\n",
      "F1 Score average for round 10 = 0.7402870655059814, Loss: 0.7402870655059814\n",
      "Loss:  tf.Tensor(0.7442199, shape=(), dtype=float32)\n",
      "Loss:  tf.Tensor(0.7399604, shape=(), dtype=float32)\n",
      "Loss:  tf.Tensor(0.7454253, shape=(), dtype=float32)\n",
      "Loss:  tf.Tensor(0.73450977, shape=(), dtype=float32)\n",
      "F1 Score average for round 11 = 0.7410287857055664, Loss: 0.7410287857055664\n",
      "CV Round complete\n",
      "TRAIN: [    0     1     2 ... 19411 19412 19413] TEST: [    6     7     8 ... 19391 19398 19401]\n",
      "Loss:  tf.Tensor(0.9285049, shape=(), dtype=float32)\n",
      "Loss:  tf.Tensor(0.9327635, shape=(), dtype=float32)\n",
      "Loss:  tf.Tensor(0.9233457, shape=(), dtype=float32)\n",
      "Loss:  tf.Tensor(0.93023837, shape=(), dtype=float32)\n",
      "F1 Score average for round 0 = 0.9287130832672119, Loss: 0.9287130832672119\n",
      "Loss:  tf.Tensor(0.7174635, shape=(), dtype=float32)\n",
      "Loss:  tf.Tensor(0.7161048, shape=(), dtype=float32)\n",
      "Loss:  tf.Tensor(0.71809906, shape=(), dtype=float32)\n",
      "Loss:  tf.Tensor(0.72019, shape=(), dtype=float32)\n",
      "F1 Score average for round 1 = 0.7179643511772156, Loss: 0.7179643511772156\n",
      "Loss:  tf.Tensor(0.7300201, shape=(), dtype=float32)\n",
      "Loss:  tf.Tensor(0.73116106, shape=(), dtype=float32)\n",
      "Loss:  tf.Tensor(0.7221245, shape=(), dtype=float32)\n",
      "Loss:  tf.Tensor(0.73453695, shape=(), dtype=float32)\n",
      "F1 Score average for round 2 = 0.7294606566429138, Loss: 0.7294606566429138\n",
      "Loss:  tf.Tensor(0.7363599, shape=(), dtype=float32)\n",
      "Loss:  tf.Tensor(0.72395194, shape=(), dtype=float32)\n",
      "Loss:  tf.Tensor(0.72557026, shape=(), dtype=float32)\n",
      "Loss:  tf.Tensor(0.7329089, shape=(), dtype=float32)\n",
      "F1 Score average for round 3 = 0.7296977639198303, Loss: 0.7296977639198303\n",
      "Loss:  tf.Tensor(0.73181784, shape=(), dtype=float32)\n",
      "Loss:  tf.Tensor(0.7277294, shape=(), dtype=float32)\n",
      "Loss:  tf.Tensor(0.7214375, shape=(), dtype=float32)\n",
      "Loss:  tf.Tensor(0.7389498, shape=(), dtype=float32)\n",
      "F1 Score average for round 4 = 0.7299836277961731, Loss: 0.7299836277961731\n",
      "Loss:  tf.Tensor(0.7229282, shape=(), dtype=float32)\n",
      "Loss:  tf.Tensor(0.7310277, shape=(), dtype=float32)\n",
      "Loss:  tf.Tensor(0.7369085, shape=(), dtype=float32)\n",
      "Loss:  tf.Tensor(0.73011035, shape=(), dtype=float32)\n",
      "F1 Score average for round 5 = 0.7302436828613281, Loss: 0.7302436828613281\n",
      "Loss:  tf.Tensor(0.7336986, shape=(), dtype=float32)\n",
      "Loss:  tf.Tensor(0.73473364, shape=(), dtype=float32)\n",
      "Loss:  tf.Tensor(0.7361964, shape=(), dtype=float32)\n",
      "Loss:  tf.Tensor(0.7287776, shape=(), dtype=float32)\n",
      "F1 Score average for round 6 = 0.7333515286445618, Loss: 0.7333515286445618\n",
      "Loss:  tf.Tensor(0.7405922, shape=(), dtype=float32)\n",
      "Loss:  tf.Tensor(0.74150085, shape=(), dtype=float32)\n",
      "Loss:  tf.Tensor(0.73470783, shape=(), dtype=float32)\n",
      "Loss:  tf.Tensor(0.7297492, shape=(), dtype=float32)\n",
      "F1 Score average for round 7 = 0.736637532711029, Loss: 0.736637532711029\n",
      "Loss:  tf.Tensor(0.7475082, shape=(), dtype=float32)\n",
      "Loss:  tf.Tensor(0.7451839, shape=(), dtype=float32)\n",
      "Loss:  tf.Tensor(0.73434603, shape=(), dtype=float32)\n",
      "Loss:  tf.Tensor(0.72991705, shape=(), dtype=float32)\n",
      "F1 Score average for round 8 = 0.7392387986183167, Loss: 0.7392387986183167\n",
      "Loss:  tf.Tensor(0.7300476, shape=(), dtype=float32)\n",
      "Loss:  tf.Tensor(0.730499, shape=(), dtype=float32)\n",
      "Loss:  tf.Tensor(0.7368997, shape=(), dtype=float32)\n",
      "Loss:  tf.Tensor(0.7399094, shape=(), dtype=float32)\n",
      "F1 Score average for round 9 = 0.7343389391899109, Loss: 0.7343389391899109\n",
      "Loss:  tf.Tensor(0.73680776, shape=(), dtype=float32)\n",
      "Loss:  tf.Tensor(0.7418671, shape=(), dtype=float32)\n",
      "Loss:  tf.Tensor(0.7323021, shape=(), dtype=float32)\n",
      "Loss:  tf.Tensor(0.7233665, shape=(), dtype=float32)\n",
      "F1 Score average for round 10 = 0.7335858941078186, Loss: 0.7335858941078186\n",
      "Loss:  tf.Tensor(0.72673184, shape=(), dtype=float32)\n",
      "Loss:  tf.Tensor(0.73937833, shape=(), dtype=float32)\n",
      "Loss:  tf.Tensor(0.73369604, shape=(), dtype=float32)\n",
      "Loss:  tf.Tensor(0.7403674, shape=(), dtype=float32)\n",
      "F1 Score average for round 11 = 0.7350434064865112, Loss: 0.7350434064865112\n",
      "CV Round complete\n",
      "TRAIN: [    0     1     2 ... 19411 19412 19413] TEST: [   37    40    52 ... 19407 19409 19410]\n",
      "Loss:  tf.Tensor(0.9241156, shape=(), dtype=float32)\n",
      "Loss:  tf.Tensor(0.9229399, shape=(), dtype=float32)\n",
      "Loss:  tf.Tensor(0.92180645, shape=(), dtype=float32)\n",
      "Loss:  tf.Tensor(0.92258114, shape=(), dtype=float32)\n",
      "F1 Score average for round 0 = 0.9228607416152954, Loss: 0.9228607416152954\n",
      "Loss:  tf.Tensor(0.7384876, shape=(), dtype=float32)\n",
      "Loss:  tf.Tensor(0.7394576, shape=(), dtype=float32)\n",
      "Loss:  tf.Tensor(0.72966766, shape=(), dtype=float32)\n",
      "Loss:  tf.Tensor(0.73664397, shape=(), dtype=float32)\n",
      "F1 Score average for round 1 = 0.7360642552375793, Loss: 0.7360642552375793\n",
      "Loss:  tf.Tensor(0.73950195, shape=(), dtype=float32)\n",
      "Loss:  tf.Tensor(0.7355457, shape=(), dtype=float32)\n",
      "Loss:  tf.Tensor(0.7279372, shape=(), dtype=float32)\n",
      "Loss:  tf.Tensor(0.73960996, shape=(), dtype=float32)\n",
      "F1 Score average for round 2 = 0.7356486916542053, Loss: 0.7356486916542053\n",
      "Loss:  tf.Tensor(0.7273439, shape=(), dtype=float32)\n",
      "Loss:  tf.Tensor(0.73357135, shape=(), dtype=float32)\n",
      "Loss:  tf.Tensor(0.73549575, shape=(), dtype=float32)\n",
      "Loss:  tf.Tensor(0.7305746, shape=(), dtype=float32)\n",
      "F1 Score average for round 3 = 0.7317464351654053, Loss: 0.7317464351654053\n",
      "Loss:  tf.Tensor(0.7350638, shape=(), dtype=float32)\n",
      "Loss:  tf.Tensor(0.72074246, shape=(), dtype=float32)\n",
      "Loss:  tf.Tensor(0.73631626, shape=(), dtype=float32)\n",
      "Loss:  tf.Tensor(0.7366122, shape=(), dtype=float32)\n",
      "F1 Score average for round 4 = 0.7321836948394775, Loss: 0.7321836948394775\n",
      "Loss:  tf.Tensor(0.73274404, shape=(), dtype=float32)\n",
      "Loss:  tf.Tensor(0.73293835, shape=(), dtype=float32)\n",
      "Loss:  tf.Tensor(0.73936987, shape=(), dtype=float32)\n",
      "Loss:  tf.Tensor(0.73731375, shape=(), dtype=float32)\n",
      "F1 Score average for round 5 = 0.7355915307998657, Loss: 0.7355915307998657\n",
      "Loss:  tf.Tensor(0.737273, shape=(), dtype=float32)\n",
      "Loss:  tf.Tensor(0.74085206, shape=(), dtype=float32)\n",
      "Loss:  tf.Tensor(0.73153186, shape=(), dtype=float32)\n",
      "Loss:  tf.Tensor(0.74408716, shape=(), dtype=float32)\n",
      "F1 Score average for round 6 = 0.7384360432624817, Loss: 0.7384360432624817\n",
      "Loss:  tf.Tensor(0.73487794, shape=(), dtype=float32)\n",
      "Loss:  tf.Tensor(0.7408206, shape=(), dtype=float32)\n",
      "Loss:  tf.Tensor(0.7272224, shape=(), dtype=float32)\n",
      "Loss:  tf.Tensor(0.737479, shape=(), dtype=float32)\n",
      "F1 Score average for round 7 = 0.7350999712944031, Loss: 0.7350999712944031\n",
      "Loss:  tf.Tensor(0.72477436, shape=(), dtype=float32)\n",
      "Loss:  tf.Tensor(0.7380783, shape=(), dtype=float32)\n",
      "Loss:  tf.Tensor(0.7359164, shape=(), dtype=float32)\n",
      "Loss:  tf.Tensor(0.73813045, shape=(), dtype=float32)\n",
      "F1 Score average for round 8 = 0.7342249155044556, Loss: 0.7342249155044556\n",
      "Loss:  tf.Tensor(0.74284893, shape=(), dtype=float32)\n",
      "Loss:  tf.Tensor(0.74094737, shape=(), dtype=float32)\n",
      "Loss:  tf.Tensor(0.74357307, shape=(), dtype=float32)\n",
      "Loss:  tf.Tensor(0.72668535, shape=(), dtype=float32)\n",
      "F1 Score average for round 9 = 0.7385136485099792, Loss: 0.7385136485099792\n",
      "Loss:  tf.Tensor(0.7218539, shape=(), dtype=float32)\n",
      "Loss:  tf.Tensor(0.73785114, shape=(), dtype=float32)\n",
      "Loss:  tf.Tensor(0.7426561, shape=(), dtype=float32)\n",
      "Loss:  tf.Tensor(0.73958296, shape=(), dtype=float32)\n",
      "F1 Score average for round 10 = 0.7354860305786133, Loss: 0.7354860305786133\n",
      "Loss:  tf.Tensor(0.7353506, shape=(), dtype=float32)\n",
      "Loss:  tf.Tensor(0.7396838, shape=(), dtype=float32)\n",
      "Loss:  tf.Tensor(0.7392244, shape=(), dtype=float32)\n",
      "Loss:  tf.Tensor(0.73392993, shape=(), dtype=float32)\n",
      "F1 Score average for round 11 = 0.7370471954345703, Loss: 0.7370471954345703\n",
      "Loss:  tf.Tensor(0.735147, shape=(), dtype=float32)\n",
      "Loss:  tf.Tensor(0.73781466, shape=(), dtype=float32)\n",
      "Loss:  tf.Tensor(0.7306051, shape=(), dtype=float32)\n",
      "Loss:  tf.Tensor(0.7435774, shape=(), dtype=float32)\n",
      "F1 Score average for round 12 = 0.7367860674858093, Loss: 0.7367860674858093\n",
      "Loss:  tf.Tensor(0.7448339, shape=(), dtype=float32)\n",
      "Loss:  tf.Tensor(0.74776876, shape=(), dtype=float32)\n",
      "Loss:  tf.Tensor(0.73049486, shape=(), dtype=float32)\n",
      "Loss:  tf.Tensor(0.7380583, shape=(), dtype=float32)\n",
      "F1 Score average for round 13 = 0.7402889132499695, Loss: 0.7402889132499695\n",
      "CV Round complete\n",
      "TRAIN: [    0     2     3 ... 19410 19411 19412] TEST: [    1     5    11 ... 19404 19406 19413]\n",
      "Loss:  tf.Tensor(0.9305443, shape=(), dtype=float32)\n",
      "Loss:  tf.Tensor(0.9322175, shape=(), dtype=float32)\n",
      "Loss:  tf.Tensor(0.9257289, shape=(), dtype=float32)\n",
      "Loss:  tf.Tensor(0.93360746, shape=(), dtype=float32)\n",
      "F1 Score average for round 0 = 0.9305245876312256, Loss: 0.9305245876312256\n",
      "Loss:  tf.Tensor(0.7473704, shape=(), dtype=float32)\n",
      "Loss:  tf.Tensor(0.7460736, shape=(), dtype=float32)\n",
      "Loss:  tf.Tensor(0.7457555, shape=(), dtype=float32)\n",
      "Loss:  tf.Tensor(0.7445888, shape=(), dtype=float32)\n",
      "F1 Score average for round 1 = 0.7459470629692078, Loss: 0.7459470629692078\n",
      "Loss:  tf.Tensor(0.73560506, shape=(), dtype=float32)\n",
      "Loss:  tf.Tensor(0.74478495, shape=(), dtype=float32)\n",
      "Loss:  tf.Tensor(0.741153, shape=(), dtype=float32)\n",
      "Loss:  tf.Tensor(0.7418544, shape=(), dtype=float32)\n",
      "F1 Score average for round 2 = 0.7408493757247925, Loss: 0.7408493757247925\n",
      "Loss:  tf.Tensor(0.73438096, shape=(), dtype=float32)\n",
      "Loss:  tf.Tensor(0.74442446, shape=(), dtype=float32)\n",
      "Loss:  tf.Tensor(0.7446469, shape=(), dtype=float32)\n",
      "Loss:  tf.Tensor(0.73385316, shape=(), dtype=float32)\n",
      "F1 Score average for round 3 = 0.7393263578414917, Loss: 0.7393263578414917\n",
      "Loss:  tf.Tensor(0.7361567, shape=(), dtype=float32)\n",
      "Loss:  tf.Tensor(0.7342852, shape=(), dtype=float32)\n",
      "Loss:  tf.Tensor(0.7441462, shape=(), dtype=float32)\n",
      "Loss:  tf.Tensor(0.7307085, shape=(), dtype=float32)\n",
      "F1 Score average for round 4 = 0.7363241910934448, Loss: 0.7363241910934448\n",
      "Loss:  tf.Tensor(0.7369823, shape=(), dtype=float32)\n",
      "Loss:  tf.Tensor(0.73758525, shape=(), dtype=float32)\n",
      "Loss:  tf.Tensor(0.74239665, shape=(), dtype=float32)\n",
      "Loss:  tf.Tensor(0.7366335, shape=(), dtype=float32)\n",
      "F1 Score average for round 5 = 0.7383994460105896, Loss: 0.7383994460105896\n",
      "Loss:  tf.Tensor(0.7411987, shape=(), dtype=float32)\n",
      "Loss:  tf.Tensor(0.7389656, shape=(), dtype=float32)\n",
      "Loss:  tf.Tensor(0.74138576, shape=(), dtype=float32)\n",
      "Loss:  tf.Tensor(0.7424984, shape=(), dtype=float32)\n",
      "F1 Score average for round 6 = 0.7410120964050293, Loss: 0.7410120964050293\n",
      "Loss:  tf.Tensor(0.7398242, shape=(), dtype=float32)\n",
      "Loss:  tf.Tensor(0.7406705, shape=(), dtype=float32)\n",
      "Loss:  tf.Tensor(0.73485315, shape=(), dtype=float32)\n",
      "Loss:  tf.Tensor(0.7402951, shape=(), dtype=float32)\n",
      "F1 Score average for round 7 = 0.7389107346534729, Loss: 0.7389107346534729\n",
      "Loss:  tf.Tensor(0.7350106, shape=(), dtype=float32)\n",
      "Loss:  tf.Tensor(0.7376978, shape=(), dtype=float32)\n",
      "Loss:  tf.Tensor(0.745328, shape=(), dtype=float32)\n",
      "Loss:  tf.Tensor(0.73573965, shape=(), dtype=float32)\n",
      "F1 Score average for round 8 = 0.7384440302848816, Loss: 0.7384440302848816\n",
      "Loss:  tf.Tensor(0.735508, shape=(), dtype=float32)\n",
      "Loss:  tf.Tensor(0.73886687, shape=(), dtype=float32)\n",
      "Loss:  tf.Tensor(0.74041665, shape=(), dtype=float32)\n",
      "Loss:  tf.Tensor(0.7379361, shape=(), dtype=float32)\n",
      "F1 Score average for round 9 = 0.7381818890571594, Loss: 0.7381818890571594\n",
      "Loss:  tf.Tensor(0.73381513, shape=(), dtype=float32)\n",
      "Loss:  tf.Tensor(0.7343769, shape=(), dtype=float32)\n",
      "Loss:  tf.Tensor(0.73851275, shape=(), dtype=float32)\n",
      "Loss:  tf.Tensor(0.7390279, shape=(), dtype=float32)\n",
      "F1 Score average for round 10 = 0.736433207988739, Loss: 0.736433207988739\n",
      "Loss:  tf.Tensor(0.74155223, shape=(), dtype=float32)\n",
      "Loss:  tf.Tensor(0.7379949, shape=(), dtype=float32)\n",
      "Loss:  tf.Tensor(0.73884684, shape=(), dtype=float32)\n",
      "Loss:  tf.Tensor(0.7426731, shape=(), dtype=float32)\n",
      "F1 Score average for round 11 = 0.7402667999267578, Loss: 0.7402667999267578\n",
      "Loss:  tf.Tensor(0.7363275, shape=(), dtype=float32)\n",
      "Loss:  tf.Tensor(0.7411186, shape=(), dtype=float32)\n",
      "Loss:  tf.Tensor(0.7401538, shape=(), dtype=float32)\n",
      "Loss:  tf.Tensor(0.74022067, shape=(), dtype=float32)\n",
      "F1 Score average for round 12 = 0.7394551038742065, Loss: 0.7394551038742065\n",
      "Loss:  tf.Tensor(0.7420385, shape=(), dtype=float32)\n",
      "Loss:  tf.Tensor(0.7442891, shape=(), dtype=float32)\n",
      "Loss:  tf.Tensor(0.7391128, shape=(), dtype=float32)\n",
      "Loss:  tf.Tensor(0.7346153, shape=(), dtype=float32)\n",
      "F1 Score average for round 13 = 0.7400139570236206, Loss: 0.7400139570236206\n",
      "Loss:  tf.Tensor(0.7381379, shape=(), dtype=float32)\n",
      "Loss:  tf.Tensor(0.73950005, shape=(), dtype=float32)\n",
      "Loss:  tf.Tensor(0.74508905, shape=(), dtype=float32)\n",
      "Loss:  tf.Tensor(0.73603046, shape=(), dtype=float32)\n",
      "F1 Score average for round 14 = 0.7396893501281738, Loss: 0.7396893501281738\n",
      "CV Round complete\n"
     ]
    }
   ],
   "source": [
    "loss_CV = []\n",
    "acc_CV = []\n",
    "loss_validation_averages_all = []\n",
    "loss_values_averages_all = []\n",
    "clients_number = 4\n",
    "patience = 10\n",
    "best_models = []\n",
    "early_stopping_applied = []\n",
    "test_batches_CV = []\n",
    "for train_index, test_index in skf.split(vitals_features_reshaped, vitals_labels_reshaped):\n",
    "    print(\"TRAIN:\", train_index, \"TEST:\", test_index)\n",
    "    X_train_vitals, X_test_vitals = vitals_features_reshaped[train_index], vitals_features_reshaped[test_index]\n",
    "    X_train_labs, X_test_labs = labs_features_reshaped[train_index], labs_features_reshaped[test_index]\n",
    "    y_train, y_test = vitals_labels_reshaped[train_index], vitals_labels_reshaped[test_index]\n",
    "    clients = create_clients(X_train_labs, X_train_vitals ,y_train, num_clients=clients_number, initial='client')\n",
    "    #process and batch the training data for each client\n",
    "    clients_batched = dict()\n",
    "    for (client_name, data) in clients.items():\n",
    "        clients_batched[client_name] = batch_data(data)\n",
    "    #Standardizing the testing set based on all training data\n",
    "    X_train_labs = np.array(X_train_labs)\n",
    "    samples_train, groupedBy_train, sample_values_train = X_train_labs.shape\n",
    "    X_train_labs = np.reshape(X_train_labs, (samples_train*groupedBy_train,sample_values_train))\n",
    "    samples_test, groupedBy_test, sample_values_test = X_test_labs.shape\n",
    "    X_test_labs = np.reshape(X_test_labs, (samples_test*groupedBy_test,sample_values_test))\n",
    "    scaler_labs = StandardScaler()\n",
    "    scaler_labs = scaler_labs.fit(X_train_labs)\n",
    "    X_test_labs = scaler_labs.transform(X_test_labs)\n",
    "    X_test_labs = np.reshape(X_test_labs, (samples_test,groupedBy_test,sample_values_test))\n",
    "\n",
    "\n",
    "    X_train_vitals = np.array(X_train_vitals)\n",
    "    samples_train, groupedBy_train, sample_values_train = X_train_vitals.shape\n",
    "    X_train_vitals = np.reshape(X_train_vitals, (samples_train*groupedBy_train,sample_values_train))\n",
    "    samples_test, groupedBy_test, sample_values_test = X_test_vitals.shape\n",
    "    X_test_vitals = np.reshape(X_test_vitals, (samples_test*groupedBy_test,sample_values_test))\n",
    "    scaler_labs = StandardScaler()\n",
    "    scaler_labs = scaler_labs.fit(X_train_vitals)\n",
    "    X_test_vitals = scaler_labs.transform(X_test_vitals)\n",
    "    X_test_vitals = np.reshape(X_test_vitals, (samples_test,groupedBy_test,sample_values_test))\n",
    "\n",
    "    #process and batch the test set  \n",
    "    test_batched = tf.data.Dataset.from_tensor_slices(({\"Input_1\": list(X_test_labs), \n",
    "    \"Input_2\": list(X_test_vitals)}, list(y_test))).batch(len(y_test))\n",
    "    test_batches_CV.append(test_batched)\n",
    "    #initialize global model\n",
    "    loss_validation_averages = []\n",
    "    loss_values_averages = []\n",
    "    models_CV = []\n",
    "    best_score = 0\n",
    "    rounds_worse_than_before = 0    \n",
    "    rnn_global = RNNModel()\n",
    "    global_model = rnn_global.build()\n",
    "    comms_round = 300\n",
    "    loss = 'binary_crossentropy'\n",
    "    metrics = ['accuracy']\n",
    "    global_loss = []\n",
    "    global_acc = []\n",
    "    learning_rate = 0.01\n",
    "    optimizer = tf.keras.optimizers.Adam(learning_rate=learning_rate)\n",
    "    counter = 0\n",
    "    #commence global training loop\n",
    "    for comm_round in range(comms_round):\n",
    "        if comm_round % 5 == 0 and comm_round > 0:\n",
    "            learning_rate = learning_rate * 0.5\n",
    "            optimizer = tf.keras.optimizers.Adam(learning_rate=learning_rate)\n",
    "        # get the global model's weights - will serve as the initial weights for all local models\n",
    "        global_weights = global_model.get_weights()\n",
    "        \n",
    "        #initial list to collect local model weights after scalling\n",
    "        scaled_local_weight_list = list()\n",
    "\n",
    "        #randomize client data - using keys\n",
    "        client_names= list(clients_batched.keys())\n",
    "        random.shuffle(client_names)\n",
    "        \n",
    "        #loop through each client and create new local model\n",
    "        for client in client_names:\n",
    "            rnn_local = RNNModel()\n",
    "            local_model = rnn_local.build()\n",
    "            local_model.compile(loss=loss, \n",
    "                        optimizer=optimizer, \n",
    "                        metrics=metrics)\n",
    "            \n",
    "            #set local model weight to the weight of the global model\n",
    "            local_model.set_weights(global_weights)\n",
    "\n",
    "            #fit local model with client's data\n",
    "            local_model.fit(clients_batched[client][0], epochs=3, verbose=0, validation_data=clients_batched[client][1])\n",
    "            \n",
    "            #scale the model weights and add to list\n",
    "            scaling_factor = weight_scalling_factor(clients_batched, client)\n",
    "            scaled_weights = scale_model_weights(local_model.get_weights(), scaling_factor)\n",
    "            scaled_local_weight_list.append(scaled_weights)\n",
    "            \n",
    "            #clear session to free memory after each communication round\n",
    "            K.clear_session()\n",
    "            \n",
    "        #to get the average over all the local model, we simply take the sum of the scaled weights\n",
    "        average_weights = sum_scaled_weights(scaled_local_weight_list)\n",
    "        \n",
    "        #update global model \n",
    "        global_model.set_weights(average_weights)\n",
    "\n",
    "        #evaluating the current global model against each clients validation data\n",
    "        loss_validation_scores = 0\n",
    "        loss_values = 0\n",
    "        for client in client_names:\n",
    "            rnn_local = RNNModel()\n",
    "            local_model = rnn_local.build()\n",
    "            local_model.compile(loss=loss, \n",
    "                        optimizer=optimizer, \n",
    "                        metrics=metrics)     \n",
    "            #set local model weight to the weight of the global model\n",
    "            local_model.set_weights(global_weights)\n",
    "            loss_value = evaluating_model_own_validation_data(local_model, clients_batched[client][1])\n",
    "            loss_validation_scores += loss_value\n",
    "            loss_values += loss_value\n",
    "        loss_validation_scores = loss_validation_scores / clients_number\n",
    "        loss_values = loss_values / clients_number\n",
    "        print(\"F1 Score average for round {} = {}, Loss: {}\".format(comm_round, loss_validation_scores, loss_values))\n",
    "        models_CV.append(global_model)\n",
    "        loss_validation_averages.append(loss_validation_scores)\n",
    "        loss_values_averages.append(loss_values)\n",
    "        if  len(loss_validation_averages) == 1:\n",
    "            best_score = loss_validation_averages[0]\n",
    "        #checks for early stopping according to f1 score and patience\n",
    "        if len(loss_validation_averages) > 1:\n",
    "            if loss_validation_averages[-1] >= best_score:\n",
    "                rounds_worse_than_before += 1\n",
    "            else:\n",
    "                rounds_worse_than_before = 0\n",
    "                best_score = loss_validation_averages[-1]\n",
    "        if rounds_worse_than_before == patience:\n",
    "            break\n",
    "\n",
    "    if rounds_worse_than_before == patience:\n",
    "        loss_validation_averages_all.append(loss_validation_averages[:-patience])\n",
    "        loss_values_averages_all.append(loss_values_averages[:-patience])\n",
    "        best_models.append(models_CV[:-patience])\n",
    "        early_stopping_applied.append(True)\n",
    "    else:\n",
    "        loss_validation_averages_all.append(loss_validation_averages)\n",
    "        loss_values_averages_all.append(loss_values_averages)\n",
    "        best_models.append(models_CV) \n",
    "        early_stopping_applied.append(False)\n",
    "    print(\"CV Round complete\")"
   ]
  },
  {
   "cell_type": "markdown",
   "metadata": {},
   "source": [
    "# Results for Early Stopping when monitoring the average F1 Score value of all the clients using their own validation data "
   ]
  },
  {
   "cell_type": "code",
   "execution_count": 18,
   "metadata": {},
   "outputs": [
    {
     "data": {
      "image/png": "[encoded data removed]",
      "text/plain": [
       "<Figure size 432x288 with 1 Axes>"
      ]
     },
     "metadata": {
      "needs_background": "light"
     },
     "output_type": "display_data"
    }
   ],
   "source": [
    "plt.subplot(2,1,1)\n",
    "for i in range(len(loss_values_averages_all)):\n",
    "    plt.plot(loss_values_averages_all[i])\n",
    "plt.title('models\\' loss')\n",
    "plt.ylabel('loss')\n",
    "plt.xlabel('Communication rounds')\n",
    "plt.legend(['fold1', 'fold2','fold3', 'fold4', 'fold5'], loc='lower right')\n",
    "plt.savefig(\"Model's Validation loss vs Communication Rounds - First technique with validation loss - 10 patience\")"
   ]
  },
  {
   "cell_type": "code",
   "execution_count": 20,
   "metadata": {},
   "outputs": [
    {
     "name": "stdout",
     "output_type": "stream",
     "text": [
      "Confusion Matrix\n",
      "[[ 300   78]\n",
      " [  44 3461]]\n",
      "F1 Score: 0.9068526130173455\n",
      "              precision    recall  f1-score   support\n",
      "\n",
      "     Class 0       0.98      0.99      0.98      3505\n",
      "     Class 1       0.87      0.79      0.83       378\n",
      "\n",
      "    accuracy                           0.97      3883\n",
      "   macro avg       0.93      0.89      0.91      3883\n",
      "weighted avg       0.97      0.97      0.97      3883\n",
      "\n",
      "Confusion Matrix\n",
      "[[ 307   71]\n",
      " [  35 3470]]\n",
      "F1 Score: 0.9188668905919828\n",
      "              precision    recall  f1-score   support\n",
      "\n",
      "     Class 0       0.98      0.99      0.98      3505\n",
      "     Class 1       0.90      0.81      0.85       378\n",
      "\n",
      "    accuracy                           0.97      3883\n",
      "   macro avg       0.94      0.90      0.92      3883\n",
      "weighted avg       0.97      0.97      0.97      3883\n",
      "\n",
      "Confusion Matrix\n",
      "[[ 300   79]\n",
      " [  49 3455]]\n",
      "F1 Score: 0.9029944196184605\n",
      "              precision    recall  f1-score   support\n",
      "\n",
      "     Class 0       0.98      0.99      0.98      3504\n",
      "     Class 1       0.86      0.79      0.82       379\n",
      "\n",
      "    accuracy                           0.97      3883\n",
      "   macro avg       0.92      0.89      0.90      3883\n",
      "weighted avg       0.97      0.97      0.97      3883\n",
      "\n",
      "WARNING:tensorflow:5 out of the last 14 calls to <function Model.make_predict_function.<locals>.predict_function at 0x000001AF04B9B0D0> triggered tf.function retracing. Tracing is expensive and the excessive number of tracings could be due to (1) creating @tf.function repeatedly in a loop, (2) passing tensors with different shapes, (3) passing Python objects instead of tensors. For (1), please define your @tf.function outside of the loop. For (2), @tf.function has experimental_relax_shapes=True option that relaxes argument shapes that can avoid unnecessary retracing. For (3), please refer to https://www.tensorflow.org/guide/function#controlling_retracing and https://www.tensorflow.org/api_docs/python/tf/function for  more details.\n",
      "Confusion Matrix\n",
      "[[ 296   83]\n",
      " [  36 3468]]\n",
      "F1 Score: 0.9078813142866826\n",
      "              precision    recall  f1-score   support\n",
      "\n",
      "     Class 0       0.98      0.99      0.98      3504\n",
      "     Class 1       0.89      0.78      0.83       379\n",
      "\n",
      "    accuracy                           0.97      3883\n",
      "   macro avg       0.93      0.89      0.91      3883\n",
      "weighted avg       0.97      0.97      0.97      3883\n",
      "\n",
      "WARNING:tensorflow:6 out of the last 15 calls to <function Model.make_predict_function.<locals>.predict_function at 0x000001AF693CD730> triggered tf.function retracing. Tracing is expensive and the excessive number of tracings could be due to (1) creating @tf.function repeatedly in a loop, (2) passing tensors with different shapes, (3) passing Python objects instead of tensors. For (1), please define your @tf.function outside of the loop. For (2), @tf.function has experimental_relax_shapes=True option that relaxes argument shapes that can avoid unnecessary retracing. For (3), please refer to https://www.tensorflow.org/guide/function#controlling_retracing and https://www.tensorflow.org/api_docs/python/tf/function for  more details.\n",
      "Confusion Matrix\n",
      "[[ 288   90]\n",
      " [  52 3452]]\n",
      "F1 Score: 0.8910375669002029\n",
      "              precision    recall  f1-score   support\n",
      "\n",
      "     Class 0       0.97      0.99      0.98      3504\n",
      "     Class 1       0.85      0.76      0.80       378\n",
      "\n",
      "    accuracy                           0.96      3882\n",
      "   macro avg       0.91      0.87      0.89      3882\n",
      "weighted avg       0.96      0.96      0.96      3882\n",
      "\n",
      "Average F1 Score: 0.9055265608829348\n"
     ]
    }
   ],
   "source": [
    "from sklearn.metrics import classification_report\n",
    "average_f1_score = 0\n",
    "#Confution Matrix and Classification Report\n",
    "for i in range(len(best_models)):\n",
    "    Y_pred = best_models[i][-1].predict(test_batches_CV[i])\n",
    "    y_pred = np.where(Y_pred > 0.5, 1, 0)\n",
    "    print('Confusion Matrix')\n",
    "    y_pred = y_pred.max(axis=1)\n",
    "    y_true = np.concatenate([y for x, y in test_batches_CV[i]], axis=0)\n",
    "    print(confusion_matrix(y_true, y_pred, labels=[True, False]))\n",
    "    f1_score_acc = f1_score(y_true, y_pred, average='macro')\n",
    "    average_f1_score += f1_score_acc\n",
    "    print(\"F1 Score: {}\".format(f1_score_acc))\n",
    "    print(classification_report(y_true, y_pred, target_names=['Class 0', 'Class 1']))\n",
    "average_f1_score = average_f1_score / len(best_models)\n",
    "print(\"Average F1 Score: {}\".format(average_f1_score))\n"
   ]
  },
  {
   "cell_type": "code",
   "execution_count": 21,
   "metadata": {},
   "outputs": [
    {
     "name": "stdout",
     "output_type": "stream",
     "text": [
      "FPR:  [0.        0.0125535 1.       ]\n",
      "TPR:  [0.         0.79365079 1.        ]\n"
     ]
    },
    {
     "data": {
      "image/png": "[encoded data removed]",
      "text/plain": [
       "<Figure size 432x288 with 1 Axes>"
      ]
     },
     "metadata": {
      "needs_background": "light"
     },
     "output_type": "display_data"
    },
    {
     "name": "stdout",
     "output_type": "stream",
     "text": [
      "FPR:  [0.         0.00998573 1.        ]\n",
      "TPR:  [0.         0.81216931 1.        ]\n"
     ]
    },
    {
     "data": {
      "image/png": "[encoded data removed]",
      "text/plain": [
       "<Figure size 432x288 with 1 Axes>"
      ]
     },
     "metadata": {
      "needs_background": "light"
     },
     "output_type": "display_data"
    },
    {
     "name": "stdout",
     "output_type": "stream",
     "text": [
      "FPR:  [0.         0.01398402 1.        ]\n",
      "TPR:  [0.         0.79155673 1.        ]\n"
     ]
    },
    {
     "data": {
      "image/png": "[encoded data removed]",
      "text/plain": [
       "<Figure size 432x288 with 1 Axes>"
      ]
     },
     "metadata": {
      "needs_background": "light"
     },
     "output_type": "display_data"
    },
    {
     "name": "stdout",
     "output_type": "stream",
     "text": [
      "FPR:  [0.         0.01027397 1.        ]\n",
      "TPR:  [0.         0.78100264 1.        ]\n"
     ]
    },
    {
     "data": {
      "image/png": "[encoded data removed]",
      "text/plain": [
       "<Figure size 432x288 with 1 Axes>"
      ]
     },
     "metadata": {
      "needs_background": "light"
     },
     "output_type": "display_data"
    },
    {
     "name": "stdout",
     "output_type": "stream",
     "text": [
      "FPR:  [0.         0.01484018 1.        ]\n",
      "TPR:  [0.         0.76190476 1.        ]\n"
     ]
    },
    {
     "data": {
      "image/png": "[encoded data removed]",
      "text/plain": [
       "<Figure size 432x288 with 1 Axes>"
      ]
     },
     "metadata": {
      "needs_background": "light"
     },
     "output_type": "display_data"
    }
   ],
   "source": [
    "import sklearn.metrics as metrics\n",
    "\n",
    "for i in range(len(best_models)):\n",
    "    Y_pred = best_models[i][-1].predict(test_batches_CV[i])\n",
    "    y_pred = np.where(Y_pred > 0.5, 1, 0)\n",
    "    y_pred = y_pred.max(axis=1)\n",
    "    y_true = np.concatenate([y for x, y in test_batches_CV[i]], axis=0)\n",
    "    fpr, tpr, threshold = metrics.roc_curve(y_true, y_pred)\n",
    "    roc_auc = metrics.auc(fpr, tpr)\n",
    "    print(\"FPR: \", fpr)\n",
    "    print(\"TPR: \", tpr)\n",
    "    # method I: plt\n",
    "    plt.title('Receiver Operating Characteristic')\n",
    "    plt.plot(fpr, tpr, 'b', label = 'AUC = %0.4f' % roc_auc)\n",
    "    plt.legend(loc = 'lower right')\n",
    "    plt.plot([0, 1], [0, 1],'r--')\n",
    "    plt.xlim([0, 1])\n",
    "    plt.ylim([0, 1])\n",
    "    plt.ylabel('True Positive Rate')\n",
    "    plt.xlabel('False Positive Rate')\n",
    "    plt.show()"
   ]
  },
  {
   "cell_type": "code",
   "execution_count": 22,
   "metadata": {},
   "outputs": [
    {
     "name": "stdout",
     "output_type": "stream",
     "text": [
      "Precision:  [0.09734741 0.87209302 1.        ]\n",
      "Recall:  [1.         0.79365079 0.        ]\n",
      "Logistic: f1=0.907 auc=0.843\n"
     ]
    },
    {
     "data": {
      "image/png": "[encoded data removed]",
      "text/plain": [
       "<Figure size 432x288 with 1 Axes>"
      ]
     },
     "metadata": {
      "needs_background": "light"
     },
     "output_type": "display_data"
    },
    {
     "name": "stdout",
     "output_type": "stream",
     "text": [
      "Precision:  [0.09734741 0.89766082 1.        ]\n",
      "Recall:  [1.         0.81216931 0.        ]\n",
      "Logistic: f1=0.919 auc=0.864\n"
     ]
    },
    {
     "data": {
      "image/png": "[encoded data removed]",
      "text/plain": [
       "<Figure size 432x288 with 1 Axes>"
      ]
     },
     "metadata": {
      "needs_background": "light"
     },
     "output_type": "display_data"
    },
    {
     "name": "stdout",
     "output_type": "stream",
     "text": [
      "Precision:  [0.09760494 0.85959885 1.        ]\n",
      "Recall:  [1.         0.79155673 0.        ]\n",
      "Logistic: f1=0.903 auc=0.836\n"
     ]
    },
    {
     "data": {
      "image/png": "[encoded data removed]",
      "text/plain": [
       "<Figure size 432x288 with 1 Axes>"
      ]
     },
     "metadata": {
      "needs_background": "light"
     },
     "output_type": "display_data"
    },
    {
     "name": "stdout",
     "output_type": "stream",
     "text": [
      "Precision:  [0.09760494 0.89156627 1.        ]\n",
      "Recall:  [1.         0.78100264 0.        ]\n",
      "Logistic: f1=0.908 auc=0.847\n"
     ]
    },
    {
     "data": {
      "image/png": "[encoded data removed]",
      "text/plain": [
       "<Figure size 432x288 with 1 Axes>"
      ]
     },
     "metadata": {
      "needs_background": "light"
     },
     "output_type": "display_data"
    },
    {
     "name": "stdout",
     "output_type": "stream",
     "text": [
      "Precision:  [0.09737249 0.84705882 1.        ]\n",
      "Recall:  [1.         0.76190476 0.        ]\n",
      "Logistic: f1=0.891 auc=0.816\n"
     ]
    },
    {
     "data": {
      "image/png": "[encoded data removed]",
      "text/plain": [
       "<Figure size 432x288 with 1 Axes>"
      ]
     },
     "metadata": {
      "needs_background": "light"
     },
     "output_type": "display_data"
    }
   ],
   "source": [
    "from sklearn.metrics import precision_recall_curve\n",
    "from sklearn.metrics import auc\n",
    "\n",
    "for i in range(len(best_models)):\n",
    "    Y_pred = best_models[i][-1].predict(test_batches_CV[i])\n",
    "    y_pred = np.where(Y_pred > 0.5, 1, 0)\n",
    "    y_pred = y_pred.max(axis=1)\n",
    "    y_true = np.concatenate([y for x, y in test_batches_CV[i]], axis=0)\n",
    "    lr_precision, lr_recall, _ = precision_recall_curve(y_true, y_pred)\n",
    "    lr_f1, lr_auc = f1_score(y_true, y_pred, average='macro'), auc(lr_recall, lr_precision)\n",
    "    # summarize scores\n",
    "    print(\"Precision: \", lr_precision)\n",
    "    print(\"Recall: \", lr_recall)\n",
    "    print('Logistic: f1=%.3f auc=%.3f' % (lr_f1, lr_auc))\n",
    "    # plot the precision-recall curves\n",
    "    no_skill = len(y_true[y_true==1]) / len(y_true)\n",
    "    plt.plot([0, 1], [no_skill, no_skill], linestyle='--')\n",
    "    plt.plot(lr_recall, lr_precision, marker='.', label = 'AUC = %0.4f' % lr_auc)\n",
    "    # axis labels\n",
    "    plt.xlabel('Recall')\n",
    "    plt.ylabel('Precision')\n",
    "    # show the legend\n",
    "    plt.legend()\n",
    "    # show the plot\n",
    "    plt.show()"
   ]
  },
  {
   "cell_type": "code",
   "execution_count": null,
   "metadata": {},
   "outputs": [],
   "source": []
  }
 ],
 "metadata": {
  "interpreter": {
   "hash": "8aa1c0be709ee1148997e0f6aecc3955022e8b7c3c1bed99961a819ad1fd1562"
  },
  "kernelspec": {
   "display_name": "Python 3.7.2 64-bit",
   "language": "python",
   "name": "python3"
  },
  "language_info": {
   "codemirror_mode": {
    "name": "ipython",
    "version": 3
   },
   "file_extension": ".py",
   "mimetype": "text/x-python",
   "name": "python",
   "nbconvert_exporter": "python",
   "pygments_lexer": "ipython3",
   "version": "3.7.2"
  },
  "orig_nbformat": 4
 },
 "nbformat": 4,
 "nbformat_minor": 2
}
