{
 "cells": [
  {
   "cell_type": "code",
   "execution_count": 1,
   "metadata": {},
   "outputs": [
    {
     "name": "stderr",
     "output_type": "stream",
     "text": [
      "c:\\Users\\Theo\\AppData\\Local\\Programs\\Python\\Python37\\lib\\site-packages\\numpy\\_distributor_init.py:32: UserWarning: loaded more than 1 DLL from .libs:\n",
      "c:\\Users\\Theo\\AppData\\Local\\Programs\\Python\\Python37\\lib\\site-packages\\numpy\\.libs\\libopenblas.IPBC74C7KURV7CB2PKT5Z5FNR3SIBV4J.gfortran-win_amd64.dll\n",
      "c:\\Users\\Theo\\AppData\\Local\\Programs\\Python\\Python37\\lib\\site-packages\\numpy\\.libs\\libopenblas.XWYDX2IKJW2NMTWSFYNGFUWKQU3LYTCZ.gfortran-win_amd64.dll\n",
      "  stacklevel=1)\n"
     ]
    }
   ],
   "source": [
    "import pandas as pd\n",
    "import numpy as np\n",
    "import random\n",
    "import tensorflow as tf\n",
    "import matplotlib.pyplot as plt\n",
    "from sklearn.metrics import f1_score\n",
    "from sklearn.metrics import roc_auc_score\n",
    "from sklearn.metrics import confusion_matrix\n",
    "from sklearn.model_selection import StratifiedKFold\n",
    "from sklearn.model_selection import train_test_split\n",
    "from sklearn.preprocessing import StandardScaler\n",
    "from keras.utils.vis_utils import plot_model\n",
    "from tensorflow.keras.layers import LSTM, Dense, Input, add, concatenate\n",
    "from tensorflow.keras.models import Model\n",
    "from tensorflow.keras import backend as K\n",
    "\n",
    "RANDOM_SEED = 42\n",
    "random.seed(RANDOM_SEED)\n"
   ]
  },
  {
   "cell_type": "code",
   "execution_count": 2,
   "metadata": {},
   "outputs": [],
   "source": [
    "vitals = pd.read_csv('vitals.csv')  \n",
    "labs = pd.read_csv('labs.csv')  "
   ]
  },
  {
   "cell_type": "markdown",
   "metadata": {},
   "source": [
    "Changing the date to datetime variable and setting indexes"
   ]
  },
  {
   "cell_type": "code",
   "execution_count": 3,
   "metadata": {},
   "outputs": [],
   "source": [
    "vitals['charttime'] = pd.to_datetime(vitals['charttime'] , infer_datetime_format=True)\n",
    "labs['charttime'] = pd.to_datetime(labs['charttime'] , infer_datetime_format=True)"
   ]
  },
  {
   "cell_type": "code",
   "execution_count": 4,
   "metadata": {},
   "outputs": [],
   "source": [
    "vitals_48hours_grouped = vitals.groupby('icustay_id').tail(48)"
   ]
  },
  {
   "cell_type": "code",
   "execution_count": 5,
   "metadata": {},
   "outputs": [],
   "source": [
    "labs_48hours_grouped = labs.groupby('icustay_id').tail(6)"
   ]
  },
  {
   "cell_type": "code",
   "execution_count": 6,
   "metadata": {},
   "outputs": [
    {
     "name": "stdout",
     "output_type": "stream",
     "text": [
      "True\n",
      "True\n"
     ]
    }
   ],
   "source": [
    "print((vitals_48hours_grouped.icustay_id.value_counts() == 48).sum() == len(vitals_48hours_grouped) /48)\n",
    "print((labs_48hours_grouped.icustay_id.value_counts() == 6).sum() == len(labs_48hours_grouped) /6)"
   ]
  },
  {
   "cell_type": "code",
   "execution_count": 7,
   "metadata": {},
   "outputs": [],
   "source": [
    "vitals_48hours_grouped = vitals_48hours_grouped.drop(['icustay_id','charttime'], axis=1)\n",
    "labs_48hours_grouped = labs_48hours_grouped.drop(['icustay_id','charttime'], axis=1)"
   ]
  },
  {
   "cell_type": "code",
   "execution_count": 8,
   "metadata": {},
   "outputs": [],
   "source": [
    "vitals_features = vitals_48hours_grouped.iloc[:,:-1]\n",
    "vitals_labels = vitals_48hours_grouped.iloc[:,-1:].to_numpy().tolist()"
   ]
  },
  {
   "cell_type": "code",
   "execution_count": 9,
   "metadata": {},
   "outputs": [],
   "source": [
    "labs_features = labs_48hours_grouped.iloc[:,:-1]\n",
    "labs_labels = labs_48hours_grouped.iloc[:,-1:].to_numpy().tolist()"
   ]
  },
  {
   "cell_type": "markdown",
   "metadata": {},
   "source": [
    "# Federated Learning Setup"
   ]
  },
  {
   "cell_type": "code",
   "execution_count": 10,
   "metadata": {},
   "outputs": [],
   "source": [
    "def create_clients(labs_data, vitals_data, label_list, num_clients=4, initial='clients'):\n",
    "    ''' return: a dictionary with keys clients' names and value as \n",
    "                data shards - tuple of images and label lists.\n",
    "        args: \n",
    "            image_list: a list of numpy arrays of training images\n",
    "            label_list:a list of binarized labels for each image\n",
    "            num_client: number of fedrated members (clients)\n",
    "            initials: the clients'name prefix, e.g, clients_1 \n",
    "            \n",
    "    '''\n",
    "\n",
    "    #create a list of client names\n",
    "    client_names = ['{}_{}'.format(initial, i+1) for i in range(num_clients)]\n",
    "\n",
    "    #randomize the data\n",
    "    data = list(zip(labs_data, vitals_data))\n",
    "    data = list(zip(data, label_list))\n",
    "    random.shuffle(data)\n",
    "\n",
    "    #shard data and place at each client\n",
    "    size = len(data)//num_clients\n",
    "    shards = [data[i:i + size] for i in range(0, size*num_clients, size)]\n",
    "\n",
    "    #number of clients must equal number of shards\n",
    "    assert(len(shards) == len(client_names))\n",
    "    \n",
    "    return  {client_names[i] : shards[i] for i in range(len(client_names))}"
   ]
  },
  {
   "cell_type": "markdown",
   "metadata": {},
   "source": [
    "## Reshaping data and preparing them for cross validation"
   ]
  },
  {
   "cell_type": "code",
   "execution_count": 11,
   "metadata": {},
   "outputs": [
    {
     "name": "stdout",
     "output_type": "stream",
     "text": [
      "(19414,)\n",
      "(19414,)\n"
     ]
    }
   ],
   "source": [
    "vitals_labels = np.array(vitals_labels)\n",
    "labs_labels = np.array(labs_labels)\n",
    "\n",
    "\n",
    "labs_labels_reshaped = np.reshape(labs_labels, (19414,6))\n",
    "labs_labels_reshaped = np.amax(labs_labels_reshaped, axis=1)\n",
    "\n",
    "vitals_labels_reshaped = np.reshape(vitals_labels, (19414,48))\n",
    "vitals_labels_reshaped = np.amax(vitals_labels_reshaped, axis=1)\n",
    "print(labs_labels_reshaped.shape)\n",
    "print(vitals_labels_reshaped.shape)"
   ]
  },
  {
   "cell_type": "code",
   "execution_count": 12,
   "metadata": {},
   "outputs": [
    {
     "name": "stdout",
     "output_type": "stream",
     "text": [
      "(19414, 48, 7)\n",
      "(19414, 6, 16)\n"
     ]
    }
   ],
   "source": [
    "vitals_features_reshaped = np.reshape(vitals_features.values, (19414,48,7))\n",
    "print(vitals_features_reshaped.shape)\n",
    "labs_features_reshaped = np.reshape(labs_features.values, (19414,6,16))\n",
    "print(labs_features_reshaped.shape)"
   ]
  },
  {
   "cell_type": "markdown",
   "metadata": {},
   "source": [
    "### Batching clients and test data"
   ]
  },
  {
   "cell_type": "code",
   "execution_count": 13,
   "metadata": {},
   "outputs": [],
   "source": [
    "def batch_data(data_shard, bs=64):\n",
    "    '''Takes in a clients data shard and create a tfds object off it\n",
    "    args:\n",
    "        shard: a data, label constituting a client's data shard\n",
    "        bs:batch size\n",
    "    return:\n",
    "        tfds object'''\n",
    "    #seperate shard into data and labels lists\n",
    "    data, label = zip(*data_shard)\n",
    "    dataset = []\n",
    "    X_train, X_test, y_train, y_test = train_test_split(data, label, test_size=0.15, random_state=RANDOM_SEED, stratify=label)\n",
    "    X_labs_train , X_vitals_train = zip(*X_train)\n",
    "    X_labs_test , X_vitals_test = zip(*X_test)\n",
    "\n",
    "    #Reshaping to standardize the laboratory values\n",
    "    X_labs_train = np.array(X_labs_train)\n",
    "    X_labs_test = np.array(X_labs_test)\n",
    "    samples_train, groupedBy_train, sample_values_train = X_labs_train.shape\n",
    "    samples_test, groupedBy_test, sample_values_test = X_labs_test.shape\n",
    "    X_labs_train_reshaped = np.reshape(X_labs_train, (samples_train*groupedBy_train, sample_values_train))\n",
    "    X_labs_test_reshaped = np.reshape(X_labs_test, (samples_test*groupedBy_test, sample_values_test))\n",
    "    #Standardizing the laboratory values\n",
    "    scaler_labs = StandardScaler()\n",
    "    scaler_labs = scaler_labs.fit(X_labs_train_reshaped)\n",
    "    X_labs_train_reshaped = scaler_labs.transform(X_labs_train_reshaped)\n",
    "    X_labs_test_reshaped = scaler_labs.transform(X_labs_test_reshaped)\n",
    "    #Reshaping again\n",
    "    X_labs_train = np.reshape(X_labs_train_reshaped,  (samples_train, groupedBy_train, sample_values_train))\n",
    "    X_labs_test = np.reshape(X_labs_test_reshaped, (samples_test, groupedBy_test, sample_values_test))\n",
    "\n",
    "    #Reshaping to standardize the laboratory values\n",
    "    X_vitals_train = np.array(X_vitals_train)\n",
    "    X_vitals_test = np.array(X_vitals_test)\n",
    "    samples_train, groupedBy_train, sample_values_train = X_vitals_train.shape\n",
    "    samples_test, groupedBy_test, sample_values_test = X_vitals_test.shape\n",
    "    X_vitals_train_reshaped = np.reshape(X_vitals_train, (samples_train*groupedBy_train, sample_values_train))\n",
    "    X_vitals_test_reshaped = np.reshape(X_vitals_test, (samples_test*groupedBy_test, sample_values_test))\n",
    "    #Standardizing the laboratory values\n",
    "    scaler_vitals = StandardScaler()\n",
    "    scaler_vitals = scaler_vitals.fit(X_vitals_train_reshaped)\n",
    "    X_vitals_train_reshaped = scaler_vitals.transform(X_vitals_train_reshaped)\n",
    "    X_vitals_test_reshaped = scaler_vitals.transform(X_vitals_test_reshaped)\n",
    "    #Reshaping again\n",
    "    X_vitals_train = np.reshape(X_vitals_train_reshaped,  (samples_train, groupedBy_train, sample_values_train))\n",
    "    X_vitals_test = np.reshape(X_vitals_test_reshaped, (samples_test, groupedBy_test, sample_values_test))\n",
    "\n",
    "    combinedDatasetTraining = tf.data.Dataset.from_tensor_slices(({\"Input_1\": list(X_labs_train), \"Input_2\": list(X_vitals_train)}, list(y_train)))\n",
    "    combinedDatasetTraining = combinedDatasetTraining.shuffle(len(y_train)).batch(bs)\n",
    "    combinedDatasetTesting = tf.data.Dataset.from_tensor_slices(({\"Input_1\": list(X_labs_test), \"Input_2\": list(X_vitals_test)}, list(y_test)))\n",
    "    combinedDatasetTesting = combinedDatasetTesting.shuffle(len(y_test)).batch(bs)\n",
    "    \n",
    "    dataset.append(combinedDatasetTraining)\n",
    "    dataset.append(combinedDatasetTesting)\n",
    "    return dataset"
   ]
  },
  {
   "cell_type": "markdown",
   "metadata": {},
   "source": [
    "### Creating the Model"
   ]
  },
  {
   "cell_type": "code",
   "execution_count": 14,
   "metadata": {},
   "outputs": [],
   "source": [
    "class RNNModel:\n",
    "    @staticmethod\n",
    "    def build():\n",
    "     input1 = Input(shape=(6,16), name='Input_1')\n",
    "     fe1 = LSTM(16, input_shape= (6,16), return_sequences=True)(input1)\n",
    "     fe2 = LSTM(16, return_sequences=True)(fe1)\n",
    "     fe3 = LSTM(16)(fe2)\n",
    "#sequence model\n",
    "     input2 = Input(shape=(48,7), name='Input_2')\n",
    "     se1 = LSTM(16, input_shape= (48,7), return_sequences=True)(input2)\n",
    "     se2 = LSTM(16, return_sequences=True)(se1)\n",
    "     se3 = LSTM(16)(se2)\n",
    "#decoder model\n",
    "     decoder1 = concatenate([fe3, se3])\n",
    "     decoder2 = Dense(16, activation='relu')(decoder1)\n",
    "     decoder3 = Dense(16, activation='relu')(decoder2)\n",
    "     output = Dense(1, activation='sigmoid')(decoder3)\n",
    "#connecting the two models\n",
    "     model = Model(inputs=[input1, input2], outputs=output)\n",
    "     return model"
   ]
  },
  {
   "cell_type": "markdown",
   "metadata": {},
   "source": [
    "### Federated Averaging"
   ]
  },
  {
   "cell_type": "code",
   "execution_count": 15,
   "metadata": {},
   "outputs": [],
   "source": [
    "def weight_scalling_factor(clients_trn_data, client_name):\n",
    "    '''Gets batch size and calculates total datapoints and how many data points the client has to scale it'''\n",
    "    client_names = list(clients_trn_data.keys())\n",
    "    #get the bs\n",
    "    bs = list(clients_trn_data[client_name][0])[0][0]['Input_1'].shape[0]\n",
    "    #first calculate the total training data points across clinets\n",
    "    global_count = sum([tf.data.experimental.cardinality(clients_trn_data[client_name][0]).numpy() for client_name in client_names])*bs\n",
    "    # get the total number of data points held by a client\n",
    "    local_count = tf.data.experimental.cardinality(clients_trn_data[client_name][0]).numpy()*bs\n",
    "    return local_count/global_count\n",
    "\n",
    "\n",
    "def scale_model_weights(weight, scalar):\n",
    "    '''function for scaling a models weights'''\n",
    "    weight_final = []\n",
    "    steps = len(weight)\n",
    "    for i in range(steps):\n",
    "        weight_final.append(scalar * weight[i])\n",
    "    return weight_final\n",
    "\n",
    "\n",
    "\n",
    "def sum_scaled_weights(scaled_weight_list):\n",
    "    '''Return the sum of the listed scaled weights. The is equivalent to scaled avg of the weights'''\n",
    "    avg_grad = list()\n",
    "    #get the average grad accross all client gradients\n",
    "    for grad_list_tuple in zip(*scaled_weight_list):\n",
    "        layer_mean = tf.math.reduce_sum(grad_list_tuple, axis=0)\n",
    "        avg_grad.append(layer_mean)\n",
    "        \n",
    "    return avg_grad\n",
    "\n",
    "\n",
    "def test_model(X_test, Y_test,  model, comm_round):\n",
    "    cce = tf.keras.losses.BinaryCrossentropy(from_logits=True)\n",
    "    #logits = model.predict(X_test, batch_size=100)\n",
    "    logits = model.predict(X_test)\n",
    "    Y_test = np.reshape(Y_test, (len(Y_test),1))\n",
    "    loss = cce(Y_test, logits)\n",
    "    logits = np.where(logits > 0.5, 1, 0)\n",
    "    f1_score_acc = f1_score(Y_test.max(axis=1), logits.max(axis=1), average='macro')\n",
    "    print('comm_round: {} | f1_score: {:.3%} | global_loss: {}'.format(comm_round, f1_score_acc, loss))\n",
    "    return f1_score_acc, loss\n",
    "\n",
    "def evaluating_model_own_validation_data_F1(model, val_data):\n",
    "    cce = tf.keras.losses.BinaryCrossentropy(from_logits=True)\n",
    "    logits = model.predict(val_data)\n",
    "    y_true = np.concatenate([y for x, y in val_data], axis=0)\n",
    "    y_true = np.reshape(y_true, (len(y_true),1))\n",
    "    loss = cce(y_true, logits)\n",
    "    logits = np.where(logits > 0.5, 1, 0)\n",
    "    f1_score_acc = f1_score(y_true.max(axis=1), logits.max(axis=1), average='macro')\n",
    "    print(\"Loss: \" , loss)\n",
    "    return f1_score_acc, loss \n"
   ]
  },
  {
   "cell_type": "code",
   "execution_count": 16,
   "metadata": {},
   "outputs": [
    {
     "data": {
      "text/plain": [
       "5"
      ]
     },
     "execution_count": 16,
     "metadata": {},
     "output_type": "execute_result"
    }
   ],
   "source": [
    "skf = StratifiedKFold(n_splits=5, shuffle=True, random_state=RANDOM_SEED)\n",
    "skf.get_n_splits(vitals_features_reshaped, vitals_labels_reshaped)"
   ]
  },
  {
   "cell_type": "markdown",
   "metadata": {},
   "source": [
    "### Training the model - Each client validate on their own data"
   ]
  },
  {
   "cell_type": "code",
   "execution_count": 17,
   "metadata": {},
   "outputs": [
    {
     "name": "stdout",
     "output_type": "stream",
     "text": [
      "TRAIN: [    0     1     3 ... 19410 19411 19413] TEST: [    2     4    17 ... 19399 19400 19412]\n",
      "Loss:  tf.Tensor(0.9092342, shape=(), dtype=float32)\n",
      "Loss:  tf.Tensor(0.91261023, shape=(), dtype=float32)\n",
      "Loss:  tf.Tensor(0.90969676, shape=(), dtype=float32)\n",
      "Loss:  tf.Tensor(0.90976053, shape=(), dtype=float32)\n",
      "F1 Score average for round 0 = 0.47144065421147685, Loss: 0.9103254079818726\n",
      "Loss:  tf.Tensor(0.726161, shape=(), dtype=float32)\n",
      "Loss:  tf.Tensor(0.72281855, shape=(), dtype=float32)\n",
      "Loss:  tf.Tensor(0.7233076, shape=(), dtype=float32)\n",
      "Loss:  tf.Tensor(0.72713023, shape=(), dtype=float32)\n",
      "F1 Score average for round 1 = 0.5081622023952558, Loss: 0.7248543500900269\n",
      "Loss:  tf.Tensor(0.74221104, shape=(), dtype=float32)\n",
      "Loss:  tf.Tensor(0.7377278, shape=(), dtype=float32)\n",
      "Loss:  tf.Tensor(0.7423722, shape=(), dtype=float32)\n",
      "Loss:  tf.Tensor(0.7391667, shape=(), dtype=float32)\n",
      "F1 Score average for round 2 = 0.4935217090827614, Loss: 0.740369439125061\n",
      "Loss:  tf.Tensor(0.7301609, shape=(), dtype=float32)\n",
      "Loss:  tf.Tensor(0.7368003, shape=(), dtype=float32)\n",
      "Loss:  tf.Tensor(0.7320616, shape=(), dtype=float32)\n",
      "Loss:  tf.Tensor(0.7350861, shape=(), dtype=float32)\n",
      "F1 Score average for round 3 = 0.49502015359066737, Loss: 0.7335271835327148\n",
      "Loss:  tf.Tensor(0.7369219, shape=(), dtype=float32)\n",
      "Loss:  tf.Tensor(0.74078006, shape=(), dtype=float32)\n",
      "Loss:  tf.Tensor(0.7391459, shape=(), dtype=float32)\n",
      "Loss:  tf.Tensor(0.74030805, shape=(), dtype=float32)\n",
      "F1 Score average for round 4 = 0.49664680763181235, Loss: 0.7392889857292175\n",
      "Loss:  tf.Tensor(0.743291, shape=(), dtype=float32)\n",
      "Loss:  tf.Tensor(0.74106544, shape=(), dtype=float32)\n",
      "Loss:  tf.Tensor(0.74145144, shape=(), dtype=float32)\n",
      "Loss:  tf.Tensor(0.74156064, shape=(), dtype=float32)\n",
      "F1 Score average for round 5 = 0.4729422788858535, Loss: 0.7418421506881714\n",
      "Loss:  tf.Tensor(0.73877686, shape=(), dtype=float32)\n",
      "Loss:  tf.Tensor(0.7391102, shape=(), dtype=float32)\n",
      "Loss:  tf.Tensor(0.73773146, shape=(), dtype=float32)\n",
      "Loss:  tf.Tensor(0.7418413, shape=(), dtype=float32)\n",
      "F1 Score average for round 6 = 0.49999252250705345, Loss: 0.7393649816513062\n",
      "Loss:  tf.Tensor(0.7414912, shape=(), dtype=float32)\n",
      "Loss:  tf.Tensor(0.7404004, shape=(), dtype=float32)\n",
      "Loss:  tf.Tensor(0.74134505, shape=(), dtype=float32)\n",
      "Loss:  tf.Tensor(0.74143606, shape=(), dtype=float32)\n",
      "F1 Score average for round 7 = 0.4962145147339778, Loss: 0.7411681413650513\n",
      "Loss:  tf.Tensor(0.7308586, shape=(), dtype=float32)\n",
      "Loss:  tf.Tensor(0.7354304, shape=(), dtype=float32)\n",
      "Loss:  tf.Tensor(0.73045695, shape=(), dtype=float32)\n",
      "Loss:  tf.Tensor(0.7322408, shape=(), dtype=float32)\n",
      "F1 Score average for round 8 = 0.5250993605887095, Loss: 0.7322466373443604\n",
      "Loss:  tf.Tensor(0.73393786, shape=(), dtype=float32)\n",
      "Loss:  tf.Tensor(0.7380733, shape=(), dtype=float32)\n",
      "Loss:  tf.Tensor(0.74195975, shape=(), dtype=float32)\n",
      "Loss:  tf.Tensor(0.73488086, shape=(), dtype=float32)\n",
      "F1 Score average for round 9 = 0.5013959792613951, Loss: 0.7372129559516907\n",
      "Loss:  tf.Tensor(0.7413013, shape=(), dtype=float32)\n",
      "Loss:  tf.Tensor(0.7400979, shape=(), dtype=float32)\n",
      "Loss:  tf.Tensor(0.7411583, shape=(), dtype=float32)\n",
      "Loss:  tf.Tensor(0.73954105, shape=(), dtype=float32)\n",
      "F1 Score average for round 10 = 0.4912208212834769, Loss: 0.7405246496200562\n",
      "Loss:  tf.Tensor(0.742457, shape=(), dtype=float32)\n",
      "Loss:  tf.Tensor(0.74101096, shape=(), dtype=float32)\n",
      "Loss:  tf.Tensor(0.74465305, shape=(), dtype=float32)\n",
      "Loss:  tf.Tensor(0.7399963, shape=(), dtype=float32)\n",
      "F1 Score average for round 11 = 0.48894863553103485, Loss: 0.7420293092727661\n",
      "Loss:  tf.Tensor(0.74251014, shape=(), dtype=float32)\n",
      "Loss:  tf.Tensor(0.7410544, shape=(), dtype=float32)\n",
      "Loss:  tf.Tensor(0.7339465, shape=(), dtype=float32)\n",
      "Loss:  tf.Tensor(0.741944, shape=(), dtype=float32)\n",
      "F1 Score average for round 12 = 0.4979643454938343, Loss: 0.7398638129234314\n",
      "Loss:  tf.Tensor(0.7461321, shape=(), dtype=float32)\n",
      "Loss:  tf.Tensor(0.7395405, shape=(), dtype=float32)\n",
      "Loss:  tf.Tensor(0.7423231, shape=(), dtype=float32)\n",
      "Loss:  tf.Tensor(0.7394934, shape=(), dtype=float32)\n",
      "F1 Score average for round 13 = 0.4905523805676844, Loss: 0.741872251033783\n",
      "Loss:  tf.Tensor(0.73266107, shape=(), dtype=float32)\n",
      "Loss:  tf.Tensor(0.7393919, shape=(), dtype=float32)\n",
      "Loss:  tf.Tensor(0.7420108, shape=(), dtype=float32)\n",
      "Loss:  tf.Tensor(0.75142705, shape=(), dtype=float32)\n",
      "F1 Score average for round 14 = 0.5003283506231332, Loss: 0.7413727045059204\n",
      "Loss:  tf.Tensor(0.7366891, shape=(), dtype=float32)\n",
      "Loss:  tf.Tensor(0.738372, shape=(), dtype=float32)\n",
      "Loss:  tf.Tensor(0.7437716, shape=(), dtype=float32)\n",
      "Loss:  tf.Tensor(0.7382833, shape=(), dtype=float32)\n",
      "F1 Score average for round 15 = 0.5055680815716702, Loss: 0.73927903175354\n",
      "Loss:  tf.Tensor(0.7431505, shape=(), dtype=float32)\n",
      "Loss:  tf.Tensor(0.74776644, shape=(), dtype=float32)\n",
      "Loss:  tf.Tensor(0.7402865, shape=(), dtype=float32)\n",
      "Loss:  tf.Tensor(0.7392179, shape=(), dtype=float32)\n",
      "F1 Score average for round 16 = 0.4933262812355753, Loss: 0.7426053285598755\n",
      "Loss:  tf.Tensor(0.74394727, shape=(), dtype=float32)\n",
      "Loss:  tf.Tensor(0.7462675, shape=(), dtype=float32)\n",
      "Loss:  tf.Tensor(0.7411772, shape=(), dtype=float32)\n",
      "Loss:  tf.Tensor(0.740133, shape=(), dtype=float32)\n",
      "F1 Score average for round 17 = 0.497728387045849, Loss: 0.7428812384605408\n",
      "Loss:  tf.Tensor(0.7397946, shape=(), dtype=float32)\n",
      "Loss:  tf.Tensor(0.7342523, shape=(), dtype=float32)\n",
      "Loss:  tf.Tensor(0.74102205, shape=(), dtype=float32)\n",
      "Loss:  tf.Tensor(0.7507225, shape=(), dtype=float32)\n",
      "F1 Score average for round 18 = 0.49758418105933494, Loss: 0.741447925567627\n",
      "CV Round complete\n",
      "TRAIN: [    1     2     4 ... 19410 19412 19413] TEST: [    0     3    15 ... 19405 19408 19411]\n",
      "Loss:  tf.Tensor(0.9290073, shape=(), dtype=float32)\n",
      "Loss:  tf.Tensor(0.9299794, shape=(), dtype=float32)\n",
      "Loss:  tf.Tensor(0.9327, shape=(), dtype=float32)\n",
      "Loss:  tf.Tensor(0.925559, shape=(), dtype=float32)\n",
      "F1 Score average for round 0 = 0.1608298986764083, Loss: 0.9293113946914673\n",
      "Loss:  tf.Tensor(0.7148262, shape=(), dtype=float32)\n",
      "Loss:  tf.Tensor(0.7124077, shape=(), dtype=float32)\n",
      "Loss:  tf.Tensor(0.71154726, shape=(), dtype=float32)\n",
      "Loss:  tf.Tensor(0.7108808, shape=(), dtype=float32)\n",
      "F1 Score average for round 1 = 0.5018564068927035, Loss: 0.7124154567718506\n",
      "Loss:  tf.Tensor(0.7391222, shape=(), dtype=float32)\n",
      "Loss:  tf.Tensor(0.738858, shape=(), dtype=float32)\n",
      "Loss:  tf.Tensor(0.73621863, shape=(), dtype=float32)\n",
      "Loss:  tf.Tensor(0.7444003, shape=(), dtype=float32)\n",
      "F1 Score average for round 2 = 0.4924965574658787, Loss: 0.739649772644043\n",
      "Loss:  tf.Tensor(0.72983646, shape=(), dtype=float32)\n",
      "Loss:  tf.Tensor(0.7273375, shape=(), dtype=float32)\n",
      "Loss:  tf.Tensor(0.72871065, shape=(), dtype=float32)\n",
      "Loss:  tf.Tensor(0.73416, shape=(), dtype=float32)\n",
      "F1 Score average for round 3 = 0.48336520651452286, Loss: 0.7300111055374146\n",
      "Loss:  tf.Tensor(0.732861, shape=(), dtype=float32)\n",
      "Loss:  tf.Tensor(0.7345006, shape=(), dtype=float32)\n",
      "Loss:  tf.Tensor(0.7258853, shape=(), dtype=float32)\n",
      "Loss:  tf.Tensor(0.7329394, shape=(), dtype=float32)\n",
      "F1 Score average for round 4 = 0.5159275501493492, Loss: 0.7315465807914734\n",
      "Loss:  tf.Tensor(0.73522156, shape=(), dtype=float32)\n",
      "Loss:  tf.Tensor(0.7307306, shape=(), dtype=float32)\n",
      "Loss:  tf.Tensor(0.73933864, shape=(), dtype=float32)\n",
      "Loss:  tf.Tensor(0.72891206, shape=(), dtype=float32)\n",
      "F1 Score average for round 5 = 0.5076951888911931, Loss: 0.7335507273674011\n",
      "Loss:  tf.Tensor(0.74148893, shape=(), dtype=float32)\n",
      "Loss:  tf.Tensor(0.73991776, shape=(), dtype=float32)\n",
      "Loss:  tf.Tensor(0.73961604, shape=(), dtype=float32)\n",
      "Loss:  tf.Tensor(0.73658836, shape=(), dtype=float32)\n",
      "F1 Score average for round 6 = 0.5001818574704291, Loss: 0.7394027709960938\n",
      "Loss:  tf.Tensor(0.73855716, shape=(), dtype=float32)\n",
      "Loss:  tf.Tensor(0.73661816, shape=(), dtype=float32)\n",
      "Loss:  tf.Tensor(0.7338775, shape=(), dtype=float32)\n",
      "Loss:  tf.Tensor(0.7363175, shape=(), dtype=float32)\n",
      "F1 Score average for round 7 = 0.5023297463502141, Loss: 0.7363425493240356\n",
      "Loss:  tf.Tensor(0.7388322, shape=(), dtype=float32)\n",
      "Loss:  tf.Tensor(0.73881936, shape=(), dtype=float32)\n",
      "Loss:  tf.Tensor(0.74067694, shape=(), dtype=float32)\n",
      "Loss:  tf.Tensor(0.7391021, shape=(), dtype=float32)\n",
      "F1 Score average for round 8 = 0.49336441210502163, Loss: 0.7393576502799988\n",
      "Loss:  tf.Tensor(0.7385939, shape=(), dtype=float32)\n",
      "Loss:  tf.Tensor(0.7422264, shape=(), dtype=float32)\n",
      "Loss:  tf.Tensor(0.73980224, shape=(), dtype=float32)\n",
      "Loss:  tf.Tensor(0.73408914, shape=(), dtype=float32)\n",
      "F1 Score average for round 9 = 0.4906387366216875, Loss: 0.7386779189109802\n",
      "Loss:  tf.Tensor(0.7316359, shape=(), dtype=float32)\n",
      "Loss:  tf.Tensor(0.7349477, shape=(), dtype=float32)\n",
      "Loss:  tf.Tensor(0.7344449, shape=(), dtype=float32)\n",
      "Loss:  tf.Tensor(0.7369869, shape=(), dtype=float32)\n",
      "F1 Score average for round 10 = 0.5096291959168168, Loss: 0.7345038652420044\n",
      "Loss:  tf.Tensor(0.74569404, shape=(), dtype=float32)\n",
      "Loss:  tf.Tensor(0.7353583, shape=(), dtype=float32)\n",
      "Loss:  tf.Tensor(0.7418511, shape=(), dtype=float32)\n",
      "Loss:  tf.Tensor(0.7377768, shape=(), dtype=float32)\n",
      "F1 Score average for round 11 = 0.49919317182804746, Loss: 0.7401700615882874\n",
      "Loss:  tf.Tensor(0.731344, shape=(), dtype=float32)\n",
      "Loss:  tf.Tensor(0.74221283, shape=(), dtype=float32)\n",
      "Loss:  tf.Tensor(0.7424362, shape=(), dtype=float32)\n",
      "Loss:  tf.Tensor(0.73874027, shape=(), dtype=float32)\n",
      "F1 Score average for round 12 = 0.5023354759497367, Loss: 0.73868328332901\n",
      "Loss:  tf.Tensor(0.74437034, shape=(), dtype=float32)\n",
      "Loss:  tf.Tensor(0.7301264, shape=(), dtype=float32)\n",
      "Loss:  tf.Tensor(0.7336663, shape=(), dtype=float32)\n",
      "Loss:  tf.Tensor(0.7358766, shape=(), dtype=float32)\n",
      "F1 Score average for round 13 = 0.5018022853197945, Loss: 0.7360098958015442\n",
      "Loss:  tf.Tensor(0.738468, shape=(), dtype=float32)\n",
      "Loss:  tf.Tensor(0.7358701, shape=(), dtype=float32)\n",
      "Loss:  tf.Tensor(0.7393455, shape=(), dtype=float32)\n",
      "Loss:  tf.Tensor(0.73823816, shape=(), dtype=float32)\n",
      "F1 Score average for round 14 = 0.5123143623916757, Loss: 0.7379804253578186\n",
      "CV Round complete\n",
      "TRAIN: [    0     1     2 ... 19411 19412 19413] TEST: [    6     7     8 ... 19391 19398 19401]\n",
      "Loss:  tf.Tensor(0.9282549, shape=(), dtype=float32)\n",
      "Loss:  tf.Tensor(0.9257579, shape=(), dtype=float32)\n",
      "Loss:  tf.Tensor(0.92252547, shape=(), dtype=float32)\n",
      "Loss:  tf.Tensor(0.9241176, shape=(), dtype=float32)\n",
      "F1 Score average for round 0 = 0.4097868627943885, Loss: 0.9251639246940613\n",
      "Loss:  tf.Tensor(0.72907805, shape=(), dtype=float32)\n",
      "Loss:  tf.Tensor(0.72697407, shape=(), dtype=float32)\n",
      "Loss:  tf.Tensor(0.73010075, shape=(), dtype=float32)\n",
      "Loss:  tf.Tensor(0.7302725, shape=(), dtype=float32)\n",
      "F1 Score average for round 1 = 0.5132434491887689, Loss: 0.7291063666343689\n",
      "Loss:  tf.Tensor(0.7453365, shape=(), dtype=float32)\n",
      "Loss:  tf.Tensor(0.7518914, shape=(), dtype=float32)\n",
      "Loss:  tf.Tensor(0.7473095, shape=(), dtype=float32)\n",
      "Loss:  tf.Tensor(0.74695045, shape=(), dtype=float32)\n",
      "F1 Score average for round 2 = 0.4760535398716735, Loss: 0.7478719353675842\n",
      "Loss:  tf.Tensor(0.736337, shape=(), dtype=float32)\n",
      "Loss:  tf.Tensor(0.739678, shape=(), dtype=float32)\n",
      "Loss:  tf.Tensor(0.735268, shape=(), dtype=float32)\n",
      "Loss:  tf.Tensor(0.73485273, shape=(), dtype=float32)\n",
      "F1 Score average for round 3 = 0.514665706450024, Loss: 0.7365339994430542\n",
      "Loss:  tf.Tensor(0.73486924, shape=(), dtype=float32)\n",
      "Loss:  tf.Tensor(0.7354869, shape=(), dtype=float32)\n",
      "Loss:  tf.Tensor(0.730909, shape=(), dtype=float32)\n",
      "Loss:  tf.Tensor(0.7361386, shape=(), dtype=float32)\n",
      "F1 Score average for round 4 = 0.507223657372404, Loss: 0.7343509793281555\n",
      "Loss:  tf.Tensor(0.7352053, shape=(), dtype=float32)\n",
      "Loss:  tf.Tensor(0.73483896, shape=(), dtype=float32)\n",
      "Loss:  tf.Tensor(0.7340163, shape=(), dtype=float32)\n",
      "Loss:  tf.Tensor(0.7406559, shape=(), dtype=float32)\n",
      "F1 Score average for round 5 = 0.5057104551410513, Loss: 0.7361791133880615\n",
      "Loss:  tf.Tensor(0.7429937, shape=(), dtype=float32)\n",
      "Loss:  tf.Tensor(0.7432541, shape=(), dtype=float32)\n",
      "Loss:  tf.Tensor(0.74164844, shape=(), dtype=float32)\n",
      "Loss:  tf.Tensor(0.73620105, shape=(), dtype=float32)\n",
      "F1 Score average for round 6 = 0.4900272554530727, Loss: 0.7410243153572083\n",
      "Loss:  tf.Tensor(0.7368994, shape=(), dtype=float32)\n",
      "Loss:  tf.Tensor(0.74180055, shape=(), dtype=float32)\n",
      "Loss:  tf.Tensor(0.7332363, shape=(), dtype=float32)\n",
      "Loss:  tf.Tensor(0.7350855, shape=(), dtype=float32)\n",
      "F1 Score average for round 7 = 0.49784639390665664, Loss: 0.7367554306983948\n",
      "Loss:  tf.Tensor(0.7348012, shape=(), dtype=float32)\n",
      "Loss:  tf.Tensor(0.7341778, shape=(), dtype=float32)\n",
      "Loss:  tf.Tensor(0.73942393, shape=(), dtype=float32)\n",
      "Loss:  tf.Tensor(0.73476833, shape=(), dtype=float32)\n",
      "F1 Score average for round 8 = 0.5026095846686107, Loss: 0.7357928156852722\n",
      "Loss:  tf.Tensor(0.7363211, shape=(), dtype=float32)\n",
      "Loss:  tf.Tensor(0.73730576, shape=(), dtype=float32)\n",
      "Loss:  tf.Tensor(0.738318, shape=(), dtype=float32)\n",
      "Loss:  tf.Tensor(0.7377683, shape=(), dtype=float32)\n",
      "F1 Score average for round 9 = 0.4890071053529287, Loss: 0.7374283075332642\n",
      "Loss:  tf.Tensor(0.7397218, shape=(), dtype=float32)\n",
      "Loss:  tf.Tensor(0.733495, shape=(), dtype=float32)\n",
      "Loss:  tf.Tensor(0.7378789, shape=(), dtype=float32)\n",
      "Loss:  tf.Tensor(0.73995006, shape=(), dtype=float32)\n",
      "F1 Score average for round 10 = 0.4988550230922135, Loss: 0.7377614974975586\n",
      "Loss:  tf.Tensor(0.74119914, shape=(), dtype=float32)\n",
      "Loss:  tf.Tensor(0.7375578, shape=(), dtype=float32)\n",
      "Loss:  tf.Tensor(0.74622303, shape=(), dtype=float32)\n",
      "Loss:  tf.Tensor(0.734867, shape=(), dtype=float32)\n",
      "F1 Score average for round 11 = 0.50183625707425, Loss: 0.7399617433547974\n",
      "Loss:  tf.Tensor(0.7389623, shape=(), dtype=float32)\n",
      "Loss:  tf.Tensor(0.7424486, shape=(), dtype=float32)\n",
      "Loss:  tf.Tensor(0.7428402, shape=(), dtype=float32)\n",
      "Loss:  tf.Tensor(0.73838675, shape=(), dtype=float32)\n",
      "F1 Score average for round 12 = 0.49143593026304916, Loss: 0.7406594753265381\n",
      "Loss:  tf.Tensor(0.73861766, shape=(), dtype=float32)\n",
      "Loss:  tf.Tensor(0.7417868, shape=(), dtype=float32)\n",
      "Loss:  tf.Tensor(0.73834234, shape=(), dtype=float32)\n",
      "Loss:  tf.Tensor(0.7412153, shape=(), dtype=float32)\n",
      "F1 Score average for round 13 = 0.5005169350773369, Loss: 0.7399904727935791\n",
      "CV Round complete\n",
      "TRAIN: [    0     1     2 ... 19411 19412 19413] TEST: [   37    40    52 ... 19407 19409 19410]\n",
      "Loss:  tf.Tensor(0.935046, shape=(), dtype=float32)\n",
      "Loss:  tf.Tensor(0.9316228, shape=(), dtype=float32)\n",
      "Loss:  tf.Tensor(0.9307251, shape=(), dtype=float32)\n",
      "Loss:  tf.Tensor(0.929685, shape=(), dtype=float32)\n",
      "F1 Score average for round 0 = 0.10057282535634836, Loss: 0.9317697286605835\n",
      "Loss:  tf.Tensor(0.747553, shape=(), dtype=float32)\n",
      "Loss:  tf.Tensor(0.7503858, shape=(), dtype=float32)\n",
      "Loss:  tf.Tensor(0.74664956, shape=(), dtype=float32)\n",
      "Loss:  tf.Tensor(0.74606663, shape=(), dtype=float32)\n",
      "F1 Score average for round 1 = 0.4988341496195131, Loss: 0.7476637363433838\n",
      "Loss:  tf.Tensor(0.73770255, shape=(), dtype=float32)\n",
      "Loss:  tf.Tensor(0.7432938, shape=(), dtype=float32)\n",
      "Loss:  tf.Tensor(0.74128896, shape=(), dtype=float32)\n",
      "Loss:  tf.Tensor(0.7392107, shape=(), dtype=float32)\n",
      "F1 Score average for round 2 = 0.49160240769901015, Loss: 0.740373969078064\n",
      "Loss:  tf.Tensor(0.7399264, shape=(), dtype=float32)\n",
      "Loss:  tf.Tensor(0.7411535, shape=(), dtype=float32)\n",
      "Loss:  tf.Tensor(0.7378373, shape=(), dtype=float32)\n",
      "Loss:  tf.Tensor(0.7424985, shape=(), dtype=float32)\n",
      "F1 Score average for round 3 = 0.497211540061827, Loss: 0.7403539419174194\n",
      "Loss:  tf.Tensor(0.73859763, shape=(), dtype=float32)\n",
      "Loss:  tf.Tensor(0.7487368, shape=(), dtype=float32)\n",
      "Loss:  tf.Tensor(0.7428559, shape=(), dtype=float32)\n",
      "Loss:  tf.Tensor(0.74466944, shape=(), dtype=float32)\n",
      "F1 Score average for round 4 = 0.49071100601054685, Loss: 0.7437149286270142\n",
      "Loss:  tf.Tensor(0.7430027, shape=(), dtype=float32)\n",
      "Loss:  tf.Tensor(0.7343685, shape=(), dtype=float32)\n",
      "Loss:  tf.Tensor(0.7418998, shape=(), dtype=float32)\n",
      "Loss:  tf.Tensor(0.74798006, shape=(), dtype=float32)\n",
      "F1 Score average for round 5 = 0.4913179750089771, Loss: 0.7418127655982971\n",
      "Loss:  tf.Tensor(0.7404233, shape=(), dtype=float32)\n",
      "Loss:  tf.Tensor(0.7273394, shape=(), dtype=float32)\n",
      "Loss:  tf.Tensor(0.7469334, shape=(), dtype=float32)\n",
      "Loss:  tf.Tensor(0.74337703, shape=(), dtype=float32)\n",
      "F1 Score average for round 6 = 0.5030562801294745, Loss: 0.7395182847976685\n",
      "Loss:  tf.Tensor(0.73847926, shape=(), dtype=float32)\n",
      "Loss:  tf.Tensor(0.74384713, shape=(), dtype=float32)\n",
      "Loss:  tf.Tensor(0.7424052, shape=(), dtype=float32)\n",
      "Loss:  tf.Tensor(0.73431975, shape=(), dtype=float32)\n",
      "F1 Score average for round 7 = 0.4919481377356226, Loss: 0.7397627830505371\n",
      "Loss:  tf.Tensor(0.73922783, shape=(), dtype=float32)\n",
      "Loss:  tf.Tensor(0.7215382, shape=(), dtype=float32)\n",
      "Loss:  tf.Tensor(0.7343357, shape=(), dtype=float32)\n",
      "Loss:  tf.Tensor(0.73265827, shape=(), dtype=float32)\n",
      "F1 Score average for round 8 = 0.5259669034739274, Loss: 0.7319400310516357\n",
      "Loss:  tf.Tensor(0.73938847, shape=(), dtype=float32)\n",
      "Loss:  tf.Tensor(0.73338866, shape=(), dtype=float32)\n",
      "Loss:  tf.Tensor(0.74006104, shape=(), dtype=float32)\n",
      "Loss:  tf.Tensor(0.73641664, shape=(), dtype=float32)\n",
      "F1 Score average for round 9 = 0.5113033958942736, Loss: 0.7373136878013611\n",
      "Loss:  tf.Tensor(0.7396467, shape=(), dtype=float32)\n",
      "Loss:  tf.Tensor(0.7432436, shape=(), dtype=float32)\n",
      "Loss:  tf.Tensor(0.73188525, shape=(), dtype=float32)\n",
      "Loss:  tf.Tensor(0.73486465, shape=(), dtype=float32)\n",
      "F1 Score average for round 10 = 0.504327385872947, Loss: 0.7374100685119629\n",
      "Loss:  tf.Tensor(0.74238735, shape=(), dtype=float32)\n",
      "Loss:  tf.Tensor(0.7432932, shape=(), dtype=float32)\n",
      "Loss:  tf.Tensor(0.7354624, shape=(), dtype=float32)\n",
      "Loss:  tf.Tensor(0.74178344, shape=(), dtype=float32)\n",
      "F1 Score average for round 11 = 0.508428947533646, Loss: 0.7407315969467163\n",
      "Loss:  tf.Tensor(0.7366181, shape=(), dtype=float32)\n",
      "Loss:  tf.Tensor(0.7437858, shape=(), dtype=float32)\n",
      "Loss:  tf.Tensor(0.74313146, shape=(), dtype=float32)\n",
      "Loss:  tf.Tensor(0.7378204, shape=(), dtype=float32)\n",
      "F1 Score average for round 12 = 0.4994604387214928, Loss: 0.740338921546936\n",
      "Loss:  tf.Tensor(0.7408622, shape=(), dtype=float32)\n",
      "Loss:  tf.Tensor(0.7330833, shape=(), dtype=float32)\n",
      "Loss:  tf.Tensor(0.7428506, shape=(), dtype=float32)\n",
      "Loss:  tf.Tensor(0.737711, shape=(), dtype=float32)\n",
      "F1 Score average for round 13 = 0.5070792628688162, Loss: 0.7386267781257629\n",
      "Loss:  tf.Tensor(0.7377258, shape=(), dtype=float32)\n",
      "Loss:  tf.Tensor(0.73473626, shape=(), dtype=float32)\n",
      "Loss:  tf.Tensor(0.7415002, shape=(), dtype=float32)\n",
      "Loss:  tf.Tensor(0.7367237, shape=(), dtype=float32)\n",
      "F1 Score average for round 14 = 0.5140311786993853, Loss: 0.7376714944839478\n",
      "Loss:  tf.Tensor(0.7483174, shape=(), dtype=float32)\n",
      "Loss:  tf.Tensor(0.7392317, shape=(), dtype=float32)\n",
      "Loss:  tf.Tensor(0.7348373, shape=(), dtype=float32)\n",
      "Loss:  tf.Tensor(0.74742144, shape=(), dtype=float32)\n",
      "F1 Score average for round 15 = 0.4918099244038897, Loss: 0.7424519658088684\n",
      "Loss:  tf.Tensor(0.75070256, shape=(), dtype=float32)\n",
      "Loss:  tf.Tensor(0.74468046, shape=(), dtype=float32)\n",
      "Loss:  tf.Tensor(0.74023837, shape=(), dtype=float32)\n",
      "Loss:  tf.Tensor(0.745144, shape=(), dtype=float32)\n",
      "F1 Score average for round 16 = 0.4934299943970859, Loss: 0.7451913356781006\n",
      "Loss:  tf.Tensor(0.7328632, shape=(), dtype=float32)\n",
      "Loss:  tf.Tensor(0.73527396, shape=(), dtype=float32)\n",
      "Loss:  tf.Tensor(0.75081414, shape=(), dtype=float32)\n",
      "Loss:  tf.Tensor(0.74779135, shape=(), dtype=float32)\n",
      "F1 Score average for round 17 = 0.5143736896069534, Loss: 0.7416856288909912\n",
      "Loss:  tf.Tensor(0.7414811, shape=(), dtype=float32)\n",
      "Loss:  tf.Tensor(0.74896324, shape=(), dtype=float32)\n",
      "Loss:  tf.Tensor(0.7380315, shape=(), dtype=float32)\n",
      "Loss:  tf.Tensor(0.74339604, shape=(), dtype=float32)\n",
      "F1 Score average for round 18 = 0.5023455961158784, Loss: 0.7429680228233337\n",
      "CV Round complete\n",
      "TRAIN: [    0     2     3 ... 19410 19411 19412] TEST: [    1     5    11 ... 19404 19406 19413]\n",
      "Loss:  tf.Tensor(0.9292145, shape=(), dtype=float32)\n",
      "Loss:  tf.Tensor(0.9238636, shape=(), dtype=float32)\n",
      "Loss:  tf.Tensor(0.92747086, shape=(), dtype=float32)\n",
      "Loss:  tf.Tensor(0.9257918, shape=(), dtype=float32)\n",
      "F1 Score average for round 0 = 0.3340156528999035, Loss: 0.9265851974487305\n",
      "Loss:  tf.Tensor(0.7226578, shape=(), dtype=float32)\n",
      "Loss:  tf.Tensor(0.7272868, shape=(), dtype=float32)\n",
      "Loss:  tf.Tensor(0.7263083, shape=(), dtype=float32)\n",
      "Loss:  tf.Tensor(0.72556126, shape=(), dtype=float32)\n",
      "F1 Score average for round 1 = 0.4776582659194548, Loss: 0.7254534959793091\n",
      "Loss:  tf.Tensor(0.7408352, shape=(), dtype=float32)\n",
      "Loss:  tf.Tensor(0.7443767, shape=(), dtype=float32)\n",
      "Loss:  tf.Tensor(0.7505848, shape=(), dtype=float32)\n",
      "Loss:  tf.Tensor(0.7495174, shape=(), dtype=float32)\n",
      "F1 Score average for round 2 = 0.49155042290990913, Loss: 0.7463285326957703\n",
      "Loss:  tf.Tensor(0.72931975, shape=(), dtype=float32)\n",
      "Loss:  tf.Tensor(0.7373853, shape=(), dtype=float32)\n",
      "Loss:  tf.Tensor(0.73450816, shape=(), dtype=float32)\n",
      "Loss:  tf.Tensor(0.7322019, shape=(), dtype=float32)\n",
      "F1 Score average for round 3 = 0.5091449438880519, Loss: 0.7333537936210632\n",
      "Loss:  tf.Tensor(0.7382219, shape=(), dtype=float32)\n",
      "Loss:  tf.Tensor(0.73306245, shape=(), dtype=float32)\n",
      "Loss:  tf.Tensor(0.7349769, shape=(), dtype=float32)\n",
      "Loss:  tf.Tensor(0.734741, shape=(), dtype=float32)\n",
      "F1 Score average for round 4 = 0.5069543065134058, Loss: 0.7352505326271057\n",
      "Loss:  tf.Tensor(0.72725326, shape=(), dtype=float32)\n",
      "Loss:  tf.Tensor(0.74392974, shape=(), dtype=float32)\n",
      "Loss:  tf.Tensor(0.73862255, shape=(), dtype=float32)\n",
      "Loss:  tf.Tensor(0.73648375, shape=(), dtype=float32)\n",
      "F1 Score average for round 5 = 0.500451641929323, Loss: 0.7365723252296448\n",
      "Loss:  tf.Tensor(0.7429247, shape=(), dtype=float32)\n",
      "Loss:  tf.Tensor(0.7421123, shape=(), dtype=float32)\n",
      "Loss:  tf.Tensor(0.7367963, shape=(), dtype=float32)\n",
      "Loss:  tf.Tensor(0.74099064, shape=(), dtype=float32)\n",
      "F1 Score average for round 6 = 0.5033596313036262, Loss: 0.7407059669494629\n",
      "Loss:  tf.Tensor(0.737666, shape=(), dtype=float32)\n",
      "Loss:  tf.Tensor(0.7380663, shape=(), dtype=float32)\n",
      "Loss:  tf.Tensor(0.7421217, shape=(), dtype=float32)\n",
      "Loss:  tf.Tensor(0.750261, shape=(), dtype=float32)\n",
      "F1 Score average for round 7 = 0.4878602994021104, Loss: 0.7420287728309631\n",
      "Loss:  tf.Tensor(0.7414304, shape=(), dtype=float32)\n",
      "Loss:  tf.Tensor(0.73914903, shape=(), dtype=float32)\n",
      "Loss:  tf.Tensor(0.7416851, shape=(), dtype=float32)\n",
      "Loss:  tf.Tensor(0.7496844, shape=(), dtype=float32)\n",
      "F1 Score average for round 8 = 0.4902063471595471, Loss: 0.7429872155189514\n",
      "Loss:  tf.Tensor(0.73200613, shape=(), dtype=float32)\n",
      "Loss:  tf.Tensor(0.7359694, shape=(), dtype=float32)\n",
      "Loss:  tf.Tensor(0.7453309, shape=(), dtype=float32)\n",
      "Loss:  tf.Tensor(0.7353078, shape=(), dtype=float32)\n",
      "F1 Score average for round 9 = 0.5107700285204231, Loss: 0.7371535301208496\n",
      "Loss:  tf.Tensor(0.74787647, shape=(), dtype=float32)\n",
      "Loss:  tf.Tensor(0.7377471, shape=(), dtype=float32)\n",
      "Loss:  tf.Tensor(0.73389554, shape=(), dtype=float32)\n",
      "Loss:  tf.Tensor(0.74010247, shape=(), dtype=float32)\n",
      "F1 Score average for round 10 = 0.5035665173412476, Loss: 0.7399054169654846\n",
      "Loss:  tf.Tensor(0.7435359, shape=(), dtype=float32)\n",
      "Loss:  tf.Tensor(0.74678534, shape=(), dtype=float32)\n",
      "Loss:  tf.Tensor(0.73136944, shape=(), dtype=float32)\n",
      "Loss:  tf.Tensor(0.740222, shape=(), dtype=float32)\n",
      "F1 Score average for round 11 = 0.5122795762195506, Loss: 0.7404781579971313\n",
      "Loss:  tf.Tensor(0.7375068, shape=(), dtype=float32)\n",
      "Loss:  tf.Tensor(0.7398877, shape=(), dtype=float32)\n",
      "Loss:  tf.Tensor(0.7429106, shape=(), dtype=float32)\n",
      "Loss:  tf.Tensor(0.74367726, shape=(), dtype=float32)\n",
      "F1 Score average for round 12 = 0.5022092791842542, Loss: 0.7409956455230713\n",
      "Loss:  tf.Tensor(0.74002963, shape=(), dtype=float32)\n",
      "Loss:  tf.Tensor(0.74592215, shape=(), dtype=float32)\n",
      "Loss:  tf.Tensor(0.74458444, shape=(), dtype=float32)\n",
      "Loss:  tf.Tensor(0.7487289, shape=(), dtype=float32)\n",
      "F1 Score average for round 13 = 0.48899101755440033, Loss: 0.7448163032531738\n",
      "Loss:  tf.Tensor(0.7453598, shape=(), dtype=float32)\n",
      "Loss:  tf.Tensor(0.73454237, shape=(), dtype=float32)\n",
      "Loss:  tf.Tensor(0.7399893, shape=(), dtype=float32)\n",
      "Loss:  tf.Tensor(0.73127526, shape=(), dtype=float32)\n",
      "F1 Score average for round 14 = 0.5237428124949326, Loss: 0.7377917170524597\n",
      "Loss:  tf.Tensor(0.7431466, shape=(), dtype=float32)\n",
      "Loss:  tf.Tensor(0.73641723, shape=(), dtype=float32)\n",
      "Loss:  tf.Tensor(0.7374991, shape=(), dtype=float32)\n",
      "Loss:  tf.Tensor(0.74212766, shape=(), dtype=float32)\n",
      "F1 Score average for round 15 = 0.5123663448004816, Loss: 0.7397976517677307\n",
      "Loss:  tf.Tensor(0.7493875, shape=(), dtype=float32)\n",
      "Loss:  tf.Tensor(0.7441841, shape=(), dtype=float32)\n",
      "Loss:  tf.Tensor(0.73932993, shape=(), dtype=float32)\n",
      "Loss:  tf.Tensor(0.7409139, shape=(), dtype=float32)\n",
      "F1 Score average for round 16 = 0.5134115597459055, Loss: 0.743453860282898\n",
      "Loss:  tf.Tensor(0.7345622, shape=(), dtype=float32)\n",
      "Loss:  tf.Tensor(0.7495842, shape=(), dtype=float32)\n",
      "Loss:  tf.Tensor(0.74862045, shape=(), dtype=float32)\n",
      "Loss:  tf.Tensor(0.7497716, shape=(), dtype=float32)\n",
      "F1 Score average for round 17 = 0.5007541300054545, Loss: 0.7456346154212952\n",
      "Loss:  tf.Tensor(0.74733377, shape=(), dtype=float32)\n",
      "Loss:  tf.Tensor(0.741144, shape=(), dtype=float32)\n",
      "Loss:  tf.Tensor(0.745136, shape=(), dtype=float32)\n",
      "Loss:  tf.Tensor(0.74356014, shape=(), dtype=float32)\n",
      "F1 Score average for round 18 = 0.5112640214176833, Loss: 0.7442934513092041\n",
      "Loss:  tf.Tensor(0.74306965, shape=(), dtype=float32)\n",
      "Loss:  tf.Tensor(0.7482904, shape=(), dtype=float32)\n",
      "Loss:  tf.Tensor(0.74243015, shape=(), dtype=float32)\n",
      "Loss:  tf.Tensor(0.7387646, shape=(), dtype=float32)\n",
      "F1 Score average for round 19 = 0.5099801099739638, Loss: 0.7431386709213257\n",
      "Loss:  tf.Tensor(0.7504245, shape=(), dtype=float32)\n",
      "Loss:  tf.Tensor(0.74455905, shape=(), dtype=float32)\n",
      "Loss:  tf.Tensor(0.741284, shape=(), dtype=float32)\n",
      "Loss:  tf.Tensor(0.7448185, shape=(), dtype=float32)\n",
      "F1 Score average for round 20 = 0.4998772211845607, Loss: 0.7452715039253235\n",
      "Loss:  tf.Tensor(0.74454707, shape=(), dtype=float32)\n",
      "Loss:  tf.Tensor(0.7392082, shape=(), dtype=float32)\n",
      "Loss:  tf.Tensor(0.74348533, shape=(), dtype=float32)\n",
      "Loss:  tf.Tensor(0.7427334, shape=(), dtype=float32)\n",
      "F1 Score average for round 21 = 0.523018982805924, Loss: 0.7424935102462769\n",
      "Loss:  tf.Tensor(0.74346733, shape=(), dtype=float32)\n",
      "Loss:  tf.Tensor(0.7396614, shape=(), dtype=float32)\n",
      "Loss:  tf.Tensor(0.74760026, shape=(), dtype=float32)\n",
      "Loss:  tf.Tensor(0.75231373, shape=(), dtype=float32)\n",
      "F1 Score average for round 22 = 0.49792495003447185, Loss: 0.7457606792449951\n",
      "Loss:  tf.Tensor(0.7387287, shape=(), dtype=float32)\n",
      "Loss:  tf.Tensor(0.7442639, shape=(), dtype=float32)\n",
      "Loss:  tf.Tensor(0.75149083, shape=(), dtype=float32)\n",
      "Loss:  tf.Tensor(0.74764585, shape=(), dtype=float32)\n",
      "F1 Score average for round 23 = 0.5044602362879593, Loss: 0.7455323338508606\n",
      "Loss:  tf.Tensor(0.7474535, shape=(), dtype=float32)\n",
      "Loss:  tf.Tensor(0.7360034, shape=(), dtype=float32)\n",
      "Loss:  tf.Tensor(0.7496556, shape=(), dtype=float32)\n",
      "Loss:  tf.Tensor(0.7434967, shape=(), dtype=float32)\n",
      "F1 Score average for round 24 = 0.5157556195638785, Loss: 0.7441522479057312\n",
      "CV Round complete\n"
     ]
    }
   ],
   "source": [
    "loss_CV = []\n",
    "acc_CV = []\n",
    "f1_scores_averages_all = []\n",
    "loss_values_averages_all = []\n",
    "clients_number = 4\n",
    "patience = 10\n",
    "best_models = []\n",
    "early_stopping_applied = []\n",
    "test_batches_CV = []\n",
    "for train_index, test_index in skf.split(vitals_features_reshaped, vitals_labels_reshaped):\n",
    "    print(\"TRAIN:\", train_index, \"TEST:\", test_index)\n",
    "    X_train_vitals, X_test_vitals = vitals_features_reshaped[train_index], vitals_features_reshaped[test_index]\n",
    "    X_train_labs, X_test_labs = labs_features_reshaped[train_index], labs_features_reshaped[test_index]\n",
    "    y_train, y_test = vitals_labels_reshaped[train_index], vitals_labels_reshaped[test_index]\n",
    "    clients = create_clients(X_train_labs, X_train_vitals ,y_train, num_clients=clients_number, initial='client')\n",
    "    #process and batch the training data for each client\n",
    "    clients_batched = dict()\n",
    "    for (client_name, data) in clients.items():\n",
    "        clients_batched[client_name] = batch_data(data)\n",
    "    #Standardizing the testing set based on all training data\n",
    "    X_train_labs = np.array(X_train_labs)\n",
    "    samples_train, groupedBy_train, sample_values_train = X_train_labs.shape\n",
    "    X_train_labs = np.reshape(X_train_labs, (samples_train*groupedBy_train,sample_values_train))\n",
    "    samples_test, groupedBy_test, sample_values_test = X_test_labs.shape\n",
    "    X_test_labs = np.reshape(X_test_labs, (samples_test*groupedBy_test,sample_values_test))\n",
    "    scaler_labs = StandardScaler()\n",
    "    scaler_labs = scaler_labs.fit(X_train_labs)\n",
    "    X_test_labs = scaler_labs.transform(X_test_labs)\n",
    "    X_test_labs = np.reshape(X_test_labs, (samples_test,groupedBy_test,sample_values_test))\n",
    "\n",
    "\n",
    "    X_train_vitals = np.array(X_train_vitals)\n",
    "    samples_train, groupedBy_train, sample_values_train = X_train_vitals.shape\n",
    "    X_train_vitals = np.reshape(X_train_vitals, (samples_train*groupedBy_train,sample_values_train))\n",
    "    samples_test, groupedBy_test, sample_values_test = X_test_vitals.shape\n",
    "    X_test_vitals = np.reshape(X_test_vitals, (samples_test*groupedBy_test,sample_values_test))\n",
    "    scaler_labs = StandardScaler()\n",
    "    scaler_labs = scaler_labs.fit(X_train_vitals)\n",
    "    X_test_vitals = scaler_labs.transform(X_test_vitals)\n",
    "    X_test_vitals = np.reshape(X_test_vitals, (samples_test,groupedBy_test,sample_values_test))\n",
    "\n",
    "    #process and batch the test set  \n",
    "    test_batched = tf.data.Dataset.from_tensor_slices(({\"Input_1\": list(X_test_labs), \n",
    "    \"Input_2\": list(X_test_vitals)}, list(y_test))).batch(len(y_test))\n",
    "    test_batches_CV.append(test_batched)\n",
    "    #initialize global model\n",
    "    f1_scores_averages = []\n",
    "    loss_values_averages = []\n",
    "    models_CV = []\n",
    "    best_score = 0\n",
    "    rounds_worse_than_before = 0    \n",
    "    rnn_global = RNNModel()\n",
    "    global_model = rnn_global.build()\n",
    "    comms_round = 300\n",
    "    loss = 'binary_crossentropy'\n",
    "    metrics = ['accuracy']\n",
    "    global_loss = []\n",
    "    global_acc = []\n",
    "    learning_rate = 0.01\n",
    "    optimizer = tf.keras.optimizers.Adam(learning_rate=learning_rate)\n",
    "    counter = 0\n",
    "    #commence global training loop\n",
    "    for comm_round in range(comms_round):\n",
    "        if comm_round % 5 == 0 and comm_round > 0:\n",
    "            learning_rate = learning_rate * 0.5\n",
    "            optimizer = tf.keras.optimizers.Adam(learning_rate=learning_rate)\n",
    "        # get the global model's weights - will serve as the initial weights for all local models\n",
    "        global_weights = global_model.get_weights()\n",
    "        \n",
    "        #initial list to collect local model weights after scalling\n",
    "        scaled_local_weight_list = list()\n",
    "\n",
    "        #randomize client data - using keys\n",
    "        client_names= list(clients_batched.keys())\n",
    "        random.shuffle(client_names)\n",
    "        \n",
    "        #loop through each client and create new local model\n",
    "        for client in client_names:\n",
    "            rnn_local = RNNModel()\n",
    "            local_model = rnn_local.build()\n",
    "            local_model.compile(loss=loss, \n",
    "                        optimizer=optimizer, \n",
    "                        metrics=metrics)\n",
    "            \n",
    "            #set local model weight to the weight of the global model\n",
    "            local_model.set_weights(global_weights)\n",
    "\n",
    "            #fit local model with client's data\n",
    "            local_model.fit(clients_batched[client][0], epochs=3, verbose=0, validation_data=clients_batched[client][1])\n",
    "            \n",
    "            #scale the model weights and add to list\n",
    "            scaling_factor = weight_scalling_factor(clients_batched, client)\n",
    "            scaled_weights = scale_model_weights(local_model.get_weights(), scaling_factor)\n",
    "            scaled_local_weight_list.append(scaled_weights)\n",
    "            \n",
    "            #clear session to free memory after each communication round\n",
    "            K.clear_session()\n",
    "            \n",
    "        #to get the average over all the local model, we simply take the sum of the scaled weights\n",
    "        average_weights = sum_scaled_weights(scaled_local_weight_list)\n",
    "        \n",
    "        #update global model \n",
    "        global_model.set_weights(average_weights)\n",
    "\n",
    "        #evaluating the current global model against each clients validation data\n",
    "        f1_scores = 0\n",
    "        loss_values = 0\n",
    "        for client in client_names:\n",
    "            rnn_local = RNNModel()\n",
    "            local_model = rnn_local.build()\n",
    "            local_model.compile(loss=loss, \n",
    "                        optimizer=optimizer, \n",
    "                        metrics=metrics)     \n",
    "            #set local model weight to the weight of the global model\n",
    "            local_model.set_weights(global_weights)\n",
    "            f1_score_acc, loss_value = evaluating_model_own_validation_data_F1(local_model, clients_batched[client][1])\n",
    "            f1_scores += f1_score_acc\n",
    "            loss_values += loss_value\n",
    "        f1_scores = f1_scores / clients_number\n",
    "        loss_values = loss_values / clients_number\n",
    "        print(\"F1 Score average for round {} = {}, Loss: {}\".format(comm_round, f1_scores, loss_values))\n",
    "        models_CV.append(global_model)\n",
    "        f1_scores_averages.append(f1_scores)\n",
    "        loss_values_averages.append(loss_values)\n",
    "        if  len(f1_scores_averages) == 1:\n",
    "            best_score = f1_scores_averages[0]\n",
    "        #checks for early stopping according to f1 score and patience\n",
    "        if len(f1_scores_averages) > 1:\n",
    "            if f1_scores_averages[-1] <= best_score:\n",
    "                rounds_worse_than_before += 1\n",
    "            else:\n",
    "                rounds_worse_than_before = 0\n",
    "                best_score = f1_scores_averages[-1]\n",
    "        if rounds_worse_than_before == patience:\n",
    "            break\n",
    "\n",
    "    if rounds_worse_than_before == patience:\n",
    "        f1_scores_averages_all.append(f1_scores_averages[:-patience])\n",
    "        loss_values_averages_all.append(loss_values_averages[:-patience])\n",
    "        best_models.append(models_CV[:-patience])\n",
    "        early_stopping_applied.append(True)\n",
    "    else:\n",
    "        f1_scores_averages_all.append(f1_scores_averages)\n",
    "        loss_values_averages_all.append(loss_values_averages)\n",
    "        best_models.append(models_CV) \n",
    "        early_stopping_applied.append(False)\n",
    "    print(\"CV Round complete\")"
   ]
  },
  {
   "cell_type": "markdown",
   "metadata": {},
   "source": [
    "# Results for Early Stopping when monitoring the average F1 Score value of all the clients using their own validation data "
   ]
  },
  {
   "cell_type": "code",
   "execution_count": 18,
   "metadata": {},
   "outputs": [
    {
     "data": {
      "image/png": "[encoded data removed]",
      "text/plain": [
       "<Figure size 432x288 with 1 Axes>"
      ]
     },
     "metadata": {
      "needs_background": "light"
     },
     "output_type": "display_data"
    }
   ],
   "source": [
    "plt.subplot(2,1,1)\n",
    "for i in range(len(loss_values_averages_all)):\n",
    "    plt.plot(loss_values_averages_all[i])\n",
    "plt.title('models\\' loss')\n",
    "plt.ylabel('loss')\n",
    "plt.xlabel('Communication rounds')\n",
    "plt.legend(['fold1', 'fold2','fold3', 'fold4', 'fold5'], loc='lower right')\n",
    "plt.savefig(\"Model's Validation loss vs Communication Rounds - First technique with F1-Score - 10 patience\")"
   ]
  },
  {
   "cell_type": "code",
   "execution_count": 19,
   "metadata": {},
   "outputs": [
    {
     "data": {
      "image/png": "[encoded data removed]",
      "text/plain": [
       "<Figure size 432x288 with 1 Axes>"
      ]
     },
     "metadata": {
      "needs_background": "light"
     },
     "output_type": "display_data"
    }
   ],
   "source": [
    "plt.subplot(2,1,1)\n",
    "for i in range(len(f1_scores_averages_all)):\n",
    "    plt.plot(f1_scores_averages_all[i])\n",
    "plt.title('models\\' F1 Score')\n",
    "plt.ylabel('Loss')\n",
    "plt.xlabel('Communication rounds')\n",
    "plt.legend(['fold1', 'fold2','fold3', 'fold4', 'fold5'], loc='lower right')\n",
    "plt.savefig(\"Model's F1-Score vs Communication Rounds - First technique with F1-Score - 10 patience\")"
   ]
  },
  {
   "cell_type": "code",
   "execution_count": 20,
   "metadata": {},
   "outputs": [
    {
     "name": "stdout",
     "output_type": "stream",
     "text": [
      "Confusion Matrix\n",
      "[[ 299   79]\n",
      " [  56 3449]]\n",
      "F1 Score: 0.8983150763240688\n",
      "              precision    recall  f1-score   support\n",
      "\n",
      "     Class 0       0.98      0.98      0.98      3505\n",
      "     Class 1       0.84      0.79      0.82       378\n",
      "\n",
      "    accuracy                           0.97      3883\n",
      "   macro avg       0.91      0.89      0.90      3883\n",
      "weighted avg       0.96      0.97      0.96      3883\n",
      "\n",
      "Confusion Matrix\n",
      "[[ 309   69]\n",
      " [  41 3464]]\n",
      "F1 Score: 0.9166358293596146\n",
      "              precision    recall  f1-score   support\n",
      "\n",
      "     Class 0       0.98      0.99      0.98      3505\n",
      "     Class 1       0.88      0.82      0.85       378\n",
      "\n",
      "    accuracy                           0.97      3883\n",
      "   macro avg       0.93      0.90      0.92      3883\n",
      "weighted avg       0.97      0.97      0.97      3883\n",
      "\n",
      "Confusion Matrix\n",
      "[[ 307   72]\n",
      " [  55 3449]]\n",
      "F1 Score: 0.9052658473448884\n",
      "              precision    recall  f1-score   support\n",
      "\n",
      "     Class 0       0.98      0.98      0.98      3504\n",
      "     Class 1       0.85      0.81      0.83       379\n",
      "\n",
      "    accuracy                           0.97      3883\n",
      "   macro avg       0.91      0.90      0.91      3883\n",
      "weighted avg       0.97      0.97      0.97      3883\n",
      "\n",
      "WARNING:tensorflow:5 out of the last 14 calls to <function Model.make_predict_function.<locals>.predict_function at 0x000001F0B2479D90> triggered tf.function retracing. Tracing is expensive and the excessive number of tracings could be due to (1) creating @tf.function repeatedly in a loop, (2) passing tensors with different shapes, (3) passing Python objects instead of tensors. For (1), please define your @tf.function outside of the loop. For (2), @tf.function has experimental_relax_shapes=True option that relaxes argument shapes that can avoid unnecessary retracing. For (3), please refer to https://www.tensorflow.org/guide/function#controlling_retracing and https://www.tensorflow.org/api_docs/python/tf/function for  more details.\n",
      "Confusion Matrix\n",
      "[[ 298   81]\n",
      " [  52 3452]]\n",
      "F1 Score: 0.8993290997827864\n",
      "              precision    recall  f1-score   support\n",
      "\n",
      "     Class 0       0.98      0.99      0.98      3504\n",
      "     Class 1       0.85      0.79      0.82       379\n",
      "\n",
      "    accuracy                           0.97      3883\n",
      "   macro avg       0.91      0.89      0.90      3883\n",
      "weighted avg       0.96      0.97      0.97      3883\n",
      "\n",
      "WARNING:tensorflow:6 out of the last 15 calls to <function Model.make_predict_function.<locals>.predict_function at 0x000001F0B0BF22F0> triggered tf.function retracing. Tracing is expensive and the excessive number of tracings could be due to (1) creating @tf.function repeatedly in a loop, (2) passing tensors with different shapes, (3) passing Python objects instead of tensors. For (1), please define your @tf.function outside of the loop. For (2), @tf.function has experimental_relax_shapes=True option that relaxes argument shapes that can avoid unnecessary retracing. For (3), please refer to https://www.tensorflow.org/guide/function#controlling_retracing and https://www.tensorflow.org/api_docs/python/tf/function for  more details.\n",
      "Confusion Matrix\n",
      "[[ 292   86]\n",
      " [  67 3437]]\n",
      "F1 Score: 0.8853142337782606\n",
      "              precision    recall  f1-score   support\n",
      "\n",
      "     Class 0       0.98      0.98      0.98      3504\n",
      "     Class 1       0.81      0.77      0.79       378\n",
      "\n",
      "    accuracy                           0.96      3882\n",
      "   macro avg       0.89      0.88      0.89      3882\n",
      "weighted avg       0.96      0.96      0.96      3882\n",
      "\n",
      "Average F1 Score: 0.9009720173179238\n"
     ]
    }
   ],
   "source": [
    "from sklearn.metrics import classification_report\n",
    "average_f1_score = 0\n",
    "#Confution Matrix and Classification Report\n",
    "for i in range(len(best_models)):\n",
    "    Y_pred = best_models[i][-1].predict(test_batches_CV[i])\n",
    "    y_pred = np.where(Y_pred > 0.5, 1, 0)\n",
    "    print('Confusion Matrix')\n",
    "    y_pred = y_pred.max(axis=1)\n",
    "    y_true = np.concatenate([y for x, y in test_batches_CV[i]], axis=0)\n",
    "    print(confusion_matrix(y_true, y_pred, labels=[True, False]))\n",
    "    f1_score_acc = f1_score(y_true, y_pred, average='macro')\n",
    "    average_f1_score += f1_score_acc\n",
    "    print(\"F1 Score: {}\".format(f1_score_acc))\n",
    "    print(classification_report(y_true, y_pred, target_names=['Class 0', 'Class 1']))\n",
    "average_f1_score = average_f1_score / len(best_models)\n",
    "print(\"Average F1 Score: {}\".format(average_f1_score))\n"
   ]
  },
  {
   "cell_type": "code",
   "execution_count": 21,
   "metadata": {},
   "outputs": [
    {
     "name": "stdout",
     "output_type": "stream",
     "text": [
      "FPR:  [0.         0.01597718 1.        ]\n",
      "TPR:  [0.         0.79100529 1.        ]\n"
     ]
    },
    {
     "data": {
      "image/png": "[encoded data removed]",
      "text/plain": [
       "<Figure size 432x288 with 1 Axes>"
      ]
     },
     "metadata": {
      "needs_background": "light"
     },
     "output_type": "display_data"
    },
    {
     "name": "stdout",
     "output_type": "stream",
     "text": [
      "FPR:  [0.         0.01169757 1.        ]\n",
      "TPR:  [0.         0.81746032 1.        ]\n"
     ]
    },
    {
     "data": {
      "image/png": "[encoded data removed]",
      "text/plain": [
       "<Figure size 432x288 with 1 Axes>"
      ]
     },
     "metadata": {
      "needs_background": "light"
     },
     "output_type": "display_data"
    },
    {
     "name": "stdout",
     "output_type": "stream",
     "text": [
      "FPR:  [0.         0.01569635 1.        ]\n",
      "TPR:  [0.         0.81002639 1.        ]\n"
     ]
    },
    {
     "data": {
      "image/png": "[encoded data removed]",
      "text/plain": [
       "<Figure size 432x288 with 1 Axes>"
      ]
     },
     "metadata": {
      "needs_background": "light"
     },
     "output_type": "display_data"
    },
    {
     "name": "stdout",
     "output_type": "stream",
     "text": [
      "FPR:  [0.         0.01484018 1.        ]\n",
      "TPR:  [0.         0.78627968 1.        ]\n"
     ]
    },
    {
     "data": {
      "image/png": "[encoded data removed]",
      "text/plain": [
       "<Figure size 432x288 with 1 Axes>"
      ]
     },
     "metadata": {
      "needs_background": "light"
     },
     "output_type": "display_data"
    },
    {
     "name": "stdout",
     "output_type": "stream",
     "text": [
      "FPR:  [0.       0.019121 1.      ]\n",
      "TPR:  [0.         0.77248677 1.        ]\n"
     ]
    },
    {
     "data": {
      "image/png": "[encoded data removed]",
      "text/plain": [
       "<Figure size 432x288 with 1 Axes>"
      ]
     },
     "metadata": {
      "needs_background": "light"
     },
     "output_type": "display_data"
    }
   ],
   "source": [
    "import sklearn.metrics as metrics\n",
    "\n",
    "for i in range(len(best_models)):\n",
    "    Y_pred = best_models[i][-1].predict(test_batches_CV[i])\n",
    "    y_pred = np.where(Y_pred > 0.5, 1, 0)\n",
    "    y_pred = y_pred.max(axis=1)\n",
    "    y_true = np.concatenate([y for x, y in test_batches_CV[i]], axis=0)\n",
    "    fpr, tpr, threshold = metrics.roc_curve(y_true, y_pred)\n",
    "    roc_auc = metrics.auc(fpr, tpr)\n",
    "    print(\"FPR: \", fpr)\n",
    "    print(\"TPR: \", tpr)\n",
    "    # method I: plt\n",
    "    plt.title('Receiver Operating Characteristic')\n",
    "    plt.plot(fpr, tpr, 'b', label = 'AUC = %0.4f' % roc_auc)\n",
    "    plt.legend(loc = 'lower right')\n",
    "    plt.plot([0, 1], [0, 1],'r--')\n",
    "    plt.xlim([0, 1])\n",
    "    plt.ylim([0, 1])\n",
    "    plt.ylabel('True Positive Rate')\n",
    "    plt.xlabel('False Positive Rate')\n",
    "    plt.show()"
   ]
  },
  {
   "cell_type": "code",
   "execution_count": 22,
   "metadata": {},
   "outputs": [
    {
     "name": "stdout",
     "output_type": "stream",
     "text": [
      "Precision:  [0.09734741 0.84225352 1.        ]\n",
      "Recall:  [1.         0.79100529 0.        ]\n",
      "Logistic: f1=0.898 auc=0.827\n"
     ]
    },
    {
     "data": {
      "image/png": "[encoded data removed]",
      "text/plain": [
       "<Figure size 432x288 with 1 Axes>"
      ]
     },
     "metadata": {
      "needs_background": "light"
     },
     "output_type": "display_data"
    },
    {
     "name": "stdout",
     "output_type": "stream",
     "text": [
      "Precision:  [0.09734741 0.88285714 1.        ]\n",
      "Recall:  [1.         0.81746032 0.        ]\n",
      "Logistic: f1=0.917 auc=0.859\n"
     ]
    },
    {
     "data": {
      "image/png": "[encoded data removed]",
      "text/plain": [
       "<Figure size 432x288 with 1 Axes>"
      ]
     },
     "metadata": {
      "needs_background": "light"
     },
     "output_type": "display_data"
    },
    {
     "name": "stdout",
     "output_type": "stream",
     "text": [
      "Precision:  [0.09760494 0.8480663  1.        ]\n",
      "Recall:  [1.         0.81002639 0.        ]\n",
      "Logistic: f1=0.905 auc=0.838\n"
     ]
    },
    {
     "data": {
      "image/png": "[encoded data removed]",
      "text/plain": [
       "<Figure size 432x288 with 1 Axes>"
      ]
     },
     "metadata": {
      "needs_background": "light"
     },
     "output_type": "display_data"
    },
    {
     "name": "stdout",
     "output_type": "stream",
     "text": [
      "Precision:  [0.09760494 0.85142857 1.        ]\n",
      "Recall:  [1.         0.78627968 0.        ]\n",
      "Logistic: f1=0.899 auc=0.829\n"
     ]
    },
    {
     "data": {
      "image/png": "[encoded data removed]",
      "text/plain": [
       "<Figure size 432x288 with 1 Axes>"
      ]
     },
     "metadata": {
      "needs_background": "light"
     },
     "output_type": "display_data"
    },
    {
     "name": "stdout",
     "output_type": "stream",
     "text": [
      "Precision:  [0.09737249 0.81337047 1.        ]\n",
      "Recall:  [1.         0.77248677 0.        ]\n",
      "Logistic: f1=0.885 auc=0.804\n"
     ]
    },
    {
     "data": {
      "image/png": "[encoded data removed]",
      "text/plain": [
       "<Figure size 432x288 with 1 Axes>"
      ]
     },
     "metadata": {
      "needs_background": "light"
     },
     "output_type": "display_data"
    }
   ],
   "source": [
    "from sklearn.metrics import precision_recall_curve\n",
    "from sklearn.metrics import auc\n",
    "\n",
    "for i in range(len(best_models)):\n",
    "    Y_pred = best_models[i][-1].predict(test_batches_CV[i])\n",
    "    y_pred = np.where(Y_pred > 0.5, 1, 0)\n",
    "    y_pred = y_pred.max(axis=1)\n",
    "    y_true = np.concatenate([y for x, y in test_batches_CV[i]], axis=0)\n",
    "    lr_precision, lr_recall, _ = precision_recall_curve(y_true, y_pred)\n",
    "    lr_f1, lr_auc = f1_score(y_true, y_pred, average='macro'), auc(lr_recall, lr_precision)\n",
    "    # summarize scores\n",
    "    print(\"Precision: \", lr_precision)\n",
    "    print(\"Recall: \", lr_recall)\n",
    "    print('Logistic: f1=%.3f auc=%.3f' % (lr_f1, lr_auc))\n",
    "    # plot the precision-recall curves\n",
    "    no_skill = len(y_true[y_true==1]) / len(y_true)\n",
    "    plt.plot([0, 1], [no_skill, no_skill], linestyle='--')\n",
    "    plt.plot(lr_recall, lr_precision, marker='.', label = 'AUC = %0.4f' % lr_auc)\n",
    "    # axis labels\n",
    "    plt.xlabel('Recall')\n",
    "    plt.ylabel('Precision')\n",
    "    # show the legend\n",
    "    plt.legend()\n",
    "    # show the plot\n",
    "    plt.show()"
   ]
  },
  {
   "cell_type": "code",
   "execution_count": null,
   "metadata": {},
   "outputs": [],
   "source": []
  }
 ],
 "metadata": {
  "interpreter": {
   "hash": "8aa1c0be709ee1148997e0f6aecc3955022e8b7c3c1bed99961a819ad1fd1562"
  },
  "kernelspec": {
   "display_name": "Python 3.7.2 64-bit",
   "language": "python",
   "name": "python3"
  },
  "language_info": {
   "codemirror_mode": {
    "name": "ipython",
    "version": 3
   },
   "file_extension": ".py",
   "mimetype": "text/x-python",
   "name": "python",
   "nbconvert_exporter": "python",
   "pygments_lexer": "ipython3",
   "version": "3.7.2"
  },
  "orig_nbformat": 4
 },
 "nbformat": 4,
 "nbformat_minor": 2
}
